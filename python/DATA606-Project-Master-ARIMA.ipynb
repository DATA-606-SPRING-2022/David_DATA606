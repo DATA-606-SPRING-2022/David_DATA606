{
 "cells": [
  {
   "cell_type": "markdown",
   "metadata": {
    "id": "lRmgmXQ0OBXv"
   },
   "source": [
    "# Capstone Project\n",
    "### DATA 606, Spring 2022, Dr. Chaojie Wang\n",
    "\n",
    "#### Description: \n",
    "This notebook uses the ARIMA Machine Learning data to apply to the cleansed summary-level micromobility data generated in the EDA jupyter notebook.  This notebook will build the ARIMA model and attempt to use it to predict micromobility usage in the cities in our analysis.  \n",
    "\n",
    "#### Dataset Sources:\n",
    "<ul><li>New York City: <a href='https://ride.citibikenyc.com/system-data'>https://ride.citibikenyc.com/system-data</a> </li>\n",
    "    <li>Chicago: <a href='https://ride.divvybikes.com/system-data'>https://ride.divvybikes.com/system-data</a> </li>\n",
    "    <li>San Francisco: <a href='https://www.lyft.com/bikes/bay-wheels/system-data'>https://www.lyft.com/bikes/bay-wheels/system-data</a> </li>\n",
    "</ul>"
   ]
  },
  {
   "cell_type": "markdown",
   "metadata": {
    "id": "OHVP43oha7op"
   },
   "source": [
    "## Function Definitions & Setup\n",
    "This section deals with imports and function definitions"
   ]
  },
  {
   "cell_type": "raw",
   "metadata": {},
   "source": [
    "Run these from the command line:\n",
    "pip install shapely\n",
    "conda install --channel conda-forge geopandas\n",
    "conda install pygeos --channel conda-forge"
   ]
  },
  {
   "cell_type": "code",
   "execution_count": 2,
   "metadata": {},
   "outputs": [
    {
     "data": {
      "text/plain": [
       "'1.3.4'"
      ]
     },
     "execution_count": 2,
     "metadata": {},
     "output_type": "execute_result"
    }
   ],
   "source": [
    "import pandas as pd\n",
    "pd.__version__"
   ]
  },
  {
   "cell_type": "raw",
   "metadata": {},
   "source": [
    "# For plotting on a map\n",
    "import geopandas as gp"
   ]
  },
  {
   "cell_type": "code",
   "execution_count": 3,
   "metadata": {},
   "outputs": [],
   "source": [
    "from matplotlib import pyplot as plt"
   ]
  },
  {
   "cell_type": "code",
   "execution_count": 4,
   "metadata": {},
   "outputs": [],
   "source": [
    "import numpy as np"
   ]
  },
  {
   "cell_type": "code",
   "execution_count": 5,
   "metadata": {},
   "outputs": [],
   "source": [
    "import glob"
   ]
  },
  {
   "cell_type": "code",
   "execution_count": 6,
   "metadata": {
    "id": "eXY2L8vUOwgm"
   },
   "outputs": [],
   "source": [
    "import os\n",
    "from os.path import join, isdir\n",
    "from os import mkdir, path"
   ]
  },
  {
   "cell_type": "code",
   "execution_count": 7,
   "metadata": {},
   "outputs": [],
   "source": [
    "import datetime"
   ]
  },
  {
   "cell_type": "code",
   "execution_count": 8,
   "metadata": {},
   "outputs": [],
   "source": [
    "# Import my helper py file to help with importing the data\n",
    "import dfimporthelpers as imp"
   ]
  },
  {
   "cell_type": "code",
   "execution_count": 12,
   "metadata": {},
   "outputs": [],
   "source": [
    "# For ACF and PACF plots that are used in SARIMA\n",
    "from statsmodels.graphics.tsaplots import plot_acf, plot_pacf"
   ]
  },
  {
   "cell_type": "markdown",
   "metadata": {},
   "source": [
    "<br><br>\n",
    "\n",
    "# Load the prepared micromobility data that is pre-grouped by date of each trip by city"
   ]
  },
  {
   "cell_type": "code",
   "execution_count": 63,
   "metadata": {
    "tags": []
   },
   "outputs": [],
   "source": [
    "dir_path = '/Users/DF/Library/CloudStorage/OneDrive-Personal/Documents/' + \\\n",
    "           'Grad School-David’s MacBook Pro/Spring 2022 - Capstone/JupyterNB/'\n",
    "\n",
    "os.chdir(dir_path)"
   ]
  },
  {
   "cell_type": "code",
   "execution_count": 64,
   "metadata": {},
   "outputs": [],
   "source": [
    "df = pd.read_csv('nyc_chicago_sf_tripsbymonth_jan19tojan22.csv', low_memory=False, dtype='unicode')"
   ]
  },
  {
   "cell_type": "code",
   "execution_count": 68,
   "metadata": {},
   "outputs": [],
   "source": [
    "# Set field types\n",
    "df['start_date'] = pd.to_datetime(df['year-month']) \n",
    "df['#trips'] = df['#trips'].astype(int)"
   ]
  },
  {
   "cell_type": "code",
   "execution_count": 69,
   "metadata": {},
   "outputs": [],
   "source": [
    "# Fill nulls in #Trips with 0\n",
    "df[['#trips']] = df[['#trips']].fillna(value=0)"
   ]
  },
  {
   "cell_type": "code",
   "execution_count": 70,
   "metadata": {},
   "outputs": [],
   "source": [
    "# Set the start_date as the dataframe's index\n",
    "df.set_index('start_date', inplace=True)"
   ]
  },
  {
   "cell_type": "markdown",
   "metadata": {
    "tags": []
   },
   "source": [
    "<br />\n",
    "\n",
    "### View the data"
   ]
  },
  {
   "cell_type": "code",
   "execution_count": 71,
   "metadata": {},
   "outputs": [
    {
     "data": {
      "text/html": [
       "<div>\n",
       "<style scoped>\n",
       "    .dataframe tbody tr th:only-of-type {\n",
       "        vertical-align: middle;\n",
       "    }\n",
       "\n",
       "    .dataframe tbody tr th {\n",
       "        vertical-align: top;\n",
       "    }\n",
       "\n",
       "    .dataframe thead th {\n",
       "        text-align: right;\n",
       "    }\n",
       "</style>\n",
       "<table border=\"1\" class=\"dataframe\">\n",
       "  <thead>\n",
       "    <tr style=\"text-align: right;\">\n",
       "      <th></th>\n",
       "      <th>year-month</th>\n",
       "      <th>city</th>\n",
       "      <th>#trips</th>\n",
       "      <th>month_date</th>\n",
       "    </tr>\n",
       "    <tr>\n",
       "      <th>start_date</th>\n",
       "      <th></th>\n",
       "      <th></th>\n",
       "      <th></th>\n",
       "      <th></th>\n",
       "    </tr>\n",
       "  </thead>\n",
       "  <tbody>\n",
       "    <tr>\n",
       "      <th>2019-01-01</th>\n",
       "      <td>2019-01</td>\n",
       "      <td>Chicago</td>\n",
       "      <td>103272</td>\n",
       "      <td>2019-01-01</td>\n",
       "    </tr>\n",
       "    <tr>\n",
       "      <th>2019-01-01</th>\n",
       "      <td>2019-01</td>\n",
       "      <td>NYC</td>\n",
       "      <td>967287</td>\n",
       "      <td>2019-01-01</td>\n",
       "    </tr>\n",
       "    <tr>\n",
       "      <th>2019-01-01</th>\n",
       "      <td>2019-01</td>\n",
       "      <td>San Francisco</td>\n",
       "      <td>192082</td>\n",
       "      <td>2019-01-01</td>\n",
       "    </tr>\n",
       "    <tr>\n",
       "      <th>2019-02-01</th>\n",
       "      <td>2019-02</td>\n",
       "      <td>Chicago</td>\n",
       "      <td>96186</td>\n",
       "      <td>2019-02-01</td>\n",
       "    </tr>\n",
       "    <tr>\n",
       "      <th>2019-02-01</th>\n",
       "      <td>2019-02</td>\n",
       "      <td>NYC</td>\n",
       "      <td>943744</td>\n",
       "      <td>2019-02-01</td>\n",
       "    </tr>\n",
       "  </tbody>\n",
       "</table>\n",
       "</div>"
      ],
      "text/plain": [
       "           year-month           city  #trips month_date\n",
       "start_date                                             \n",
       "2019-01-01    2019-01        Chicago  103272 2019-01-01\n",
       "2019-01-01    2019-01            NYC  967287 2019-01-01\n",
       "2019-01-01    2019-01  San Francisco  192082 2019-01-01\n",
       "2019-02-01    2019-02        Chicago   96186 2019-02-01\n",
       "2019-02-01    2019-02            NYC  943744 2019-02-01"
      ]
     },
     "execution_count": 71,
     "metadata": {},
     "output_type": "execute_result"
    }
   ],
   "source": [
    "df.head()"
   ]
  },
  {
   "cell_type": "code",
   "execution_count": 72,
   "metadata": {},
   "outputs": [
    {
     "data": {
      "text/plain": [
       "year-month            object\n",
       "city                  object\n",
       "#trips                 int64\n",
       "month_date    datetime64[ns]\n",
       "dtype: object"
      ]
     },
     "execution_count": 72,
     "metadata": {},
     "output_type": "execute_result"
    }
   ],
   "source": [
    "df.dtypes"
   ]
  },
  {
   "cell_type": "markdown",
   "metadata": {},
   "source": [
    "<br />\n",
    "\n",
    "### Plot by Date"
   ]
  },
  {
   "cell_type": "code",
   "execution_count": 73,
   "metadata": {
    "tags": []
   },
   "outputs": [],
   "source": [
    "# Pivot to prepare to plot the years and cities\n",
    "df_pivot = df.pivot(columns='city', values='#trips')"
   ]
  },
  {
   "cell_type": "code",
   "execution_count": 74,
   "metadata": {},
   "outputs": [
    {
     "data": {
      "text/html": [
       "<div>\n",
       "<style scoped>\n",
       "    .dataframe tbody tr th:only-of-type {\n",
       "        vertical-align: middle;\n",
       "    }\n",
       "\n",
       "    .dataframe tbody tr th {\n",
       "        vertical-align: top;\n",
       "    }\n",
       "\n",
       "    .dataframe thead th {\n",
       "        text-align: right;\n",
       "    }\n",
       "</style>\n",
       "<table border=\"1\" class=\"dataframe\">\n",
       "  <thead>\n",
       "    <tr style=\"text-align: right;\">\n",
       "      <th>city</th>\n",
       "      <th>Chicago</th>\n",
       "      <th>NYC</th>\n",
       "      <th>San Francisco</th>\n",
       "    </tr>\n",
       "    <tr>\n",
       "      <th>start_date</th>\n",
       "      <th></th>\n",
       "      <th></th>\n",
       "      <th></th>\n",
       "    </tr>\n",
       "  </thead>\n",
       "  <tbody>\n",
       "    <tr>\n",
       "      <th>2019-01-01</th>\n",
       "      <td>103272</td>\n",
       "      <td>967287</td>\n",
       "      <td>192082</td>\n",
       "    </tr>\n",
       "    <tr>\n",
       "      <th>2019-02-01</th>\n",
       "      <td>96186</td>\n",
       "      <td>943744</td>\n",
       "      <td>183412</td>\n",
       "    </tr>\n",
       "    <tr>\n",
       "      <th>2019-03-01</th>\n",
       "      <td>165611</td>\n",
       "      <td>1327960</td>\n",
       "      <td>256299</td>\n",
       "    </tr>\n",
       "    <tr>\n",
       "      <th>2019-04-01</th>\n",
       "      <td>265310</td>\n",
       "      <td>1766094</td>\n",
       "      <td>239111</td>\n",
       "    </tr>\n",
       "    <tr>\n",
       "      <th>2019-05-01</th>\n",
       "      <td>367458</td>\n",
       "      <td>1924563</td>\n",
       "      <td>182163</td>\n",
       "    </tr>\n",
       "  </tbody>\n",
       "</table>\n",
       "</div>"
      ],
      "text/plain": [
       "city        Chicago      NYC  San Francisco\n",
       "start_date                                 \n",
       "2019-01-01   103272   967287         192082\n",
       "2019-02-01    96186   943744         183412\n",
       "2019-03-01   165611  1327960         256299\n",
       "2019-04-01   265310  1766094         239111\n",
       "2019-05-01   367458  1924563         182163"
      ]
     },
     "execution_count": 74,
     "metadata": {},
     "output_type": "execute_result"
    }
   ],
   "source": [
    "df_pivot.head()"
   ]
  },
  {
   "cell_type": "code",
   "execution_count": 76,
   "metadata": {
    "tags": []
   },
   "outputs": [
    {
     "data": {
      "text/plain": [
       "<Figure size 432x288 with 0 Axes>"
      ]
     },
     "metadata": {},
     "output_type": "display_data"
    },
    {
     "data": {
      "image/png": "[encoded data removed]",
      "text/plain": [
       "<Figure size 720x432 with 1 Axes>"
      ]
     },
     "metadata": {
      "needs_background": "light"
     },
     "output_type": "display_data"
    }
   ],
   "source": [
    "heading = 'Total Trips over Time'\n",
    "\n",
    "plt.figure()\n",
    "ax = df_pivot.plot.line(stacked=False, figsize=(10,6), title=heading)\n",
    "ax.set_ylabel('Number of Trips')\n",
    "    \n",
    "# Display to screen\n",
    "plt.show()"
   ]
  },
  {
   "cell_type": "markdown",
   "metadata": {
    "tags": []
   },
   "source": [
    "### First we'll analyze Chicago"
   ]
  },
  {
   "cell_type": "code",
   "execution_count": 85,
   "metadata": {
    "tags": []
   },
   "outputs": [],
   "source": [
    "df_chicago = df[(df['city'] == 'Chicago') & (df['year-month'] < '2022-01')]"
   ]
  },
  {
   "cell_type": "markdown",
   "metadata": {},
   "source": [
    "<br />\n",
    "\n",
    "### Determine Parameters for the SARIMA Model\n",
    "##### Reference Source: https://towardsdatascience.com/how-to-model-a-time-series-through-a-sarima-model-e7587f85929c\n",
    "\n",
    "SARIMA(p,d,q)(P,D,Q)m\n",
    "\n",
    "<ul>\n",
    "    <li>p: order of the AR part</li>\n",
    "    <li>d: degree of first differencing involved</li>\n",
    "    <li>q: order of the moving average part</li>\n",
    "    <li>P: Seasonal autoregressive order</li>\n",
    "    <li>D: Seasonal difference order</li>\n",
    "    <li>Q: Seasonal moving average order</li>\n",
    "    <li>m: The number of time steps for a single seasonal period</li>\n",
    "</ul>"
   ]
  },
  {
   "cell_type": "code",
   "execution_count": 94,
   "metadata": {},
   "outputs": [
    {
     "data": {
      "text/html": [
       "<div>\n",
       "<style scoped>\n",
       "    .dataframe tbody tr th:only-of-type {\n",
       "        vertical-align: middle;\n",
       "    }\n",
       "\n",
       "    .dataframe tbody tr th {\n",
       "        vertical-align: top;\n",
       "    }\n",
       "\n",
       "    .dataframe thead th {\n",
       "        text-align: right;\n",
       "    }\n",
       "</style>\n",
       "<table border=\"1\" class=\"dataframe\">\n",
       "  <thead>\n",
       "    <tr style=\"text-align: right;\">\n",
       "      <th></th>\n",
       "      <th>year-month</th>\n",
       "      <th>city</th>\n",
       "      <th>#trips</th>\n",
       "      <th>month_date</th>\n",
       "    </tr>\n",
       "    <tr>\n",
       "      <th>start_date</th>\n",
       "      <th></th>\n",
       "      <th></th>\n",
       "      <th></th>\n",
       "      <th></th>\n",
       "    </tr>\n",
       "  </thead>\n",
       "  <tbody>\n",
       "    <tr>\n",
       "      <th>2019-01-01</th>\n",
       "      <td>2019-01</td>\n",
       "      <td>Chicago</td>\n",
       "      <td>103272</td>\n",
       "      <td>2019-01-01</td>\n",
       "    </tr>\n",
       "    <tr>\n",
       "      <th>2019-02-01</th>\n",
       "      <td>2019-02</td>\n",
       "      <td>Chicago</td>\n",
       "      <td>96186</td>\n",
       "      <td>2019-02-01</td>\n",
       "    </tr>\n",
       "    <tr>\n",
       "      <th>2019-03-01</th>\n",
       "      <td>2019-03</td>\n",
       "      <td>Chicago</td>\n",
       "      <td>165611</td>\n",
       "      <td>2019-03-01</td>\n",
       "    </tr>\n",
       "    <tr>\n",
       "      <th>2019-04-01</th>\n",
       "      <td>2019-04</td>\n",
       "      <td>Chicago</td>\n",
       "      <td>265310</td>\n",
       "      <td>2019-04-01</td>\n",
       "    </tr>\n",
       "    <tr>\n",
       "      <th>2019-05-01</th>\n",
       "      <td>2019-05</td>\n",
       "      <td>Chicago</td>\n",
       "      <td>367458</td>\n",
       "      <td>2019-05-01</td>\n",
       "    </tr>\n",
       "  </tbody>\n",
       "</table>\n",
       "</div>"
      ],
      "text/plain": [
       "           year-month     city  #trips month_date\n",
       "start_date                                       \n",
       "2019-01-01    2019-01  Chicago  103272 2019-01-01\n",
       "2019-02-01    2019-02  Chicago   96186 2019-02-01\n",
       "2019-03-01    2019-03  Chicago  165611 2019-03-01\n",
       "2019-04-01    2019-04  Chicago  265310 2019-04-01\n",
       "2019-05-01    2019-05  Chicago  367458 2019-05-01"
      ]
     },
     "execution_count": 94,
     "metadata": {},
     "output_type": "execute_result"
    }
   ],
   "source": [
    "df_chicago.head(5)"
   ]
  },
  {
   "cell_type": "markdown",
   "metadata": {},
   "source": [
    "### Determine Value of p by using an ACF plot. p corresponds to the maximum value in the ACF graph external to the confidence intervals "
   ]
  },
  {
   "cell_type": "code",
   "execution_count": 99,
   "metadata": {},
   "outputs": [
    {
     "data": {
      "image/png": "[encoded data removed]",
      "text/plain": [
       "<Figure size 432x288 with 1 Axes>"
      ]
     },
     "metadata": {
      "needs_background": "light"
     },
     "output_type": "display_data"
    }
   ],
   "source": [
    "plot_acf(df_chicago['#trips'], lags=12)\n",
    "plt.show()"
   ]
  },
  {
   "cell_type": "markdown",
   "metadata": {},
   "source": [
    "#### Based on this, our p value is 2"
   ]
  },
  {
   "cell_type": "markdown",
   "metadata": {},
   "source": [
    "### Determine Value of d by using the Dickey-Fuller test to determine Stationarity"
   ]
  },
  {
   "cell_type": "markdown",
   "metadata": {},
   "source": [
    "#### Source of function used: https://towardsdatascience.com/how-to-model-a-time-series-through-a-sarima-model-e7587f85929c\n",
    "\n",
    "We will use the Dickey-Fuller test"
   ]
  },
  {
   "cell_type": "markdown",
   "metadata": {},
   "source": [
    "from statsmodels.tsa.stattools import adfuller\n",
    "\n",
    "def test_stationarity(timeseries):\n",
    "    \n",
    "    dftest = adfuller(timeseries, autolag='AIC')\n",
    "    dfoutput = pd.Series(dftest[0:4], index=['Test Statistic','p-value','#Lags Used','Number of Observations Used'])\n",
    "    for key,value in dftest[4].items():\n",
    "        dfoutput['Critical Value (%s)'%key] = value\n",
    "    \n",
    "    critical_value = dftest[4]['5%']\n",
    "    test_statistic = dftest[0]\n",
    "    alpha = 1e-3\n",
    "    pvalue = dftest[1]\n",
    "    if pvalue < alpha and test_statistic < critical_value:  # null hypothesis: x is non stationary\n",
    "        print(\"X is stationary\", 'p value = ', pvalue)\n",
    "        return True\n",
    "    else:\n",
    "        print(\"X is not stationary\")\n",
    "        return False"
   ]
  },
  {
   "cell_type": "code",
   "execution_count": 107,
   "metadata": {},
   "outputs": [
    {
     "name": "stdout",
     "output_type": "stream",
     "text": [
      "X is stationary p value =  5.941204732686406e-05\n"
     ]
    }
   ],
   "source": [
    "ts = df_chicago['#trips']\n",
    "\n",
    "ts_diff = pd.Series(ts)\n",
    "d = 0\n",
    "while test_stationarity(ts_diff) is False:\n",
    "    ts_diff = ts_diff.diff().dropna()\n",
    "    d = d + 1"
   ]
  },
  {
   "cell_type": "code",
   "execution_count": 105,
   "metadata": {},
   "outputs": [
    {
     "name": "stdout",
     "output_type": "stream",
     "text": [
      "The value of d =  0\n"
     ]
    }
   ],
   "source": [
    "print('The value of d = ', d)"
   ]
  },
  {
   "cell_type": "markdown",
   "metadata": {},
   "source": [
    "#### Based on this, our d value is 0"
   ]
  },
  {
   "cell_type": "code",
   "execution_count": null,
   "metadata": {},
   "outputs": [],
   "source": []
  },
  {
   "cell_type": "markdown",
   "metadata": {},
   "source": [
    "### Determine Value of q by using the PACF plot"
   ]
  },
  {
   "cell_type": "code",
   "execution_count": 100,
   "metadata": {},
   "outputs": [
    {
     "name": "stderr",
     "output_type": "stream",
     "text": [
      "/Users/DF/opt/anaconda3/lib/python3.9/site-packages/statsmodels/regression/linear_model.py:1434: RuntimeWarning: invalid value encountered in sqrt\n",
      "  return rho, np.sqrt(sigmasq)\n"
     ]
    },
    {
     "data": {
      "image/png": "[encoded data removed]",
      "text/plain": [
       "<Figure size 432x288 with 1 Axes>"
      ]
     },
     "metadata": {
      "needs_background": "light"
     },
     "output_type": "display_data"
    }
   ],
   "source": [
    "plot_pacf(df_chicago['#trips'], lags=12)\n",
    "plt.show()"
   ]
  },
  {
   "cell_type": "markdown",
   "metadata": {},
   "source": [
    "#### Based on this, our q value is 12 as it is the maximum value outside the confidence interval (blue shade)"
   ]
  },
  {
   "cell_type": "markdown",
   "metadata": {},
   "source": [
    "### Train the Model\n",
    "##### Source of Functions: https://towardsdatascience.com/how-to-model-a-time-series-through-a-sarima-model-e7587f85929c\n"
   ]
  },
  {
   "cell_type": "code",
   "execution_count": 134,
   "metadata": {},
   "outputs": [],
   "source": [
    "ts = df_chicago['#trips']\n",
    "\n",
    "train = ts.iloc[:-12]\n",
    "test = ts.iloc[-12:]"
   ]
  },
  {
   "cell_type": "code",
   "execution_count": 135,
   "metadata": {},
   "outputs": [
    {
     "name": "stdout",
     "output_type": "stream",
     "text": [
      "All:  (36,)\n",
      "Train:  (24,)\n",
      "Test:  (12,)\n"
     ]
    }
   ],
   "source": [
    "print('All: ', ts.shape)\n",
    "print('Train: ', train.shape)\n",
    "print('Test: ', test.shape)"
   ]
  },
  {
   "cell_type": "code",
   "execution_count": 136,
   "metadata": {},
   "outputs": [
    {
     "name": "stderr",
     "output_type": "stream",
     "text": [
      "/Users/DF/opt/anaconda3/lib/python3.9/site-packages/statsmodels/tsa/base/tsa_model.py:524: ValueWarning: No frequency information was provided, so inferred frequency MS will be used.\n",
      "  warnings.warn('No frequency information was'\n",
      "/Users/DF/opt/anaconda3/lib/python3.9/site-packages/statsmodels/tsa/base/tsa_model.py:524: ValueWarning: No frequency information was provided, so inferred frequency MS will be used.\n",
      "  warnings.warn('No frequency information was'\n",
      "/Users/DF/opt/anaconda3/lib/python3.9/site-packages/statsmodels/tsa/statespace/sarimax.py:866: UserWarning: Too few observations to estimate starting parameters for ARMA and trend. All parameters except for variances will be set to zeros.\n",
      "  warn('Too few observations to estimate starting parameters%s.'\n",
      " This problem is unconstrained.\n"
     ]
    },
    {
     "name": "stdout",
     "output_type": "stream",
     "text": [
      "RUNNING THE L-BFGS-B CODE\n",
      "\n",
      "           * * *\n",
      "\n",
      "Machine precision = 2.220D-16\n",
      " N =           15     M =           10\n",
      "\n",
      "At X0         0 variables are exactly at the bounds\n",
      "\n",
      "At iterate    0    f=  1.57946D+01    |proj g|=  5.70425D+00\n",
      "\n",
      "At iterate    1    f=  1.31280D+01    |proj g|=  2.89340D-01\n",
      "\n",
      "At iterate    2    f=  1.30593D+01    |proj g|=  1.66744D-01\n",
      "\n",
      "At iterate    3    f=  1.29865D+01    |proj g|=  5.85964D-02\n",
      "\n",
      "At iterate    4    f=  1.29791D+01    |proj g|=  4.42043D-02\n",
      "\n",
      "At iterate    5    f=  1.29732D+01    |proj g|=  1.93236D-02\n",
      "\n",
      "At iterate    6    f=  1.29716D+01    |proj g|=  1.27503D-02\n",
      "\n",
      "At iterate    7    f=  1.29712D+01    |proj g|=  8.90345D-03\n",
      "\n",
      "At iterate    8    f=  1.29708D+01    |proj g|=  4.28131D-03\n",
      "\n",
      "At iterate    9    f=  1.29707D+01    |proj g|=  2.53029D-03\n",
      "\n",
      "At iterate   10    f=  1.29707D+01    |proj g|=  1.01986D-03\n",
      "\n",
      "At iterate   11    f=  1.29707D+01    |proj g|=  7.83788D-04\n",
      "\n",
      "At iterate   12    f=  1.29707D+01    |proj g|=  9.99393D-04\n",
      "\n",
      "At iterate   13    f=  1.29707D+01    |proj g|=  3.36736D-04\n",
      "\n",
      "At iterate   14    f=  1.29707D+01    |proj g|=  2.55589D-04\n",
      "\n",
      "At iterate   15    f=  1.29707D+01    |proj g|=  4.80804D-04\n",
      "\n",
      "At iterate   16    f=  1.29706D+01    |proj g|=  5.00322D-03\n",
      "\n",
      "At iterate   17    f=  1.29706D+01    |proj g|=  5.92386D-03\n",
      "\n",
      "At iterate   18    f=  1.29705D+01    |proj g|=  8.25499D-03\n",
      "\n",
      "At iterate   19    f=  1.29705D+01    |proj g|=  1.14339D-02\n",
      "\n",
      "At iterate   20    f=  1.29703D+01    |proj g|=  2.01491D-02\n",
      "\n",
      "At iterate   21    f=  1.29699D+01    |proj g|=  1.19919D-02\n",
      "\n",
      "At iterate   22    f=  1.29692D+01    |proj g|=  9.08582D-03\n",
      "\n",
      "At iterate   23    f=  1.29684D+01    |proj g|=  9.93997D-03\n",
      "\n",
      "At iterate   24    f=  1.29677D+01    |proj g|=  8.68383D-03\n",
      "\n",
      "At iterate   25    f=  1.29670D+01    |proj g|=  7.03762D-03\n",
      "\n",
      "At iterate   26    f=  1.29667D+01    |proj g|=  1.08796D-02\n",
      "\n",
      "At iterate   27    f=  1.29665D+01    |proj g|=  1.44958D-02\n",
      "\n",
      "At iterate   28    f=  1.29663D+01    |proj g|=  3.79630D-03\n",
      "\n",
      "At iterate   29    f=  1.29662D+01    |proj g|=  1.79216D-03\n",
      "\n",
      "At iterate   30    f=  1.29661D+01    |proj g|=  1.49002D-03\n",
      "\n",
      "At iterate   31    f=  1.29661D+01    |proj g|=  2.37399D-03\n",
      "\n",
      "At iterate   32    f=  1.29661D+01    |proj g|=  8.84486D-04\n",
      "\n",
      "At iterate   33    f=  1.29661D+01    |proj g|=  5.67319D-04\n",
      "\n",
      "At iterate   34    f=  1.29661D+01    |proj g|=  5.80150D-04\n",
      "\n",
      "At iterate   35    f=  1.29661D+01    |proj g|=  4.99815D-04\n",
      "\n",
      "At iterate   36    f=  1.29661D+01    |proj g|=  1.91697D-04\n",
      "\n",
      "At iterate   37    f=  1.29661D+01    |proj g|=  5.81011D-05\n",
      "\n",
      "At iterate   38    f=  1.29661D+01    |proj g|=  5.20075D-05\n",
      "\n",
      "           * * *\n",
      "\n",
      "Tit   = total number of iterations\n",
      "Tnf   = total number of function evaluations\n",
      "Tnint = total number of segments explored during Cauchy searches\n",
      "Skip  = number of BFGS updates skipped\n",
      "Nact  = number of active bounds at final generalized Cauchy point\n",
      "Projg = norm of the final projected gradient\n",
      "F     = final function value\n",
      "\n",
      "           * * *\n",
      "\n",
      "   N    Tit     Tnf  Tnint  Skip  Nact     Projg        F\n",
      "   15     38     46      1     0     0   5.201D-05   1.297D+01\n",
      "  F =   12.966069383921941     \n",
      "\n",
      "CONVERGENCE: REL_REDUCTION_OF_F_<=_FACTR*EPSMCH             \n"
     ]
    }
   ],
   "source": [
    "\n",
    "from statsmodels.tsa.statespace.sarimax import SARIMAX\n",
    "\n",
    "\n",
    "\n",
    "# Use our parameter values as determined above\n",
    "p = 2\n",
    "d = 0\n",
    "q = 12\n",
    "\n",
    "model = SARIMAX(train, order=(p,d,q))\n",
    "model_fit = model.fit(disp=1,solver='powell')\n",
    "    \n",
    "fcast = model_fit.get_prediction(start=1, end=len(ts))\n",
    "ts_p = fcast.predicted_mean\n",
    "ts_ci = fcast.conf_int()\n"
   ]
  },
  {
   "cell_type": "code",
   "execution_count": 137,
   "metadata": {},
   "outputs": [
    {
     "data": {
      "image/png": "[encoded data removed]",
      "text/plain": [
       "<Figure size 720x432 with 1 Axes>"
      ]
     },
     "metadata": {
      "needs_background": "light"
     },
     "output_type": "display_data"
    }
   ],
   "source": [
    "plt.figure(figsize=(10, 6))\n",
    "plt.plot(ts_p,label='prediction')\n",
    "plt.plot(ts,color='red',label='actual')\n",
    "plt.fill_between(ts_ci.index[1:],\n",
    "                ts_ci.iloc[1:, 0],\n",
    "                ts_ci.iloc[1:, 1], color='k', alpha=.2)\n",
    "plt.ylabel('Total Number of Micromobility Trips')\n",
    "plt.legend()\n",
    "#plt.tight_layout()\n",
    "plt.grid()\n",
    "plt.show()"
   ]
  },
  {
   "cell_type": "markdown",
   "metadata": {},
   "source": [
    "### Assess performance using the Root-Mean Squared metric\n",
    "##### Based on: https://towardsdatascience.com/understanding-the-seasonal-order-of-the-sarima-model-ebef613e40fa\n",
    "\n"
   ]
  },
  {
   "cell_type": "code",
   "execution_count": 141,
   "metadata": {},
   "outputs": [
    {
     "data": {
      "text/plain": [
       "0.5344590038957264"
      ]
     },
     "execution_count": 141,
     "metadata": {},
     "output_type": "execute_result"
    }
   ],
   "source": [
    "from statsmodels.tools.eval_measures import rmse\n",
    "nrmse = rmse(ts_p.iloc[-12:], test)/(np.max(test)-np.min(test))\n",
    "nrmse"
   ]
  },
  {
   "cell_type": "code",
   "execution_count": 139,
   "metadata": {},
   "outputs": [
    {
     "data": {
      "text/plain": [
       "359854.1666666667"
      ]
     },
     "execution_count": 139,
     "metadata": {},
     "output_type": "execute_result"
    }
   ],
   "source": [
    "df_chicago['#trips'].mean()"
   ]
  },
  {
   "cell_type": "code",
   "execution_count": null,
   "metadata": {},
   "outputs": [],
   "source": []
  }
 ],
 "metadata": {
  "colab": {
   "name": "CMSC 436 Final Project - GitHub Analysis.ipynb",
   "provenance": [],
   "toc_visible": true
  },
  "kernelspec": {
   "display_name": "Python 3 (ipykernel)",
   "language": "python",
   "name": "python3"
  },
  "language_info": {
   "codemirror_mode": {
    "name": "ipython",
    "version": 3
   },
   "file_extension": ".py",
   "mimetype": "text/x-python",
   "name": "python",
   "nbconvert_exporter": "python",
   "pygments_lexer": "ipython3",
   "version": "3.9.7"
  }
 },
 "nbformat": 4,
 "nbformat_minor": 4
}
