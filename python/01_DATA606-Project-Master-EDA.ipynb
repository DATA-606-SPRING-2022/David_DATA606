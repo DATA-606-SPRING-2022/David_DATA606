{
 "cells": [
  {
   "cell_type": "markdown",
   "metadata": {
    "id": "lRmgmXQ0OBXv"
   },
   "source": [
    "# Capstone Project\n",
    "### DATA 606, Spring 2022, Dr. Chaojie Wang\n",
    "### David Fahnestock\n",
    "\n",
    "#### Description: \n",
    "This notebook represents data cleansing and Exploratory Data Analysis.  This explores BikeShare trip data for three cities to get an understanding of the data through summarizing and charting.  \n",
    "\n",
    "#### Dataset Sources:\n",
    "<ul><li>New York City: <a href='https://ride.citibikenyc.com/system-data'>https://ride.citibikenyc.com/system-data</a> </li>\n",
    "    <li>Chicago: <a href='https://ride.divvybikes.com/system-data'>https://ride.divvybikes.com/system-data</a> </li>\n",
    "    <li>San Francisco: <a href='https://www.lyft.com/bikes/bay-wheels/system-data'>https://www.lyft.com/bikes/bay-wheels/system-data</a> </li>\n",
    "</ul>"
   ]
  },
  {
   "cell_type": "markdown",
   "metadata": {
    "id": "OHVP43oha7op"
   },
   "source": [
    "## Function Definitions & Setup\n",
    "This section deals with imports and function definitions"
   ]
  },
  {
   "cell_type": "code",
   "execution_count": 11,
   "metadata": {},
   "outputs": [
    {
     "data": {
      "text/plain": [
       "'1.3.4'"
      ]
     },
     "execution_count": 11,
     "metadata": {},
     "output_type": "execute_result"
    }
   ],
   "source": [
    "import pandas as pd\n",
    "pd.__version__"
   ]
  },
  {
   "cell_type": "code",
   "execution_count": 12,
   "metadata": {},
   "outputs": [],
   "source": [
    "from matplotlib import pyplot as plt"
   ]
  },
  {
   "cell_type": "code",
   "execution_count": 13,
   "metadata": {},
   "outputs": [],
   "source": [
    "import numpy as np"
   ]
  },
  {
   "cell_type": "code",
   "execution_count": 14,
   "metadata": {},
   "outputs": [],
   "source": [
    "import glob"
   ]
  },
  {
   "cell_type": "code",
   "execution_count": 15,
   "metadata": {
    "id": "eXY2L8vUOwgm"
   },
   "outputs": [],
   "source": [
    "import os\n",
    "from os.path import join, isdir\n",
    "from os import mkdir, path"
   ]
  },
  {
   "cell_type": "code",
   "execution_count": 16,
   "metadata": {},
   "outputs": [],
   "source": [
    "import datetime"
   ]
  },
  {
   "cell_type": "code",
   "execution_count": 17,
   "metadata": {},
   "outputs": [],
   "source": [
    "# Import my helper py file to help with importing the data\n",
    "import dfimporthelpers as imp"
   ]
  },
  {
   "cell_type": "markdown",
   "metadata": {},
   "source": [
    "### Input Parameters\n",
    "#### Set input parameter values that will be used for the analysis\n"
   ]
  },
  {
   "cell_type": "code",
   "execution_count": 18,
   "metadata": {},
   "outputs": [],
   "source": [
    "# Used for chart labels\n",
    "p_city_name = 'Chicago'"
   ]
  },
  {
   "cell_type": "code",
   "execution_count": 19,
   "metadata": {},
   "outputs": [],
   "source": [
    "# Source directory of csv data files to analyze\n",
    "p_src_directory = 'ChicagoData'"
   ]
  },
  {
   "cell_type": "code",
   "execution_count": 20,
   "metadata": {},
   "outputs": [],
   "source": [
    "# Column names to be used when importing the data since some files use different names\n",
    "# even though the columns are the same.  Set to None to use the columns names from the header in \n",
    "# each file.\n",
    "p_column_names = None\n",
    "#p_column_names = ['ride_id','started_at','ended_at','bikeid','tripduration','start_station_id',\n",
    "#                'start_station_name','end_station_id','end_station_name','usertype','gender','birthyear']"
   ]
  },
  {
   "cell_type": "markdown",
   "metadata": {},
   "source": [
    "<br><br>\n",
    "\n",
    "# Load and Clean Bike Share data for each city"
   ]
  },
  {
   "cell_type": "code",
   "execution_count": 21,
   "metadata": {
    "tags": []
   },
   "outputs": [],
   "source": [
    "dir_path = '/Users/DF/Library/CloudStorage/OneDrive-Personal/Documents/' + \\\n",
    "           'Grad School-David’s MacBook Pro/Spring 2022 - Capstone/JupyterNB/data/'"
   ]
  },
  {
   "cell_type": "markdown",
   "metadata": {},
   "source": [
    "## Load Chicago data\n",
    "#### First load the newer data, which uses a different field layout than the older data. This was determined through initial cleaning and then streamlined in this consolidated notebook."
   ]
  },
  {
   "cell_type": "code",
   "execution_count": 22,
   "metadata": {},
   "outputs": [],
   "source": [
    "# Load Chicago data that uses the latest field layout\n",
    "full_path = dir_path + 'ChicagoData'\n",
    "df_chicago = imp.load_csvs_to_df(src_dir=full_path, col_names=None)"
   ]
  },
  {
   "cell_type": "code",
   "execution_count": 23,
   "metadata": {},
   "outputs": [
    {
     "data": {
      "text/html": [
       "<div>\n",
       "<style scoped>\n",
       "    .dataframe tbody tr th:only-of-type {\n",
       "        vertical-align: middle;\n",
       "    }\n",
       "\n",
       "    .dataframe tbody tr th {\n",
       "        vertical-align: top;\n",
       "    }\n",
       "\n",
       "    .dataframe thead th {\n",
       "        text-align: right;\n",
       "    }\n",
       "</style>\n",
       "<table border=\"1\" class=\"dataframe\">\n",
       "  <thead>\n",
       "    <tr style=\"text-align: right;\">\n",
       "      <th></th>\n",
       "      <th>ride_id</th>\n",
       "      <th>rideable_type</th>\n",
       "      <th>started_at</th>\n",
       "      <th>ended_at</th>\n",
       "      <th>start_station_name</th>\n",
       "      <th>start_station_id</th>\n",
       "      <th>end_station_name</th>\n",
       "      <th>end_station_id</th>\n",
       "      <th>start_lat</th>\n",
       "      <th>start_lng</th>\n",
       "      <th>end_lat</th>\n",
       "      <th>end_lng</th>\n",
       "      <th>member_casual</th>\n",
       "    </tr>\n",
       "  </thead>\n",
       "  <tbody>\n",
       "    <tr>\n",
       "      <th>0</th>\n",
       "      <td>BD0A6FF6FFF9B921</td>\n",
       "      <td>electric_bike</td>\n",
       "      <td>2020-11-01 13:36:00</td>\n",
       "      <td>2020-11-01 13:45:40</td>\n",
       "      <td>Dearborn St &amp; Erie St</td>\n",
       "      <td>110.0</td>\n",
       "      <td>St. Clair St &amp; Erie St</td>\n",
       "      <td>211.0</td>\n",
       "      <td>41.894177</td>\n",
       "      <td>-87.629127</td>\n",
       "      <td>41.894434</td>\n",
       "      <td>-87.623379</td>\n",
       "      <td>casual</td>\n",
       "    </tr>\n",
       "    <tr>\n",
       "      <th>1</th>\n",
       "      <td>96A7A7A4BDE4F82D</td>\n",
       "      <td>electric_bike</td>\n",
       "      <td>2020-11-01 10:03:26</td>\n",
       "      <td>2020-11-01 10:14:45</td>\n",
       "      <td>Franklin St &amp; Illinois St</td>\n",
       "      <td>672.0</td>\n",
       "      <td>Noble St &amp; Milwaukee Ave</td>\n",
       "      <td>29.0</td>\n",
       "      <td>41.890959</td>\n",
       "      <td>-87.635343</td>\n",
       "      <td>41.900675</td>\n",
       "      <td>-87.662480</td>\n",
       "      <td>casual</td>\n",
       "    </tr>\n",
       "    <tr>\n",
       "      <th>2</th>\n",
       "      <td>C61526D06582BDC5</td>\n",
       "      <td>electric_bike</td>\n",
       "      <td>2020-11-01 00:34:05</td>\n",
       "      <td>2020-11-01 01:03:06</td>\n",
       "      <td>Lake Shore Dr &amp; Monroe St</td>\n",
       "      <td>76.0</td>\n",
       "      <td>Federal St &amp; Polk St</td>\n",
       "      <td>41.0</td>\n",
       "      <td>41.880983</td>\n",
       "      <td>-87.616754</td>\n",
       "      <td>41.872054</td>\n",
       "      <td>-87.629550</td>\n",
       "      <td>casual</td>\n",
       "    </tr>\n",
       "    <tr>\n",
       "      <th>3</th>\n",
       "      <td>E533E89C32080B9E</td>\n",
       "      <td>electric_bike</td>\n",
       "      <td>2020-11-01 00:45:16</td>\n",
       "      <td>2020-11-01 00:54:31</td>\n",
       "      <td>Leavitt St &amp; Chicago Ave</td>\n",
       "      <td>659.0</td>\n",
       "      <td>Stave St &amp; Armitage Ave</td>\n",
       "      <td>185.0</td>\n",
       "      <td>41.895499</td>\n",
       "      <td>-87.682013</td>\n",
       "      <td>41.917744</td>\n",
       "      <td>-87.691392</td>\n",
       "      <td>casual</td>\n",
       "    </tr>\n",
       "    <tr>\n",
       "      <th>4</th>\n",
       "      <td>1C9F4EF18C168C60</td>\n",
       "      <td>electric_bike</td>\n",
       "      <td>2020-11-01 15:43:25</td>\n",
       "      <td>2020-11-01 16:16:52</td>\n",
       "      <td>Buckingham Fountain</td>\n",
       "      <td>2.0</td>\n",
       "      <td>Buckingham Fountain</td>\n",
       "      <td>2.0</td>\n",
       "      <td>41.876497</td>\n",
       "      <td>-87.620358</td>\n",
       "      <td>41.876448</td>\n",
       "      <td>-87.620338</td>\n",
       "      <td>casual</td>\n",
       "    </tr>\n",
       "  </tbody>\n",
       "</table>\n",
       "</div>"
      ],
      "text/plain": [
       "            ride_id  rideable_type           started_at             ended_at  \\\n",
       "0  BD0A6FF6FFF9B921  electric_bike  2020-11-01 13:36:00  2020-11-01 13:45:40   \n",
       "1  96A7A7A4BDE4F82D  electric_bike  2020-11-01 10:03:26  2020-11-01 10:14:45   \n",
       "2  C61526D06582BDC5  electric_bike  2020-11-01 00:34:05  2020-11-01 01:03:06   \n",
       "3  E533E89C32080B9E  electric_bike  2020-11-01 00:45:16  2020-11-01 00:54:31   \n",
       "4  1C9F4EF18C168C60  electric_bike  2020-11-01 15:43:25  2020-11-01 16:16:52   \n",
       "\n",
       "          start_station_name start_station_id          end_station_name  \\\n",
       "0      Dearborn St & Erie St            110.0    St. Clair St & Erie St   \n",
       "1  Franklin St & Illinois St            672.0  Noble St & Milwaukee Ave   \n",
       "2  Lake Shore Dr & Monroe St             76.0      Federal St & Polk St   \n",
       "3   Leavitt St & Chicago Ave            659.0   Stave St & Armitage Ave   \n",
       "4        Buckingham Fountain              2.0       Buckingham Fountain   \n",
       "\n",
       "  end_station_id  start_lat  start_lng    end_lat    end_lng member_casual  \n",
       "0          211.0  41.894177 -87.629127  41.894434 -87.623379        casual  \n",
       "1           29.0  41.890959 -87.635343  41.900675 -87.662480        casual  \n",
       "2           41.0  41.880983 -87.616754  41.872054 -87.629550        casual  \n",
       "3          185.0  41.895499 -87.682013  41.917744 -87.691392        casual  \n",
       "4            2.0  41.876497 -87.620358  41.876448 -87.620338        casual  "
      ]
     },
     "execution_count": 23,
     "metadata": {},
     "output_type": "execute_result"
    }
   ],
   "source": [
    "df_chicago.head(5)"
   ]
  },
  {
   "cell_type": "markdown",
   "metadata": {},
   "source": [
    "#### Now Load the older data"
   ]
  },
  {
   "cell_type": "code",
   "execution_count": 24,
   "metadata": {},
   "outputs": [],
   "source": [
    "# Load the older data that uses a different layout\n",
    "full_path = dir_path + 'ChicagoData/Older'\n",
    "\n",
    "column_names = ['ride_id','started_at','ended_at','bikeid','tripduration','start_station_id',\n",
    "                'start_station_name','end_station_id','end_station_name','member_casual','gender','birthyear']\n",
    "\n",
    "df_temp = imp.load_csvs_to_df(src_dir=full_path, col_names=column_names)"
   ]
  },
  {
   "cell_type": "code",
   "execution_count": 25,
   "metadata": {},
   "outputs": [
    {
     "data": {
      "text/html": [
       "<div>\n",
       "<style scoped>\n",
       "    .dataframe tbody tr th:only-of-type {\n",
       "        vertical-align: middle;\n",
       "    }\n",
       "\n",
       "    .dataframe tbody tr th {\n",
       "        vertical-align: top;\n",
       "    }\n",
       "\n",
       "    .dataframe thead th {\n",
       "        text-align: right;\n",
       "    }\n",
       "</style>\n",
       "<table border=\"1\" class=\"dataframe\">\n",
       "  <thead>\n",
       "    <tr style=\"text-align: right;\">\n",
       "      <th></th>\n",
       "      <th>ride_id</th>\n",
       "      <th>started_at</th>\n",
       "      <th>ended_at</th>\n",
       "      <th>bikeid</th>\n",
       "      <th>tripduration</th>\n",
       "      <th>start_station_id</th>\n",
       "      <th>start_station_name</th>\n",
       "      <th>end_station_id</th>\n",
       "      <th>end_station_name</th>\n",
       "      <th>member_casual</th>\n",
       "      <th>gender</th>\n",
       "      <th>birthyear</th>\n",
       "    </tr>\n",
       "  </thead>\n",
       "  <tbody>\n",
       "    <tr>\n",
       "      <th>0</th>\n",
       "      <td>17536702</td>\n",
       "      <td>2018-01-01 00:12:00</td>\n",
       "      <td>2018-01-01 00:17:23</td>\n",
       "      <td>3304</td>\n",
       "      <td>323.0</td>\n",
       "      <td>69</td>\n",
       "      <td>Damen Ave &amp; Pierce Ave</td>\n",
       "      <td>159</td>\n",
       "      <td>Claremont Ave &amp; Hirsch St</td>\n",
       "      <td>Subscriber</td>\n",
       "      <td>Male</td>\n",
       "      <td>1988.0</td>\n",
       "    </tr>\n",
       "    <tr>\n",
       "      <th>1</th>\n",
       "      <td>17536703</td>\n",
       "      <td>2018-01-01 00:41:35</td>\n",
       "      <td>2018-01-01 00:47:52</td>\n",
       "      <td>5367</td>\n",
       "      <td>377.0</td>\n",
       "      <td>253</td>\n",
       "      <td>Winthrop Ave &amp; Lawrence Ave</td>\n",
       "      <td>325</td>\n",
       "      <td>Clark St &amp; Winnemac Ave (Temp)</td>\n",
       "      <td>Subscriber</td>\n",
       "      <td>Male</td>\n",
       "      <td>1984.0</td>\n",
       "    </tr>\n",
       "    <tr>\n",
       "      <th>2</th>\n",
       "      <td>17536704</td>\n",
       "      <td>2018-01-01 00:44:46</td>\n",
       "      <td>2018-01-01 01:33:10</td>\n",
       "      <td>4599</td>\n",
       "      <td>2,904.0</td>\n",
       "      <td>98</td>\n",
       "      <td>LaSalle St &amp; Washington St</td>\n",
       "      <td>509</td>\n",
       "      <td>Troy St &amp; North Ave</td>\n",
       "      <td>Subscriber</td>\n",
       "      <td>Male</td>\n",
       "      <td>1989.0</td>\n",
       "    </tr>\n",
       "    <tr>\n",
       "      <th>3</th>\n",
       "      <td>17536705</td>\n",
       "      <td>2018-01-01 00:53:10</td>\n",
       "      <td>2018-01-01 01:05:37</td>\n",
       "      <td>2302</td>\n",
       "      <td>747.0</td>\n",
       "      <td>125</td>\n",
       "      <td>Rush St &amp; Hubbard St</td>\n",
       "      <td>364</td>\n",
       "      <td>Larrabee St &amp; Oak St</td>\n",
       "      <td>Subscriber</td>\n",
       "      <td>Male</td>\n",
       "      <td>1983.0</td>\n",
       "    </tr>\n",
       "    <tr>\n",
       "      <th>4</th>\n",
       "      <td>17536706</td>\n",
       "      <td>2018-01-01 00:53:37</td>\n",
       "      <td>2018-01-01 00:56:40</td>\n",
       "      <td>3696</td>\n",
       "      <td>183.0</td>\n",
       "      <td>129</td>\n",
       "      <td>Blue Island Ave &amp; 18th St</td>\n",
       "      <td>205</td>\n",
       "      <td>Paulina St &amp; 18th St</td>\n",
       "      <td>Subscriber</td>\n",
       "      <td>Male</td>\n",
       "      <td>1989.0</td>\n",
       "    </tr>\n",
       "  </tbody>\n",
       "</table>\n",
       "</div>"
      ],
      "text/plain": [
       "    ride_id           started_at             ended_at  bikeid tripduration  \\\n",
       "0  17536702  2018-01-01 00:12:00  2018-01-01 00:17:23    3304        323.0   \n",
       "1  17536703  2018-01-01 00:41:35  2018-01-01 00:47:52    5367        377.0   \n",
       "2  17536704  2018-01-01 00:44:46  2018-01-01 01:33:10    4599      2,904.0   \n",
       "3  17536705  2018-01-01 00:53:10  2018-01-01 01:05:37    2302        747.0   \n",
       "4  17536706  2018-01-01 00:53:37  2018-01-01 00:56:40    3696        183.0   \n",
       "\n",
       "   start_station_id           start_station_name  end_station_id  \\\n",
       "0                69       Damen Ave & Pierce Ave             159   \n",
       "1               253  Winthrop Ave & Lawrence Ave             325   \n",
       "2                98   LaSalle St & Washington St             509   \n",
       "3               125         Rush St & Hubbard St             364   \n",
       "4               129    Blue Island Ave & 18th St             205   \n",
       "\n",
       "                 end_station_name member_casual gender  birthyear  \n",
       "0       Claremont Ave & Hirsch St    Subscriber   Male     1988.0  \n",
       "1  Clark St & Winnemac Ave (Temp)    Subscriber   Male     1984.0  \n",
       "2             Troy St & North Ave    Subscriber   Male     1989.0  \n",
       "3            Larrabee St & Oak St    Subscriber   Male     1983.0  \n",
       "4            Paulina St & 18th St    Subscriber   Male     1989.0  "
      ]
     },
     "execution_count": 25,
     "metadata": {},
     "output_type": "execute_result"
    }
   ],
   "source": [
    "df_temp.head(5)"
   ]
  },
  {
   "cell_type": "code",
   "execution_count": 26,
   "metadata": {},
   "outputs": [
    {
     "data": {
      "text/plain": [
       "ride_id                object\n",
       "rideable_type          object\n",
       "started_at             object\n",
       "ended_at               object\n",
       "start_station_name     object\n",
       "start_station_id       object\n",
       "end_station_name       object\n",
       "end_station_id         object\n",
       "start_lat             float64\n",
       "start_lng             float64\n",
       "end_lat               float64\n",
       "end_lng               float64\n",
       "member_casual          object\n",
       "dtype: object"
      ]
     },
     "execution_count": 26,
     "metadata": {},
     "output_type": "execute_result"
    }
   ],
   "source": [
    "# View data\n",
    "df_chicago.dtypes"
   ]
  },
  {
   "cell_type": "code",
   "execution_count": 27,
   "metadata": {},
   "outputs": [
    {
     "data": {
      "text/plain": [
       "ride_id                 int64\n",
       "started_at             object\n",
       "ended_at               object\n",
       "bikeid                  int64\n",
       "tripduration           object\n",
       "start_station_id        int64\n",
       "start_station_name     object\n",
       "end_station_id          int64\n",
       "end_station_name       object\n",
       "member_casual          object\n",
       "gender                 object\n",
       "birthyear             float64\n",
       "dtype: object"
      ]
     },
     "execution_count": 27,
     "metadata": {},
     "output_type": "execute_result"
    }
   ],
   "source": [
    "df_temp.dtypes"
   ]
  },
  {
   "cell_type": "markdown",
   "metadata": {},
   "source": [
    "#### Combine the two Chicago dataframes then we'll update field types further"
   ]
  },
  {
   "cell_type": "markdown",
   "metadata": {},
   "source": [
    "#### Get row counts of each before we combine them"
   ]
  },
  {
   "cell_type": "code",
   "execution_count": 28,
   "metadata": {},
   "outputs": [
    {
     "data": {
      "text/plain": [
       "(11250100, 12)"
      ]
     },
     "execution_count": 28,
     "metadata": {},
     "output_type": "execute_result"
    }
   ],
   "source": [
    "df_temp.shape"
   ]
  },
  {
   "cell_type": "code",
   "execution_count": 29,
   "metadata": {},
   "outputs": [
    {
     "data": {
      "text/plain": [
       "(9136746, 13)"
      ]
     },
     "execution_count": 29,
     "metadata": {},
     "output_type": "execute_result"
    }
   ],
   "source": [
    "df_chicago.shape"
   ]
  },
  {
   "cell_type": "code",
   "execution_count": 30,
   "metadata": {},
   "outputs": [],
   "source": [
    "df_chicago = pd.concat([df_temp, df_chicago])"
   ]
  },
  {
   "cell_type": "code",
   "execution_count": 31,
   "metadata": {},
   "outputs": [
    {
     "name": "stdout",
     "output_type": "stream",
     "text": [
      "rows: 20386846\n",
      "columns: 17\n"
     ]
    }
   ],
   "source": [
    "# How many rows and columns\n",
    "print('rows:', df_chicago.shape[0])\n",
    "print('columns:', df_chicago.shape[1])"
   ]
  },
  {
   "cell_type": "markdown",
   "metadata": {},
   "source": [
    "#### Add a field to indicate this is from Chicago.  This will be useful when we combine all the cities together."
   ]
  },
  {
   "cell_type": "code",
   "execution_count": 32,
   "metadata": {},
   "outputs": [],
   "source": [
    "df_chicago['city'] = 'Chicago'"
   ]
  },
  {
   "cell_type": "code",
   "execution_count": 33,
   "metadata": {},
   "outputs": [
    {
     "data": {
      "text/plain": [
       "ride_id                object\n",
       "started_at             object\n",
       "ended_at               object\n",
       "bikeid                float64\n",
       "tripduration           object\n",
       "start_station_id       object\n",
       "start_station_name     object\n",
       "end_station_id         object\n",
       "end_station_name       object\n",
       "member_casual          object\n",
       "gender                 object\n",
       "birthyear             float64\n",
       "rideable_type          object\n",
       "start_lat             float64\n",
       "start_lng             float64\n",
       "end_lat               float64\n",
       "end_lng               float64\n",
       "city                   object\n",
       "dtype: object"
      ]
     },
     "execution_count": 33,
     "metadata": {},
     "output_type": "execute_result"
    }
   ],
   "source": [
    "# View many\n",
    "df_chicago.dtypes"
   ]
  },
  {
   "cell_type": "markdown",
   "metadata": {},
   "source": [
    "## Load San Francisco data\n",
    "#### First load the newer data, which uses a different field layout than the older data. This was determined through initial cleaning and then streamlined in this consolidated notebook."
   ]
  },
  {
   "cell_type": "code",
   "execution_count": 34,
   "metadata": {},
   "outputs": [],
   "source": [
    "# Load Chicago data that uses the latest field layout\n",
    "full_path = dir_path + 'SanFranciscoData'\n",
    "df_sanfrancisco = imp.load_csvs_to_df(src_dir=full_path, col_names=None)"
   ]
  },
  {
   "cell_type": "code",
   "execution_count": 35,
   "metadata": {},
   "outputs": [
    {
     "data": {
      "text/plain": [
       "ride_id                object\n",
       "rideable_type          object\n",
       "started_at             object\n",
       "ended_at               object\n",
       "start_station_name     object\n",
       "start_station_id       object\n",
       "end_station_name       object\n",
       "end_station_id         object\n",
       "start_lat             float64\n",
       "start_lng             float64\n",
       "end_lat               float64\n",
       "end_lng               float64\n",
       "member_casual          object\n",
       "dtype: object"
      ]
     },
     "execution_count": 35,
     "metadata": {},
     "output_type": "execute_result"
    }
   ],
   "source": [
    "df_sanfrancisco.dtypes"
   ]
  },
  {
   "cell_type": "markdown",
   "metadata": {},
   "source": [
    "#### Now Load the older data"
   ]
  },
  {
   "cell_type": "code",
   "execution_count": 36,
   "metadata": {},
   "outputs": [],
   "source": [
    "# Load the older data that uses a different layout\n",
    "full_path = dir_path + 'SanFranciscoData/Older'\n",
    "\n",
    "column_names = ['duration','started_at','ended_at','start_station_id',\n",
    "                'start_station_name','start_lat','start_lng','end_station_id','end_station_name',\n",
    "                'end_lat','end_lng','bike_id','member_casual','rental_access_method']\n",
    "\n",
    "df_temp = imp.load_csvs_to_df(src_dir=full_path, col_names=column_names)"
   ]
  },
  {
   "cell_type": "code",
   "execution_count": 37,
   "metadata": {},
   "outputs": [
    {
     "data": {
      "text/plain": [
       "duration                 object\n",
       "started_at               object\n",
       "ended_at                 object\n",
       "start_station_id         object\n",
       "start_station_name       object\n",
       "start_lat               float64\n",
       "start_lng               float64\n",
       "end_station_id           object\n",
       "end_station_name         object\n",
       "end_lat                 float64\n",
       "end_lng                 float64\n",
       "bike_id                  object\n",
       "member_casual            object\n",
       "rental_access_method     object\n",
       "dtype: object"
      ]
     },
     "execution_count": 37,
     "metadata": {},
     "output_type": "execute_result"
    }
   ],
   "source": [
    "df_temp.dtypes"
   ]
  },
  {
   "cell_type": "code",
   "execution_count": 38,
   "metadata": {},
   "outputs": [
    {
     "data": {
      "text/plain": [
       "ride_id                object\n",
       "rideable_type          object\n",
       "started_at             object\n",
       "ended_at               object\n",
       "start_station_name     object\n",
       "start_station_id       object\n",
       "end_station_name       object\n",
       "end_station_id         object\n",
       "start_lat             float64\n",
       "start_lng             float64\n",
       "end_lat               float64\n",
       "end_lng               float64\n",
       "member_casual          object\n",
       "dtype: object"
      ]
     },
     "execution_count": 38,
     "metadata": {},
     "output_type": "execute_result"
    }
   ],
   "source": [
    "# View data\n",
    "df_sanfrancisco.dtypes"
   ]
  },
  {
   "cell_type": "markdown",
   "metadata": {},
   "source": [
    "#### Combine the two dataframes then we'll update field types further"
   ]
  },
  {
   "cell_type": "markdown",
   "metadata": {},
   "source": [
    "#### Get row counts of each before we combine them"
   ]
  },
  {
   "cell_type": "code",
   "execution_count": 39,
   "metadata": {},
   "outputs": [
    {
     "data": {
      "text/plain": [
       "(5795411, 14)"
      ]
     },
     "execution_count": 39,
     "metadata": {},
     "output_type": "execute_result"
    }
   ],
   "source": [
    "df_temp.shape"
   ]
  },
  {
   "cell_type": "code",
   "execution_count": 40,
   "metadata": {},
   "outputs": [
    {
     "data": {
      "text/plain": [
       "(3275783, 13)"
      ]
     },
     "execution_count": 40,
     "metadata": {},
     "output_type": "execute_result"
    }
   ],
   "source": [
    "df_sanfrancisco.shape"
   ]
  },
  {
   "cell_type": "code",
   "execution_count": 41,
   "metadata": {},
   "outputs": [],
   "source": [
    "df_sanfrancisco = pd.concat([df_temp, df_sanfrancisco])"
   ]
  },
  {
   "cell_type": "code",
   "execution_count": 42,
   "metadata": {},
   "outputs": [
    {
     "name": "stdout",
     "output_type": "stream",
     "text": [
      "rows: 9071194\n",
      "columns: 16\n"
     ]
    }
   ],
   "source": [
    "# How many rows and columns\n",
    "print('rows:', df_sanfrancisco.shape[0])\n",
    "print('columns:', df_sanfrancisco.shape[1])"
   ]
  },
  {
   "cell_type": "markdown",
   "metadata": {},
   "source": [
    "#### Add a field to indicate the city.  This will be useful when we combine all the cities together."
   ]
  },
  {
   "cell_type": "code",
   "execution_count": 43,
   "metadata": {},
   "outputs": [],
   "source": [
    "df_sanfrancisco['city'] = 'San Francisco'"
   ]
  },
  {
   "cell_type": "code",
   "execution_count": 44,
   "metadata": {},
   "outputs": [
    {
     "data": {
      "text/plain": [
       "duration                 object\n",
       "started_at               object\n",
       "ended_at                 object\n",
       "start_station_id         object\n",
       "start_station_name       object\n",
       "start_lat               float64\n",
       "start_lng               float64\n",
       "end_station_id           object\n",
       "end_station_name         object\n",
       "end_lat                 float64\n",
       "end_lng                 float64\n",
       "bike_id                  object\n",
       "member_casual            object\n",
       "rental_access_method     object\n",
       "ride_id                  object\n",
       "rideable_type            object\n",
       "city                     object\n",
       "dtype: object"
      ]
     },
     "execution_count": 44,
     "metadata": {},
     "output_type": "execute_result"
    }
   ],
   "source": [
    "df_sanfrancisco.dtypes"
   ]
  },
  {
   "cell_type": "code",
   "execution_count": 45,
   "metadata": {},
   "outputs": [
    {
     "data": {
      "text/html": [
       "<div>\n",
       "<style scoped>\n",
       "    .dataframe tbody tr th:only-of-type {\n",
       "        vertical-align: middle;\n",
       "    }\n",
       "\n",
       "    .dataframe tbody tr th {\n",
       "        vertical-align: top;\n",
       "    }\n",
       "\n",
       "    .dataframe thead th {\n",
       "        text-align: right;\n",
       "    }\n",
       "</style>\n",
       "<table border=\"1\" class=\"dataframe\">\n",
       "  <thead>\n",
       "    <tr style=\"text-align: right;\">\n",
       "      <th></th>\n",
       "      <th>duration</th>\n",
       "      <th>started_at</th>\n",
       "      <th>ended_at</th>\n",
       "      <th>start_station_id</th>\n",
       "      <th>start_station_name</th>\n",
       "      <th>start_lat</th>\n",
       "      <th>start_lng</th>\n",
       "      <th>end_station_id</th>\n",
       "      <th>end_station_name</th>\n",
       "      <th>end_lat</th>\n",
       "      <th>end_lng</th>\n",
       "      <th>bike_id</th>\n",
       "      <th>member_casual</th>\n",
       "      <th>rental_access_method</th>\n",
       "      <th>ride_id</th>\n",
       "      <th>rideable_type</th>\n",
       "      <th>city</th>\n",
       "    </tr>\n",
       "  </thead>\n",
       "  <tbody>\n",
       "    <tr>\n",
       "      <th>0</th>\n",
       "      <td>598</td>\n",
       "      <td>2018-02-28 23:59:47.0970</td>\n",
       "      <td>2018-03-01 00:09:45.1870</td>\n",
       "      <td>284</td>\n",
       "      <td>Yerba Buena Center for the Arts (Howard St at ...</td>\n",
       "      <td>37.784872</td>\n",
       "      <td>-122.400876</td>\n",
       "      <td>114</td>\n",
       "      <td>Rhode Island St at 17th St</td>\n",
       "      <td>37.764478</td>\n",
       "      <td>-122.402570</td>\n",
       "      <td>1035</td>\n",
       "      <td>Subscriber</td>\n",
       "      <td>No</td>\n",
       "      <td>NaN</td>\n",
       "      <td>NaN</td>\n",
       "      <td>San Francisco</td>\n",
       "    </tr>\n",
       "    <tr>\n",
       "      <th>1</th>\n",
       "      <td>943</td>\n",
       "      <td>2018-02-28 23:21:16.4950</td>\n",
       "      <td>2018-02-28 23:36:59.9740</td>\n",
       "      <td>6</td>\n",
       "      <td>The Embarcadero at Sansome St</td>\n",
       "      <td>37.804770</td>\n",
       "      <td>-122.403234</td>\n",
       "      <td>324</td>\n",
       "      <td>Union Square (Powell St at Post St)</td>\n",
       "      <td>37.788300</td>\n",
       "      <td>-122.408531</td>\n",
       "      <td>1673</td>\n",
       "      <td>Customer</td>\n",
       "      <td>No</td>\n",
       "      <td>NaN</td>\n",
       "      <td>NaN</td>\n",
       "      <td>San Francisco</td>\n",
       "    </tr>\n",
       "    <tr>\n",
       "      <th>2</th>\n",
       "      <td>18587</td>\n",
       "      <td>2018-02-28 18:20:55.1900</td>\n",
       "      <td>2018-02-28 23:30:42.9250</td>\n",
       "      <td>93</td>\n",
       "      <td>4th St at Mission Bay Blvd S</td>\n",
       "      <td>37.770407</td>\n",
       "      <td>-122.391198</td>\n",
       "      <td>15</td>\n",
       "      <td>San Francisco Ferry Building (Harry Bridges Pl...</td>\n",
       "      <td>37.795392</td>\n",
       "      <td>-122.394203</td>\n",
       "      <td>3498</td>\n",
       "      <td>Customer</td>\n",
       "      <td>No</td>\n",
       "      <td>NaN</td>\n",
       "      <td>NaN</td>\n",
       "      <td>San Francisco</td>\n",
       "    </tr>\n",
       "    <tr>\n",
       "      <th>3</th>\n",
       "      <td>18558</td>\n",
       "      <td>2018-02-28 18:20:53.6210</td>\n",
       "      <td>2018-02-28 23:30:12.4500</td>\n",
       "      <td>93</td>\n",
       "      <td>4th St at Mission Bay Blvd S</td>\n",
       "      <td>37.770407</td>\n",
       "      <td>-122.391198</td>\n",
       "      <td>15</td>\n",
       "      <td>San Francisco Ferry Building (Harry Bridges Pl...</td>\n",
       "      <td>37.795392</td>\n",
       "      <td>-122.394203</td>\n",
       "      <td>3129</td>\n",
       "      <td>Customer</td>\n",
       "      <td>No</td>\n",
       "      <td>NaN</td>\n",
       "      <td>NaN</td>\n",
       "      <td>San Francisco</td>\n",
       "    </tr>\n",
       "    <tr>\n",
       "      <th>4</th>\n",
       "      <td>885</td>\n",
       "      <td>2018-02-28 23:15:12.8580</td>\n",
       "      <td>2018-02-28 23:29:58.6080</td>\n",
       "      <td>308</td>\n",
       "      <td>San Pedro Square</td>\n",
       "      <td>37.336802</td>\n",
       "      <td>-121.894090</td>\n",
       "      <td>297</td>\n",
       "      <td>Locust St at Grant St</td>\n",
       "      <td>37.322980</td>\n",
       "      <td>-121.887931</td>\n",
       "      <td>1839</td>\n",
       "      <td>Subscriber</td>\n",
       "      <td>Yes</td>\n",
       "      <td>NaN</td>\n",
       "      <td>NaN</td>\n",
       "      <td>San Francisco</td>\n",
       "    </tr>\n",
       "  </tbody>\n",
       "</table>\n",
       "</div>"
      ],
      "text/plain": [
       "  duration                started_at                  ended_at  \\\n",
       "0      598  2018-02-28 23:59:47.0970  2018-03-01 00:09:45.1870   \n",
       "1      943  2018-02-28 23:21:16.4950  2018-02-28 23:36:59.9740   \n",
       "2    18587  2018-02-28 18:20:55.1900  2018-02-28 23:30:42.9250   \n",
       "3    18558  2018-02-28 18:20:53.6210  2018-02-28 23:30:12.4500   \n",
       "4      885  2018-02-28 23:15:12.8580  2018-02-28 23:29:58.6080   \n",
       "\n",
       "  start_station_id                                 start_station_name  \\\n",
       "0              284  Yerba Buena Center for the Arts (Howard St at ...   \n",
       "1                6                      The Embarcadero at Sansome St   \n",
       "2               93                       4th St at Mission Bay Blvd S   \n",
       "3               93                       4th St at Mission Bay Blvd S   \n",
       "4              308                                   San Pedro Square   \n",
       "\n",
       "   start_lat   start_lng end_station_id  \\\n",
       "0  37.784872 -122.400876            114   \n",
       "1  37.804770 -122.403234            324   \n",
       "2  37.770407 -122.391198             15   \n",
       "3  37.770407 -122.391198             15   \n",
       "4  37.336802 -121.894090            297   \n",
       "\n",
       "                                    end_station_name    end_lat     end_lng  \\\n",
       "0                         Rhode Island St at 17th St  37.764478 -122.402570   \n",
       "1                Union Square (Powell St at Post St)  37.788300 -122.408531   \n",
       "2  San Francisco Ferry Building (Harry Bridges Pl...  37.795392 -122.394203   \n",
       "3  San Francisco Ferry Building (Harry Bridges Pl...  37.795392 -122.394203   \n",
       "4                              Locust St at Grant St  37.322980 -121.887931   \n",
       "\n",
       "  bike_id member_casual rental_access_method ride_id rideable_type  \\\n",
       "0    1035    Subscriber                   No     NaN           NaN   \n",
       "1    1673      Customer                   No     NaN           NaN   \n",
       "2    3498      Customer                   No     NaN           NaN   \n",
       "3    3129      Customer                   No     NaN           NaN   \n",
       "4    1839    Subscriber                  Yes     NaN           NaN   \n",
       "\n",
       "            city  \n",
       "0  San Francisco  \n",
       "1  San Francisco  \n",
       "2  San Francisco  \n",
       "3  San Francisco  \n",
       "4  San Francisco  "
      ]
     },
     "execution_count": 45,
     "metadata": {},
     "output_type": "execute_result"
    }
   ],
   "source": [
    "# View the combined df\n",
    "df_sanfrancisco.head()"
   ]
  },
  {
   "cell_type": "markdown",
   "metadata": {},
   "source": [
    "## Load New York City data\n",
    "#### First load the newer data, which uses a different field layout than the older data. This was determined through initial cleaning and then streamlined in this consolidated notebook."
   ]
  },
  {
   "cell_type": "code",
   "execution_count": null,
   "metadata": {},
   "outputs": [],
   "source": [
    "# Load data that uses the latest field layout\n",
    "full_path = dir_path + 'NYCData'\n",
    "df_nyc = imp.load_csvs_to_df(src_dir=full_path, col_names=None)"
   ]
  },
  {
   "cell_type": "code",
   "execution_count": null,
   "metadata": {},
   "outputs": [],
   "source": [
    "df_nyc.head(5)"
   ]
  },
  {
   "cell_type": "markdown",
   "metadata": {},
   "source": [
    "#### Now Load the older data"
   ]
  },
  {
   "cell_type": "code",
   "execution_count": null,
   "metadata": {},
   "outputs": [],
   "source": [
    "# Load the older data that uses a different layout\n",
    "full_path = dir_path + 'NYCData/Older'\n",
    "\n",
    "column_names = ['duration','started_at','ended_at','start_station_id',\n",
    "                'start_station_name','start_lat','start_lng','end_station_id','end_station_name',\n",
    "                'end_lat','end_lng','bike_id','member_casual','birthyear','gender']\n",
    "\n",
    "df_temp = imp.load_csvs_to_df(src_dir=full_path, col_names=column_names)"
   ]
  },
  {
   "cell_type": "code",
   "execution_count": null,
   "metadata": {},
   "outputs": [],
   "source": [
    "df_temp.head(5)"
   ]
  },
  {
   "cell_type": "code",
   "execution_count": null,
   "metadata": {},
   "outputs": [],
   "source": [
    "# View data\n",
    "df_nyc.dtypes"
   ]
  },
  {
   "cell_type": "code",
   "execution_count": null,
   "metadata": {},
   "outputs": [],
   "source": [
    "df_temp.dtypes"
   ]
  },
  {
   "cell_type": "markdown",
   "metadata": {},
   "source": [
    "#### Combine the two dataframes then we'll update field types further"
   ]
  },
  {
   "cell_type": "markdown",
   "metadata": {},
   "source": [
    "#### Get row counts of each before we combine them"
   ]
  },
  {
   "cell_type": "code",
   "execution_count": null,
   "metadata": {},
   "outputs": [],
   "source": [
    "df_temp.shape"
   ]
  },
  {
   "cell_type": "code",
   "execution_count": null,
   "metadata": {},
   "outputs": [],
   "source": [
    "df_nyc.shape"
   ]
  },
  {
   "cell_type": "code",
   "execution_count": null,
   "metadata": {},
   "outputs": [],
   "source": [
    "df_nyc = pd.concat([df_temp, df_nyc])"
   ]
  },
  {
   "cell_type": "code",
   "execution_count": null,
   "metadata": {},
   "outputs": [],
   "source": [
    "# How many rows and columns\n",
    "print('rows:', df_nyc.shape[0])\n",
    "print('columns:', df_nyc.shape[1])"
   ]
  },
  {
   "cell_type": "markdown",
   "metadata": {},
   "source": [
    "#### Add a field to indicate this is from Chicago.  This will be useful when we combine all the cities together."
   ]
  },
  {
   "cell_type": "code",
   "execution_count": null,
   "metadata": {},
   "outputs": [],
   "source": [
    "df_nyc['city'] = 'NYC'"
   ]
  },
  {
   "cell_type": "code",
   "execution_count": null,
   "metadata": {},
   "outputs": [],
   "source": [
    "# View many\n",
    "df_nyc.dtypes"
   ]
  },
  {
   "cell_type": "markdown",
   "metadata": {},
   "source": [
    "### Finally, combine all City Dataframes into One"
   ]
  },
  {
   "cell_type": "code",
   "execution_count": 46,
   "metadata": {},
   "outputs": [],
   "source": [
    "df_all = pd.concat([df_chicago,df_sanfrancisco,df_nyc])"
   ]
  },
  {
   "cell_type": "code",
   "execution_count": 47,
   "metadata": {},
   "outputs": [
    {
     "data": {
      "text/plain": [
       "(29458040, 21)"
      ]
     },
     "execution_count": 47,
     "metadata": {},
     "output_type": "execute_result"
    }
   ],
   "source": [
    "# How many rows and columns do we have\n",
    "df_all.shape"
   ]
  },
  {
   "cell_type": "code",
   "execution_count": null,
   "metadata": {},
   "outputs": [],
   "source": []
  },
  {
   "cell_type": "markdown",
   "metadata": {},
   "source": [
    "<br>\n",
    "\n",
    "## Clean and prepare the data"
   ]
  },
  {
   "cell_type": "markdown",
   "metadata": {},
   "source": [
    "#### Look at the data field types"
   ]
  },
  {
   "cell_type": "code",
   "execution_count": null,
   "metadata": {},
   "outputs": [],
   "source": [
    "df_all.dtypes"
   ]
  },
  {
   "cell_type": "markdown",
   "metadata": {},
   "source": [
    "#### Remove columns we don't currently need"
   ]
  },
  {
   "cell_type": "code",
   "execution_count": null,
   "metadata": {},
   "outputs": [],
   "source": [
    "df_all.drop(['rental_access_method','duration','bike_id','bikeid','tripduration'], axis=1, inplace=True)"
   ]
  },
  {
   "cell_type": "code",
   "execution_count": null,
   "metadata": {},
   "outputs": [],
   "source": [
    "df_all.drop(['gender','birthyear','start_lat','start_lng','end_lat','end_lng'], axis=1, inplace=True)"
   ]
  },
  {
   "cell_type": "code",
   "execution_count": null,
   "metadata": {},
   "outputs": [],
   "source": [
    "df_all.head()"
   ]
  },
  {
   "cell_type": "code",
   "execution_count": null,
   "metadata": {},
   "outputs": [],
   "source": [
    "# Convert date/times\n",
    "df_all['started_at'] = pd.to_datetime(df_all['started_at'])\n",
    "df_all['ended_at']   = pd.to_datetime(df_all['ended_at'])"
   ]
  },
  {
   "cell_type": "markdown",
   "metadata": {},
   "source": [
    "#### Create calculated field with trip durations"
   ]
  },
  {
   "cell_type": "code",
   "execution_count": null,
   "metadata": {
    "tags": []
   },
   "outputs": [],
   "source": [
    "df_all['duration_minutes'] = (df_all['ended_at'] - df_all['started_at']) / pd.Timedelta(minutes=1)"
   ]
  },
  {
   "cell_type": "code",
   "execution_count": null,
   "metadata": {},
   "outputs": [],
   "source": [
    "df_all.head()"
   ]
  },
  {
   "cell_type": "code",
   "execution_count": null,
   "metadata": {},
   "outputs": [],
   "source": [
    "df_all.dtypes"
   ]
  },
  {
   "cell_type": "markdown",
   "metadata": {
    "tags": []
   },
   "source": [
    "#### Check for null values"
   ]
  },
  {
   "cell_type": "code",
   "execution_count": null,
   "metadata": {},
   "outputs": [],
   "source": [
    "df_all.isnull().sum()"
   ]
  },
  {
   "cell_type": "markdown",
   "metadata": {},
   "source": [
    "#### Based on the above, we have nulls in various fields"
   ]
  },
  {
   "cell_type": "raw",
   "metadata": {},
   "source": [
    "# fill null string columns with the ''\n",
    "df_all[['start_station_name','start_station_id','end_station_name','end_station_id',\n",
    "        'ride_id','rideable_type']] = \\\n",
    "     df_all[['start_station_name','start_station_id','end_station_name','end_station_id',\n",
    "             'ride_id','rideable_type']].fillna(value='')"
   ]
  },
  {
   "cell_type": "markdown",
   "metadata": {},
   "source": [
    "#### Let's add separate columns for Month#, Year, Hour for further analysis"
   ]
  },
  {
   "cell_type": "code",
   "execution_count": null,
   "metadata": {},
   "outputs": [],
   "source": [
    "df_all['year']       = pd.DatetimeIndex(df_all['started_at']).year\n",
    "df_all['month']      = pd.DatetimeIndex(df_all['started_at']).month\n",
    "df_all['year-month'] = df_all['started_at'].dt.strftime('%Y-%m')\n",
    "df_all['hour_of_day'] = pd.DatetimeIndex(df_all['started_at']).hour\n",
    "df_all['start_date'] = df_all['started_at'].dt.strftime('%Y-%m-%d')"
   ]
  },
  {
   "cell_type": "markdown",
   "metadata": {},
   "source": [
    "<br />\n",
    "\n",
    "## Create cleaned version with only the attributes we will use for ML"
   ]
  },
  {
   "cell_type": "code",
   "execution_count": null,
   "metadata": {},
   "outputs": [],
   "source": [
    "# Based on the prevalence of nulls in these fields, we will discard them from our analysis\n",
    "# and only use these fields\n",
    "df_clean = df_all[['started_at','ended_at','member_casual','city','duration_minutes', \\\n",
    "                   'year','month','year-month','hour_of_day','start_date']].copy()"
   ]
  },
  {
   "cell_type": "code",
   "execution_count": null,
   "metadata": {},
   "outputs": [],
   "source": [
    "# Recheck to be sure we have addressed the nulls\n",
    "df_clean.isnull().sum()"
   ]
  },
  {
   "cell_type": "code",
   "execution_count": null,
   "metadata": {},
   "outputs": [],
   "source": [
    "# The remaining nulls are minimal.  Therefore, we will remove those rows for analysis purposes\n",
    "df_clean = df_clean.dropna()"
   ]
  },
  {
   "cell_type": "code",
   "execution_count": null,
   "metadata": {},
   "outputs": [],
   "source": [
    "df_clean.head()"
   ]
  },
  {
   "cell_type": "code",
   "execution_count": null,
   "metadata": {},
   "outputs": [],
   "source": [
    "df_clean.dtypes"
   ]
  },
  {
   "cell_type": "markdown",
   "metadata": {},
   "source": [
    "### Group by city and date "
   ]
  },
  {
   "cell_type": "code",
   "execution_count": null,
   "metadata": {},
   "outputs": [],
   "source": [
    "# Group the results by city and date\n",
    "df_grouped = df_clean.groupby(['city','start_date','year','month','year-month']).agg( \\\n",
    "                              {'started_at':'count','duration_minutes':'sum'}).copy().reset_index()"
   ]
  },
  {
   "cell_type": "code",
   "execution_count": null,
   "metadata": {},
   "outputs": [],
   "source": [
    "# Rename count to be \"#trips\"\n",
    "df_grouped.rename(columns={'started_at':'#trips'}, inplace=True)"
   ]
  },
  {
   "cell_type": "code",
   "execution_count": null,
   "metadata": {},
   "outputs": [],
   "source": [
    "df_grouped.head(10)"
   ]
  },
  {
   "cell_type": "markdown",
   "metadata": {
    "tags": []
   },
   "source": [
    "\n",
    "### Save the final combined to a csv so we don't have to repeat the time-consuming above steps when developing and testing"
   ]
  },
  {
   "cell_type": "code",
   "execution_count": null,
   "metadata": {
    "tags": []
   },
   "outputs": [],
   "source": [
    "dir_path = '/Users/DF/Library/CloudStorage/OneDrive-Personal/Documents/' + \\\n",
    "           'Grad School-David’s MacBook Pro/Spring 2022 - Capstone/JupyterNB/'\n",
    "\n",
    "os.chdir(dir_path)"
   ]
  },
  {
   "cell_type": "code",
   "execution_count": null,
   "metadata": {},
   "outputs": [],
   "source": [
    "df_grouped.to_csv('nyc_chicago_sf_tripsbydate_jan19tojan22.csv', index=False)"
   ]
  },
  {
   "cell_type": "markdown",
   "metadata": {},
   "source": [
    "<br /> \n",
    "\n",
    "### Start Here to use the saved copy of the above"
   ]
  },
  {
   "cell_type": "raw",
   "metadata": {
    "tags": []
   },
   "source": [
    "dir_path = '/Users/DF/Library/CloudStorage/OneDrive-Personal/Documents/' + \\\n",
    "           'Grad School-David’s MacBook Pro/Spring 2022 - Capstone/JupyterNB/'\n",
    "\n",
    "os.chdir(dir_path)"
   ]
  },
  {
   "cell_type": "raw",
   "metadata": {},
   "source": [
    "df_all = pd.read_csv('nyc_chicago_sf_combined_jan19tojan22.csv', low_memory=False, dtype='unicode')"
   ]
  },
  {
   "cell_type": "markdown",
   "metadata": {},
   "source": [
    "<br /><br />\n",
    "\n",
    "# Summarize Data"
   ]
  },
  {
   "cell_type": "markdown",
   "metadata": {},
   "source": [
    "### Summarize by city"
   ]
  },
  {
   "cell_type": "code",
   "execution_count": null,
   "metadata": {},
   "outputs": [],
   "source": [
    "# Group the results by year\n",
    "df_grouped = df_all.groupby(['city']).agg({'ride_id': 'count'}).copy().reset_index()\n",
    "\n",
    "# Rename to be \"count\"\n",
    "df_grouped.rename(columns={'ride_id':'#trips'}, inplace=True)\n",
    "\n",
    "df_grouped.sort_values('#trips',inplace=True)"
   ]
  },
  {
   "cell_type": "code",
   "execution_count": null,
   "metadata": {},
   "outputs": [],
   "source": [
    "df_grouped.head()"
   ]
  },
  {
   "cell_type": "code",
   "execution_count": null,
   "metadata": {},
   "outputs": [],
   "source": [
    "heading = 'Total Trips by City (January 2019 - January 2022)'\n",
    "\n",
    "plt.figure()\n",
    "ax = df_grouped.plot.barh(stacked=False, figsize=(10,6), x='city', title=heading)\n",
    "ax.set_xlabel('Number of Trips')\n",
    "    \n",
    "# Display to screen\n",
    "plt.show()"
   ]
  },
  {
   "cell_type": "code",
   "execution_count": null,
   "metadata": {},
   "outputs": [],
   "source": []
  },
  {
   "cell_type": "code",
   "execution_count": null,
   "metadata": {},
   "outputs": [],
   "source": []
  },
  {
   "cell_type": "markdown",
   "metadata": {},
   "source": [
    "### Summarize by year and city"
   ]
  },
  {
   "cell_type": "code",
   "execution_count": null,
   "metadata": {},
   "outputs": [],
   "source": [
    "# Group the results by year\n",
    "df_grouped = df_all.groupby(['year','city']).agg({'ride_id': 'count'}).copy().reset_index()\n",
    "\n",
    "# Rename to be \"count\"\n",
    "df_grouped.rename(columns={'ride_id':'#trips'}, inplace=True)"
   ]
  },
  {
   "cell_type": "code",
   "execution_count": null,
   "metadata": {},
   "outputs": [],
   "source": [
    "df_grouped.head(12)"
   ]
  },
  {
   "cell_type": "code",
   "execution_count": null,
   "metadata": {},
   "outputs": [],
   "source": [
    "# Pivot to prepare to plot the years and cities\n",
    "df_pivot = df_grouped.pivot(index='year', columns='city', values='#trips')"
   ]
  },
  {
   "cell_type": "code",
   "execution_count": null,
   "metadata": {},
   "outputs": [],
   "source": [
    "heading = 'Total Trips by Year (thru January 2022)'\n",
    "\n",
    "plt.figure()\n",
    "ax = df_pivot.plot.bar(stacked=True, figsize=(10,6), title=heading)\n",
    "ax.set_ylabel('Number of Trips')\n",
    "    \n",
    "# Display to screen\n",
    "plt.show()"
   ]
  },
  {
   "cell_type": "markdown",
   "metadata": {},
   "source": [
    "<br />\n",
    "\n",
    "### Summarize by month to see the trips per month over time"
   ]
  },
  {
   "cell_type": "code",
   "execution_count": null,
   "metadata": {},
   "outputs": [],
   "source": [
    "# Group the results by month\n",
    "df_grouped = df_all.groupby(['year-month', 'city']).agg({'ride_id': 'count'}).copy().reset_index()\n",
    "\n",
    "# Rename to be \"count\"\n",
    "df_grouped.rename(columns={'ride_id':'#trips'}, inplace=True)"
   ]
  },
  {
   "cell_type": "code",
   "execution_count": null,
   "metadata": {},
   "outputs": [],
   "source": [
    "df_grouped[df_grouped['city'] == 'NYC'].head(100)"
   ]
  },
  {
   "cell_type": "code",
   "execution_count": null,
   "metadata": {
    "tags": []
   },
   "outputs": [],
   "source": [
    "# Pivot to prepare to plot the years and cities\n",
    "df_pivot = df_grouped.pivot(index='year-month', columns='city', values='#trips')"
   ]
  },
  {
   "cell_type": "code",
   "execution_count": null,
   "metadata": {
    "tags": []
   },
   "outputs": [],
   "source": [
    "heading = 'Total Trips by Month'\n",
    "\n",
    "plt.figure()\n",
    "ax = df_pivot.plot.line(stacked=False, figsize=(10,6), title=heading)\n",
    "ax.set_ylabel('Number of Trips')\n",
    "    \n",
    "# Display to screen\n",
    "plt.show()"
   ]
  },
  {
   "cell_type": "code",
   "execution_count": null,
   "metadata": {},
   "outputs": [],
   "source": [
    "# Save to csv for reuse\n",
    "df_grouped.to_csv('nyc_chicago_sf_tripsbymonth_jan19tojan22.csv', index=False)"
   ]
  },
  {
   "cell_type": "markdown",
   "metadata": {},
   "source": [
    "<br />\n",
    "\n",
    "### Let's now group by start station\n",
    "#### We'll get the count and one lat/long per start station to be able to plot on a map"
   ]
  },
  {
   "cell_type": "code",
   "execution_count": null,
   "metadata": {},
   "outputs": [],
   "source": [
    "grp = df_all.groupby(['start_station_name'])\n",
    "\n",
    "df_bystation = grp.agg({'ride_id': 'count'}).copy().reset_index()\n",
    "\n",
    "# Rename to be \"count\"\n",
    "df_bystation.rename(columns={'ride_id':'#trips'}, inplace=True)"
   ]
  },
  {
   "cell_type": "code",
   "execution_count": null,
   "metadata": {},
   "outputs": [],
   "source": [
    "df_bystation.head(10)"
   ]
  },
  {
   "cell_type": "markdown",
   "metadata": {},
   "source": [
    "#### How many stations are there?"
   ]
  },
  {
   "cell_type": "code",
   "execution_count": null,
   "metadata": {},
   "outputs": [],
   "source": [
    "df_bystation.shape"
   ]
  },
  {
   "cell_type": "markdown",
   "metadata": {},
   "source": [
    "#### What are the top stations?"
   ]
  },
  {
   "cell_type": "code",
   "execution_count": null,
   "metadata": {},
   "outputs": [],
   "source": [
    "df_bystation.nlargest(20,'#trips')"
   ]
  },
  {
   "cell_type": "markdown",
   "metadata": {},
   "source": [
    "### Summarize by Rideable Type"
   ]
  },
  {
   "cell_type": "code",
   "execution_count": null,
   "metadata": {},
   "outputs": [],
   "source": [
    "df_grouped = df_all.groupby(['rideable_type','city']).agg({'ride_id': 'count'}).copy().reset_index()\n",
    "\n",
    "df_grouped.rename(columns={'ride_id':'#trips'}, inplace=True)"
   ]
  },
  {
   "cell_type": "code",
   "execution_count": null,
   "metadata": {},
   "outputs": [],
   "source": [
    "df_grouped.head(100)"
   ]
  },
  {
   "cell_type": "code",
   "execution_count": null,
   "metadata": {},
   "outputs": [],
   "source": [
    "# Pivot to prepare to plot the years and cities\n",
    "df_pivot = df_grouped.pivot(index='rideable_type', columns='city', values='#trips')"
   ]
  },
  {
   "cell_type": "code",
   "execution_count": null,
   "metadata": {},
   "outputs": [],
   "source": [
    "heading = 'Total Trips by Bike Type'\n",
    "\n",
    "plt.figure()\n",
    "ax = df_pivot.plot.bar(stacked=False, figsize=(10,6), title=heading)\n",
    "ax.set_ylabel('Number of Trips')\n",
    "    \n",
    "# Display to screen\n",
    "plt.show()"
   ]
  },
  {
   "cell_type": "markdown",
   "metadata": {},
   "source": [
    "### Summarize by Member Type"
   ]
  },
  {
   "cell_type": "markdown",
   "metadata": {},
   "source": [
    "#### First map older designations to the latest for consistency"
   ]
  },
  {
   "cell_type": "code",
   "execution_count": null,
   "metadata": {},
   "outputs": [],
   "source": [
    "df_all.loc[df_all['member_casual'] == 'Customer', 'member_casual'] = 'casual'\n",
    "df_all.loc[df_all['member_casual'] == 'Subscriber', 'member_casual'] = 'member'\n",
    "df_all.loc[df_all['member_casual'] == 'Yes', 'member_casual'] = 'member'\n",
    "df_all.loc[df_all['member_casual'] == 'No', 'member_casual'] = 'casual'"
   ]
  },
  {
   "cell_type": "code",
   "execution_count": null,
   "metadata": {},
   "outputs": [],
   "source": [
    "df_grouped = df_all.groupby(['city','member_casual']).agg({'ride_id': 'count'}).copy().reset_index()\n",
    "\n",
    "df_grouped.rename(columns={'ride_id':'#trips'}, inplace=True)"
   ]
  },
  {
   "cell_type": "code",
   "execution_count": null,
   "metadata": {},
   "outputs": [],
   "source": [
    "df_grouped.head()"
   ]
  },
  {
   "cell_type": "code",
   "execution_count": null,
   "metadata": {},
   "outputs": [],
   "source": [
    "# Pivot to prepare to plot the years and cities\n",
    "df_pivot = df_grouped.pivot(index='city', columns='member_casual', values='#trips')"
   ]
  },
  {
   "cell_type": "code",
   "execution_count": null,
   "metadata": {},
   "outputs": [],
   "source": [
    "df_pivot.head()"
   ]
  },
  {
   "cell_type": "code",
   "execution_count": null,
   "metadata": {},
   "outputs": [],
   "source": [
    "heading = 'Total Trips by Member Type'\n",
    "\n",
    "plt.figure()\n",
    "ax = df_pivot.plot.bar(stacked=False, figsize=(10,6), title=heading)\n",
    "ax.set_ylabel('Number of Trips')\n",
    "\n",
    "plt.show()"
   ]
  },
  {
   "cell_type": "code",
   "execution_count": null,
   "metadata": {},
   "outputs": [],
   "source": []
  }
 ],
 "metadata": {
  "colab": {
   "name": "CMSC 436 Final Project - GitHub Analysis.ipynb",
   "provenance": [],
   "toc_visible": true
  },
  "kernelspec": {
   "display_name": "Python 3 (ipykernel)",
   "language": "python",
   "name": "python3"
  },
  "language_info": {
   "codemirror_mode": {
    "name": "ipython",
    "version": 3
   },
   "file_extension": ".py",
   "mimetype": "text/x-python",
   "name": "python",
   "nbconvert_exporter": "python",
   "pygments_lexer": "ipython3",
   "version": "3.9.7"
  }
 },
 "nbformat": 4,
 "nbformat_minor": 4
}
