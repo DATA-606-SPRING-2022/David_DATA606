{
 "cells": [
  {
   "cell_type": "markdown",
   "metadata": {
    "id": "lRmgmXQ0OBXv"
   },
   "source": [
    "# Capstone Project\n",
    "### DATA 606, Spring 2022, Dr. Chaojie Wang\n",
    "\n",
    "#### Description: \n",
    "This notebook represents data cleansing and Exploratory Data Analysis.  This explores BikeShare trip data for three cities to get an understanding of the data through summarizing and charting.  \n",
    "\n",
    "#### Dataset Sources:\n",
    "<ul><li>New York City: <a href='https://ride.citibikenyc.com/system-data'>https://ride.citibikenyc.com/system-data</a> </li>\n",
    "    <li>Chicago: <a href='https://ride.divvybikes.com/system-data'>https://ride.divvybikes.com/system-data</a> </li>\n",
    "    <li>San Francisco: <a href='https://www.lyft.com/bikes/bay-wheels/system-data'>https://www.lyft.com/bikes/bay-wheels/system-data</a> </li>\n",
    "</ul>"
   ]
  },
  {
   "cell_type": "markdown",
   "metadata": {
    "id": "OHVP43oha7op"
   },
   "source": [
    "## Function Definitions & Setup\n",
    "This section deals with imports and function definitions"
   ]
  },
  {
   "cell_type": "raw",
   "metadata": {},
   "source": [
    "Run these from the command line:\n",
    "pip install shapely\n",
    "conda install --channel conda-forge geopandas\n",
    "conda install pygeos --channel conda-forge"
   ]
  },
  {
   "cell_type": "code",
   "execution_count": 1,
   "metadata": {},
   "outputs": [
    {
     "data": {
      "text/plain": [
       "'1.3.4'"
      ]
     },
     "execution_count": 1,
     "metadata": {},
     "output_type": "execute_result"
    }
   ],
   "source": [
    "import pandas as pd\n",
    "pd.__version__"
   ]
  },
  {
   "cell_type": "raw",
   "metadata": {},
   "source": [
    "# For plotting on a map\n",
    "import geopandas as gp"
   ]
  },
  {
   "cell_type": "code",
   "execution_count": 2,
   "metadata": {},
   "outputs": [],
   "source": [
    "from matplotlib import pyplot as plt"
   ]
  },
  {
   "cell_type": "code",
   "execution_count": 3,
   "metadata": {},
   "outputs": [],
   "source": [
    "import numpy as np"
   ]
  },
  {
   "cell_type": "code",
   "execution_count": 4,
   "metadata": {},
   "outputs": [],
   "source": [
    "import glob"
   ]
  },
  {
   "cell_type": "code",
   "execution_count": 5,
   "metadata": {
    "id": "eXY2L8vUOwgm"
   },
   "outputs": [],
   "source": [
    "import os\n",
    "from os.path import join, isdir\n",
    "from os import mkdir, path"
   ]
  },
  {
   "cell_type": "code",
   "execution_count": 6,
   "metadata": {},
   "outputs": [],
   "source": [
    "import datetime"
   ]
  },
  {
   "cell_type": "code",
   "execution_count": 7,
   "metadata": {},
   "outputs": [],
   "source": [
    "# Import my helper py file to help with importing the data\n",
    "import dfimporthelpers as imp"
   ]
  },
  {
   "cell_type": "markdown",
   "metadata": {},
   "source": [
    "### Input Parameters\n",
    "#### Set input parameter values that will be used for the analysis\n"
   ]
  },
  {
   "cell_type": "code",
   "execution_count": 8,
   "metadata": {},
   "outputs": [],
   "source": [
    "# Used for chart labels\n",
    "p_city_name = 'Chicago'"
   ]
  },
  {
   "cell_type": "code",
   "execution_count": 9,
   "metadata": {},
   "outputs": [],
   "source": [
    "# Source directory of csv data files to analyze\n",
    "p_src_directory = 'ChicagoData'"
   ]
  },
  {
   "cell_type": "code",
   "execution_count": 10,
   "metadata": {},
   "outputs": [],
   "source": [
    "# Column names to be used when importing the data since some files use different names\n",
    "# even though the columns are the same.  Set to None to use the columns names from the header in \n",
    "# each file.\n",
    "p_column_names = None\n",
    "#p_column_names = ['ride_id','started_at','ended_at','bikeid','tripduration','start_station_id',\n",
    "#                'start_station_name','end_station_id','end_station_name','usertype','gender','birthyear']"
   ]
  },
  {
   "cell_type": "markdown",
   "metadata": {},
   "source": [
    "<br><br>\n",
    "\n",
    "# Load and Clean Bike Share data for each city"
   ]
  },
  {
   "cell_type": "code",
   "execution_count": 11,
   "metadata": {
    "tags": []
   },
   "outputs": [],
   "source": [
    "dir_path = '/Users/DF/Library/CloudStorage/OneDrive-Personal/Documents/' + \\\n",
    "           'Grad School-David’s MacBook Pro/Spring 2022 - Capstone/JupyterNB/'"
   ]
  },
  {
   "cell_type": "markdown",
   "metadata": {},
   "source": [
    "## Load Chicago data\n",
    "#### First load the newer data, which uses a different field layout than the older data. This was determined through initial cleaning and then streamlined in this consolidated notebook."
   ]
  },
  {
   "cell_type": "code",
   "execution_count": 12,
   "metadata": {},
   "outputs": [],
   "source": [
    "# Load Chicago data that uses the latest field layout\n",
    "full_path = dir_path + 'ChicagoData'\n",
    "df_chicago = imp.load_csvs_to_df(src_dir=full_path, col_names=None)"
   ]
  },
  {
   "cell_type": "code",
   "execution_count": 13,
   "metadata": {},
   "outputs": [
    {
     "data": {
      "text/html": [
       "<div>\n",
       "<style scoped>\n",
       "    .dataframe tbody tr th:only-of-type {\n",
       "        vertical-align: middle;\n",
       "    }\n",
       "\n",
       "    .dataframe tbody tr th {\n",
       "        vertical-align: top;\n",
       "    }\n",
       "\n",
       "    .dataframe thead th {\n",
       "        text-align: right;\n",
       "    }\n",
       "</style>\n",
       "<table border=\"1\" class=\"dataframe\">\n",
       "  <thead>\n",
       "    <tr style=\"text-align: right;\">\n",
       "      <th></th>\n",
       "      <th>ride_id</th>\n",
       "      <th>rideable_type</th>\n",
       "      <th>started_at</th>\n",
       "      <th>ended_at</th>\n",
       "      <th>start_station_name</th>\n",
       "      <th>start_station_id</th>\n",
       "      <th>end_station_name</th>\n",
       "      <th>end_station_id</th>\n",
       "      <th>start_lat</th>\n",
       "      <th>start_lng</th>\n",
       "      <th>end_lat</th>\n",
       "      <th>end_lng</th>\n",
       "      <th>member_casual</th>\n",
       "    </tr>\n",
       "  </thead>\n",
       "  <tbody>\n",
       "    <tr>\n",
       "      <th>0</th>\n",
       "      <td>BD0A6FF6FFF9B921</td>\n",
       "      <td>electric_bike</td>\n",
       "      <td>2020-11-01 13:36:00</td>\n",
       "      <td>2020-11-01 13:45:40</td>\n",
       "      <td>Dearborn St &amp; Erie St</td>\n",
       "      <td>110.0</td>\n",
       "      <td>St. Clair St &amp; Erie St</td>\n",
       "      <td>211.0</td>\n",
       "      <td>41.894177</td>\n",
       "      <td>-87.629127</td>\n",
       "      <td>41.894434</td>\n",
       "      <td>-87.623379</td>\n",
       "      <td>casual</td>\n",
       "    </tr>\n",
       "    <tr>\n",
       "      <th>1</th>\n",
       "      <td>96A7A7A4BDE4F82D</td>\n",
       "      <td>electric_bike</td>\n",
       "      <td>2020-11-01 10:03:26</td>\n",
       "      <td>2020-11-01 10:14:45</td>\n",
       "      <td>Franklin St &amp; Illinois St</td>\n",
       "      <td>672.0</td>\n",
       "      <td>Noble St &amp; Milwaukee Ave</td>\n",
       "      <td>29.0</td>\n",
       "      <td>41.890959</td>\n",
       "      <td>-87.635343</td>\n",
       "      <td>41.900675</td>\n",
       "      <td>-87.662480</td>\n",
       "      <td>casual</td>\n",
       "    </tr>\n",
       "    <tr>\n",
       "      <th>2</th>\n",
       "      <td>C61526D06582BDC5</td>\n",
       "      <td>electric_bike</td>\n",
       "      <td>2020-11-01 00:34:05</td>\n",
       "      <td>2020-11-01 01:03:06</td>\n",
       "      <td>Lake Shore Dr &amp; Monroe St</td>\n",
       "      <td>76.0</td>\n",
       "      <td>Federal St &amp; Polk St</td>\n",
       "      <td>41.0</td>\n",
       "      <td>41.880983</td>\n",
       "      <td>-87.616754</td>\n",
       "      <td>41.872054</td>\n",
       "      <td>-87.629550</td>\n",
       "      <td>casual</td>\n",
       "    </tr>\n",
       "    <tr>\n",
       "      <th>3</th>\n",
       "      <td>E533E89C32080B9E</td>\n",
       "      <td>electric_bike</td>\n",
       "      <td>2020-11-01 00:45:16</td>\n",
       "      <td>2020-11-01 00:54:31</td>\n",
       "      <td>Leavitt St &amp; Chicago Ave</td>\n",
       "      <td>659.0</td>\n",
       "      <td>Stave St &amp; Armitage Ave</td>\n",
       "      <td>185.0</td>\n",
       "      <td>41.895499</td>\n",
       "      <td>-87.682013</td>\n",
       "      <td>41.917744</td>\n",
       "      <td>-87.691392</td>\n",
       "      <td>casual</td>\n",
       "    </tr>\n",
       "    <tr>\n",
       "      <th>4</th>\n",
       "      <td>1C9F4EF18C168C60</td>\n",
       "      <td>electric_bike</td>\n",
       "      <td>2020-11-01 15:43:25</td>\n",
       "      <td>2020-11-01 16:16:52</td>\n",
       "      <td>Buckingham Fountain</td>\n",
       "      <td>2.0</td>\n",
       "      <td>Buckingham Fountain</td>\n",
       "      <td>2.0</td>\n",
       "      <td>41.876497</td>\n",
       "      <td>-87.620358</td>\n",
       "      <td>41.876448</td>\n",
       "      <td>-87.620338</td>\n",
       "      <td>casual</td>\n",
       "    </tr>\n",
       "  </tbody>\n",
       "</table>\n",
       "</div>"
      ],
      "text/plain": [
       "            ride_id  rideable_type           started_at             ended_at  \\\n",
       "0  BD0A6FF6FFF9B921  electric_bike  2020-11-01 13:36:00  2020-11-01 13:45:40   \n",
       "1  96A7A7A4BDE4F82D  electric_bike  2020-11-01 10:03:26  2020-11-01 10:14:45   \n",
       "2  C61526D06582BDC5  electric_bike  2020-11-01 00:34:05  2020-11-01 01:03:06   \n",
       "3  E533E89C32080B9E  electric_bike  2020-11-01 00:45:16  2020-11-01 00:54:31   \n",
       "4  1C9F4EF18C168C60  electric_bike  2020-11-01 15:43:25  2020-11-01 16:16:52   \n",
       "\n",
       "          start_station_name start_station_id          end_station_name  \\\n",
       "0      Dearborn St & Erie St            110.0    St. Clair St & Erie St   \n",
       "1  Franklin St & Illinois St            672.0  Noble St & Milwaukee Ave   \n",
       "2  Lake Shore Dr & Monroe St             76.0      Federal St & Polk St   \n",
       "3   Leavitt St & Chicago Ave            659.0   Stave St & Armitage Ave   \n",
       "4        Buckingham Fountain              2.0       Buckingham Fountain   \n",
       "\n",
       "  end_station_id  start_lat  start_lng    end_lat    end_lng member_casual  \n",
       "0          211.0  41.894177 -87.629127  41.894434 -87.623379        casual  \n",
       "1           29.0  41.890959 -87.635343  41.900675 -87.662480        casual  \n",
       "2           41.0  41.880983 -87.616754  41.872054 -87.629550        casual  \n",
       "3          185.0  41.895499 -87.682013  41.917744 -87.691392        casual  \n",
       "4            2.0  41.876497 -87.620358  41.876448 -87.620338        casual  "
      ]
     },
     "execution_count": 13,
     "metadata": {},
     "output_type": "execute_result"
    }
   ],
   "source": [
    "df_chicago.head(5)"
   ]
  },
  {
   "cell_type": "markdown",
   "metadata": {},
   "source": [
    "#### Now Load the older data"
   ]
  },
  {
   "cell_type": "code",
   "execution_count": 14,
   "metadata": {},
   "outputs": [],
   "source": [
    "# Load the older data that uses a different layout\n",
    "full_path = dir_path + 'ChicagoData/Older'\n",
    "\n",
    "column_names = ['ride_id','started_at','ended_at','bikeid','tripduration','start_station_id',\n",
    "                'start_station_name','end_station_id','end_station_name','member_casual','gender','birthyear']\n",
    "\n",
    "df_temp = imp.load_csvs_to_df(src_dir=full_path, col_names=column_names)"
   ]
  },
  {
   "cell_type": "code",
   "execution_count": 15,
   "metadata": {},
   "outputs": [
    {
     "data": {
      "text/html": [
       "<div>\n",
       "<style scoped>\n",
       "    .dataframe tbody tr th:only-of-type {\n",
       "        vertical-align: middle;\n",
       "    }\n",
       "\n",
       "    .dataframe tbody tr th {\n",
       "        vertical-align: top;\n",
       "    }\n",
       "\n",
       "    .dataframe thead th {\n",
       "        text-align: right;\n",
       "    }\n",
       "</style>\n",
       "<table border=\"1\" class=\"dataframe\">\n",
       "  <thead>\n",
       "    <tr style=\"text-align: right;\">\n",
       "      <th></th>\n",
       "      <th>ride_id</th>\n",
       "      <th>started_at</th>\n",
       "      <th>ended_at</th>\n",
       "      <th>bikeid</th>\n",
       "      <th>tripduration</th>\n",
       "      <th>start_station_id</th>\n",
       "      <th>start_station_name</th>\n",
       "      <th>end_station_id</th>\n",
       "      <th>end_station_name</th>\n",
       "      <th>member_casual</th>\n",
       "      <th>gender</th>\n",
       "      <th>birthyear</th>\n",
       "    </tr>\n",
       "  </thead>\n",
       "  <tbody>\n",
       "    <tr>\n",
       "      <th>0</th>\n",
       "      <td>23479388</td>\n",
       "      <td>2019-07-01 00:00:27</td>\n",
       "      <td>2019-07-01 00:20:41</td>\n",
       "      <td>3591</td>\n",
       "      <td>1,214.0</td>\n",
       "      <td>117</td>\n",
       "      <td>Wilton Ave &amp; Belmont Ave</td>\n",
       "      <td>497</td>\n",
       "      <td>Kimball Ave &amp; Belmont Ave</td>\n",
       "      <td>Subscriber</td>\n",
       "      <td>Male</td>\n",
       "      <td>1992.0</td>\n",
       "    </tr>\n",
       "    <tr>\n",
       "      <th>1</th>\n",
       "      <td>23479389</td>\n",
       "      <td>2019-07-01 00:01:16</td>\n",
       "      <td>2019-07-01 00:18:44</td>\n",
       "      <td>5353</td>\n",
       "      <td>1,048.0</td>\n",
       "      <td>381</td>\n",
       "      <td>Western Ave &amp; Monroe St</td>\n",
       "      <td>203</td>\n",
       "      <td>Western Ave &amp; 21st St</td>\n",
       "      <td>Customer</td>\n",
       "      <td>NaN</td>\n",
       "      <td>NaN</td>\n",
       "    </tr>\n",
       "    <tr>\n",
       "      <th>2</th>\n",
       "      <td>23479390</td>\n",
       "      <td>2019-07-01 00:01:48</td>\n",
       "      <td>2019-07-01 00:27:42</td>\n",
       "      <td>6180</td>\n",
       "      <td>1,554.0</td>\n",
       "      <td>313</td>\n",
       "      <td>Lakeview Ave &amp; Fullerton Pkwy</td>\n",
       "      <td>144</td>\n",
       "      <td>Larrabee St &amp; Webster Ave</td>\n",
       "      <td>Customer</td>\n",
       "      <td>NaN</td>\n",
       "      <td>NaN</td>\n",
       "    </tr>\n",
       "    <tr>\n",
       "      <th>3</th>\n",
       "      <td>23479391</td>\n",
       "      <td>2019-07-01 00:02:07</td>\n",
       "      <td>2019-07-01 00:27:10</td>\n",
       "      <td>5540</td>\n",
       "      <td>1,503.0</td>\n",
       "      <td>313</td>\n",
       "      <td>Lakeview Ave &amp; Fullerton Pkwy</td>\n",
       "      <td>144</td>\n",
       "      <td>Larrabee St &amp; Webster Ave</td>\n",
       "      <td>Customer</td>\n",
       "      <td>NaN</td>\n",
       "      <td>NaN</td>\n",
       "    </tr>\n",
       "    <tr>\n",
       "      <th>4</th>\n",
       "      <td>23479392</td>\n",
       "      <td>2019-07-01 00:02:13</td>\n",
       "      <td>2019-07-01 00:22:26</td>\n",
       "      <td>6014</td>\n",
       "      <td>1,213.0</td>\n",
       "      <td>168</td>\n",
       "      <td>Michigan Ave &amp; 14th St</td>\n",
       "      <td>62</td>\n",
       "      <td>McCormick Place</td>\n",
       "      <td>Customer</td>\n",
       "      <td>NaN</td>\n",
       "      <td>NaN</td>\n",
       "    </tr>\n",
       "  </tbody>\n",
       "</table>\n",
       "</div>"
      ],
      "text/plain": [
       "    ride_id           started_at             ended_at  bikeid tripduration  \\\n",
       "0  23479388  2019-07-01 00:00:27  2019-07-01 00:20:41    3591      1,214.0   \n",
       "1  23479389  2019-07-01 00:01:16  2019-07-01 00:18:44    5353      1,048.0   \n",
       "2  23479390  2019-07-01 00:01:48  2019-07-01 00:27:42    6180      1,554.0   \n",
       "3  23479391  2019-07-01 00:02:07  2019-07-01 00:27:10    5540      1,503.0   \n",
       "4  23479392  2019-07-01 00:02:13  2019-07-01 00:22:26    6014      1,213.0   \n",
       "\n",
       "   start_station_id             start_station_name  end_station_id  \\\n",
       "0               117       Wilton Ave & Belmont Ave             497   \n",
       "1               381        Western Ave & Monroe St             203   \n",
       "2               313  Lakeview Ave & Fullerton Pkwy             144   \n",
       "3               313  Lakeview Ave & Fullerton Pkwy             144   \n",
       "4               168         Michigan Ave & 14th St              62   \n",
       "\n",
       "            end_station_name member_casual gender  birthyear  \n",
       "0  Kimball Ave & Belmont Ave    Subscriber   Male     1992.0  \n",
       "1      Western Ave & 21st St      Customer    NaN        NaN  \n",
       "2  Larrabee St & Webster Ave      Customer    NaN        NaN  \n",
       "3  Larrabee St & Webster Ave      Customer    NaN        NaN  \n",
       "4            McCormick Place      Customer    NaN        NaN  "
      ]
     },
     "execution_count": 15,
     "metadata": {},
     "output_type": "execute_result"
    }
   ],
   "source": [
    "df_temp.head(5)"
   ]
  },
  {
   "cell_type": "code",
   "execution_count": 16,
   "metadata": {},
   "outputs": [
    {
     "data": {
      "text/plain": [
       "ride_id                object\n",
       "rideable_type          object\n",
       "started_at             object\n",
       "ended_at               object\n",
       "start_station_name     object\n",
       "start_station_id       object\n",
       "end_station_name       object\n",
       "end_station_id         object\n",
       "start_lat             float64\n",
       "start_lng             float64\n",
       "end_lat               float64\n",
       "end_lng               float64\n",
       "member_casual          object\n",
       "dtype: object"
      ]
     },
     "execution_count": 16,
     "metadata": {},
     "output_type": "execute_result"
    }
   ],
   "source": [
    "# View data\n",
    "df_chicago.dtypes"
   ]
  },
  {
   "cell_type": "code",
   "execution_count": 17,
   "metadata": {},
   "outputs": [
    {
     "data": {
      "text/plain": [
       "ride_id                 int64\n",
       "started_at             object\n",
       "ended_at               object\n",
       "bikeid                  int64\n",
       "tripduration           object\n",
       "start_station_id        int64\n",
       "start_station_name     object\n",
       "end_station_id          int64\n",
       "end_station_name       object\n",
       "member_casual          object\n",
       "gender                 object\n",
       "birthyear             float64\n",
       "dtype: object"
      ]
     },
     "execution_count": 17,
     "metadata": {},
     "output_type": "execute_result"
    }
   ],
   "source": [
    "df_temp.dtypes"
   ]
  },
  {
   "cell_type": "markdown",
   "metadata": {},
   "source": [
    "#### Combine the two Chicago dataframes then we'll update field types further"
   ]
  },
  {
   "cell_type": "markdown",
   "metadata": {},
   "source": [
    "#### Get row counts of each before we combine them"
   ]
  },
  {
   "cell_type": "code",
   "execution_count": 18,
   "metadata": {},
   "outputs": [
    {
     "data": {
      "text/plain": [
       "(3818004, 12)"
      ]
     },
     "execution_count": 18,
     "metadata": {},
     "output_type": "execute_result"
    }
   ],
   "source": [
    "df_temp.shape"
   ]
  },
  {
   "cell_type": "code",
   "execution_count": 19,
   "metadata": {},
   "outputs": [
    {
     "data": {
      "text/plain": [
       "(9240516, 13)"
      ]
     },
     "execution_count": 19,
     "metadata": {},
     "output_type": "execute_result"
    }
   ],
   "source": [
    "df_chicago.shape"
   ]
  },
  {
   "cell_type": "code",
   "execution_count": 20,
   "metadata": {},
   "outputs": [],
   "source": [
    "df_chicago = pd.concat([df_temp, df_chicago])"
   ]
  },
  {
   "cell_type": "code",
   "execution_count": 21,
   "metadata": {},
   "outputs": [
    {
     "name": "stdout",
     "output_type": "stream",
     "text": [
      "rows: 13058520\n",
      "columns: 17\n"
     ]
    }
   ],
   "source": [
    "# How many rows and columns\n",
    "print('rows:', df_chicago.shape[0])\n",
    "print('columns:', df_chicago.shape[1])"
   ]
  },
  {
   "cell_type": "markdown",
   "metadata": {},
   "source": [
    "#### Add a field to indicate this is from Chicago.  This will be useful when we combine all the cities together."
   ]
  },
  {
   "cell_type": "code",
   "execution_count": 22,
   "metadata": {},
   "outputs": [],
   "source": [
    "df_chicago['city'] = 'Chicago'"
   ]
  },
  {
   "cell_type": "code",
   "execution_count": 23,
   "metadata": {},
   "outputs": [
    {
     "data": {
      "text/plain": [
       "ride_id                object\n",
       "started_at             object\n",
       "ended_at               object\n",
       "bikeid                float64\n",
       "tripduration           object\n",
       "start_station_id       object\n",
       "start_station_name     object\n",
       "end_station_id         object\n",
       "end_station_name       object\n",
       "member_casual          object\n",
       "gender                 object\n",
       "birthyear             float64\n",
       "rideable_type          object\n",
       "start_lat             float64\n",
       "start_lng             float64\n",
       "end_lat               float64\n",
       "end_lng               float64\n",
       "city                   object\n",
       "dtype: object"
      ]
     },
     "execution_count": 23,
     "metadata": {},
     "output_type": "execute_result"
    }
   ],
   "source": [
    "# View many\n",
    "df_chicago.dtypes"
   ]
  },
  {
   "cell_type": "markdown",
   "metadata": {},
   "source": [
    "## Load San Francisco data\n",
    "#### First load the newer data, which uses a different field layout than the older data. This was determined through initial cleaning and then streamlined in this consolidated notebook."
   ]
  },
  {
   "cell_type": "code",
   "execution_count": 24,
   "metadata": {},
   "outputs": [],
   "source": [
    "# Load Chicago data that uses the latest field layout\n",
    "full_path = dir_path + 'SanFranciscoData'\n",
    "df_sanfrancisco = imp.load_csvs_to_df(src_dir=full_path, col_names=None)"
   ]
  },
  {
   "cell_type": "code",
   "execution_count": 25,
   "metadata": {},
   "outputs": [
    {
     "data": {
      "text/plain": [
       "ride_id                object\n",
       "rideable_type          object\n",
       "started_at             object\n",
       "ended_at               object\n",
       "start_station_name     object\n",
       "start_station_id       object\n",
       "end_station_name       object\n",
       "end_station_id         object\n",
       "start_lat             float64\n",
       "start_lng             float64\n",
       "end_lat               float64\n",
       "end_lng               float64\n",
       "member_casual          object\n",
       "dtype: object"
      ]
     },
     "execution_count": 25,
     "metadata": {},
     "output_type": "execute_result"
    }
   ],
   "source": [
    "df_sanfrancisco.dtypes"
   ]
  },
  {
   "cell_type": "markdown",
   "metadata": {},
   "source": [
    "#### Now Load the older data"
   ]
  },
  {
   "cell_type": "code",
   "execution_count": 26,
   "metadata": {},
   "outputs": [],
   "source": [
    "# Load the older data that uses a different layout\n",
    "full_path = dir_path + 'SanFranciscoData/Older'\n",
    "\n",
    "column_names = ['duration','started_at','ended_at','start_station_id',\n",
    "                'start_station_name','start_lat','start_lng','end_station_id','end_station_name',\n",
    "                'end_lat','end_lng','bike_id','member_casual','rental_access_method']\n",
    "\n",
    "df_temp = imp.load_csvs_to_df(src_dir=full_path, col_names=column_names)"
   ]
  },
  {
   "cell_type": "code",
   "execution_count": 27,
   "metadata": {},
   "outputs": [
    {
     "data": {
      "text/plain": [
       "duration                 object\n",
       "started_at               object\n",
       "ended_at                 object\n",
       "start_station_id         object\n",
       "start_station_name       object\n",
       "start_lat               float64\n",
       "start_lng               float64\n",
       "end_station_id           object\n",
       "end_station_name         object\n",
       "end_lat                 float64\n",
       "end_lng                 float64\n",
       "bike_id                  object\n",
       "member_casual            object\n",
       "rental_access_method     object\n",
       "dtype: object"
      ]
     },
     "execution_count": 27,
     "metadata": {},
     "output_type": "execute_result"
    }
   ],
   "source": [
    "df_temp.dtypes"
   ]
  },
  {
   "cell_type": "code",
   "execution_count": 28,
   "metadata": {},
   "outputs": [
    {
     "data": {
      "text/plain": [
       "ride_id                object\n",
       "rideable_type          object\n",
       "started_at             object\n",
       "ended_at               object\n",
       "start_station_name     object\n",
       "start_station_id       object\n",
       "end_station_name       object\n",
       "end_station_id         object\n",
       "start_lat             float64\n",
       "start_lng             float64\n",
       "end_lat               float64\n",
       "end_lng               float64\n",
       "member_casual          object\n",
       "dtype: object"
      ]
     },
     "execution_count": 28,
     "metadata": {},
     "output_type": "execute_result"
    }
   ],
   "source": [
    "# View data\n",
    "df_sanfrancisco.dtypes"
   ]
  },
  {
   "cell_type": "markdown",
   "metadata": {},
   "source": [
    "#### Combine the two dataframes then we'll update field types further"
   ]
  },
  {
   "cell_type": "markdown",
   "metadata": {},
   "source": [
    "#### Get row counts of each before we combine them"
   ]
  },
  {
   "cell_type": "code",
   "execution_count": 29,
   "metadata": {},
   "outputs": [
    {
     "data": {
      "text/plain": [
       "(3411990, 14)"
      ]
     },
     "execution_count": 29,
     "metadata": {},
     "output_type": "execute_result"
    }
   ],
   "source": [
    "df_temp.shape"
   ]
  },
  {
   "cell_type": "code",
   "execution_count": 30,
   "metadata": {},
   "outputs": [
    {
     "data": {
      "text/plain": [
       "(3427009, 13)"
      ]
     },
     "execution_count": 30,
     "metadata": {},
     "output_type": "execute_result"
    }
   ],
   "source": [
    "df_sanfrancisco.shape"
   ]
  },
  {
   "cell_type": "code",
   "execution_count": 31,
   "metadata": {},
   "outputs": [],
   "source": [
    "df_sanfrancisco = pd.concat([df_temp, df_sanfrancisco])"
   ]
  },
  {
   "cell_type": "code",
   "execution_count": 32,
   "metadata": {},
   "outputs": [
    {
     "name": "stdout",
     "output_type": "stream",
     "text": [
      "rows: 6838999\n",
      "columns: 16\n"
     ]
    }
   ],
   "source": [
    "# How many rows and columns\n",
    "print('rows:', df_sanfrancisco.shape[0])\n",
    "print('columns:', df_sanfrancisco.shape[1])"
   ]
  },
  {
   "cell_type": "markdown",
   "metadata": {},
   "source": [
    "#### Add a field to indicate the city.  This will be useful when we combine all the cities together."
   ]
  },
  {
   "cell_type": "code",
   "execution_count": 33,
   "metadata": {},
   "outputs": [],
   "source": [
    "df_sanfrancisco['city'] = 'San Francisco'"
   ]
  },
  {
   "cell_type": "code",
   "execution_count": 34,
   "metadata": {},
   "outputs": [
    {
     "data": {
      "text/plain": [
       "duration                 object\n",
       "started_at               object\n",
       "ended_at                 object\n",
       "start_station_id         object\n",
       "start_station_name       object\n",
       "start_lat               float64\n",
       "start_lng               float64\n",
       "end_station_id           object\n",
       "end_station_name         object\n",
       "end_lat                 float64\n",
       "end_lng                 float64\n",
       "bike_id                  object\n",
       "member_casual            object\n",
       "rental_access_method     object\n",
       "ride_id                  object\n",
       "rideable_type            object\n",
       "city                     object\n",
       "dtype: object"
      ]
     },
     "execution_count": 34,
     "metadata": {},
     "output_type": "execute_result"
    }
   ],
   "source": [
    "df_sanfrancisco.dtypes"
   ]
  },
  {
   "cell_type": "code",
   "execution_count": 35,
   "metadata": {},
   "outputs": [
    {
     "data": {
      "text/html": [
       "<div>\n",
       "<style scoped>\n",
       "    .dataframe tbody tr th:only-of-type {\n",
       "        vertical-align: middle;\n",
       "    }\n",
       "\n",
       "    .dataframe tbody tr th {\n",
       "        vertical-align: top;\n",
       "    }\n",
       "\n",
       "    .dataframe thead th {\n",
       "        text-align: right;\n",
       "    }\n",
       "</style>\n",
       "<table border=\"1\" class=\"dataframe\">\n",
       "  <thead>\n",
       "    <tr style=\"text-align: right;\">\n",
       "      <th></th>\n",
       "      <th>duration</th>\n",
       "      <th>started_at</th>\n",
       "      <th>ended_at</th>\n",
       "      <th>start_station_id</th>\n",
       "      <th>start_station_name</th>\n",
       "      <th>start_lat</th>\n",
       "      <th>start_lng</th>\n",
       "      <th>end_station_id</th>\n",
       "      <th>end_station_name</th>\n",
       "      <th>end_lat</th>\n",
       "      <th>end_lng</th>\n",
       "      <th>bike_id</th>\n",
       "      <th>member_casual</th>\n",
       "      <th>rental_access_method</th>\n",
       "      <th>ride_id</th>\n",
       "      <th>rideable_type</th>\n",
       "      <th>city</th>\n",
       "    </tr>\n",
       "  </thead>\n",
       "  <tbody>\n",
       "    <tr>\n",
       "      <th>0</th>\n",
       "      <td>60863</td>\n",
       "      <td>2019-09-30 11:48:02.7100</td>\n",
       "      <td>2019-10-01 04:42:25.8640</td>\n",
       "      <td>465</td>\n",
       "      <td>San Francisco Caltrain Station (King St at 4th...</td>\n",
       "      <td>37.776329</td>\n",
       "      <td>-122.394438</td>\n",
       "      <td>465</td>\n",
       "      <td>San Francisco Caltrain Station (King St at 4th...</td>\n",
       "      <td>37.776329</td>\n",
       "      <td>-122.394438</td>\n",
       "      <td>12904</td>\n",
       "      <td>Customer</td>\n",
       "      <td>No</td>\n",
       "      <td>NaN</td>\n",
       "      <td>NaN</td>\n",
       "      <td>San Francisco</td>\n",
       "    </tr>\n",
       "    <tr>\n",
       "      <th>1</th>\n",
       "      <td>36019</td>\n",
       "      <td>2019-09-30 16:16:32.3530</td>\n",
       "      <td>2019-10-01 02:16:51.9820</td>\n",
       "      <td>294</td>\n",
       "      <td>Pierce Ave at Market St</td>\n",
       "      <td>37.327581</td>\n",
       "      <td>-121.884559</td>\n",
       "      <td>443</td>\n",
       "      <td>3rd St at Keyes St</td>\n",
       "      <td>37.320866</td>\n",
       "      <td>-121.876279</td>\n",
       "      <td>163</td>\n",
       "      <td>Customer</td>\n",
       "      <td>No</td>\n",
       "      <td>NaN</td>\n",
       "      <td>NaN</td>\n",
       "      <td>San Francisco</td>\n",
       "    </tr>\n",
       "    <tr>\n",
       "      <th>2</th>\n",
       "      <td>5615</td>\n",
       "      <td>2019-09-30 23:12:25.9980</td>\n",
       "      <td>2019-10-01 00:46:01.9590</td>\n",
       "      <td>370</td>\n",
       "      <td>Jones St at Post St</td>\n",
       "      <td>37.787327</td>\n",
       "      <td>-122.413278</td>\n",
       "      <td>4</td>\n",
       "      <td>Cyril Magnin St at Ellis St</td>\n",
       "      <td>37.785881</td>\n",
       "      <td>-122.408915</td>\n",
       "      <td>10737</td>\n",
       "      <td>Customer</td>\n",
       "      <td>No</td>\n",
       "      <td>NaN</td>\n",
       "      <td>NaN</td>\n",
       "      <td>San Francisco</td>\n",
       "    </tr>\n",
       "    <tr>\n",
       "      <th>3</th>\n",
       "      <td>1482</td>\n",
       "      <td>2019-09-30 23:57:34.6630</td>\n",
       "      <td>2019-10-01 00:22:16.8490</td>\n",
       "      <td>109</td>\n",
       "      <td>17th St at Valencia St</td>\n",
       "      <td>37.763316</td>\n",
       "      <td>-122.421904</td>\n",
       "      <td>460</td>\n",
       "      <td>Terry Francois Blvd at Warriors Way</td>\n",
       "      <td>37.769095</td>\n",
       "      <td>-122.386333</td>\n",
       "      <td>10346</td>\n",
       "      <td>Customer</td>\n",
       "      <td>No</td>\n",
       "      <td>NaN</td>\n",
       "      <td>NaN</td>\n",
       "      <td>San Francisco</td>\n",
       "    </tr>\n",
       "    <tr>\n",
       "      <th>4</th>\n",
       "      <td>1272</td>\n",
       "      <td>2019-09-30 23:53:28.6530</td>\n",
       "      <td>2019-10-01 00:14:41.0740</td>\n",
       "      <td>95</td>\n",
       "      <td>Sanchez St at 15th St</td>\n",
       "      <td>37.766219</td>\n",
       "      <td>-122.431060</td>\n",
       "      <td>127</td>\n",
       "      <td>Valencia St at 21st St</td>\n",
       "      <td>37.756708</td>\n",
       "      <td>-122.421025</td>\n",
       "      <td>1349</td>\n",
       "      <td>Subscriber</td>\n",
       "      <td>No</td>\n",
       "      <td>NaN</td>\n",
       "      <td>NaN</td>\n",
       "      <td>San Francisco</td>\n",
       "    </tr>\n",
       "  </tbody>\n",
       "</table>\n",
       "</div>"
      ],
      "text/plain": [
       "  duration                started_at                  ended_at  \\\n",
       "0    60863  2019-09-30 11:48:02.7100  2019-10-01 04:42:25.8640   \n",
       "1    36019  2019-09-30 16:16:32.3530  2019-10-01 02:16:51.9820   \n",
       "2     5615  2019-09-30 23:12:25.9980  2019-10-01 00:46:01.9590   \n",
       "3     1482  2019-09-30 23:57:34.6630  2019-10-01 00:22:16.8490   \n",
       "4     1272  2019-09-30 23:53:28.6530  2019-10-01 00:14:41.0740   \n",
       "\n",
       "  start_station_id                                 start_station_name  \\\n",
       "0              465  San Francisco Caltrain Station (King St at 4th...   \n",
       "1              294                            Pierce Ave at Market St   \n",
       "2              370                                Jones St at Post St   \n",
       "3              109                             17th St at Valencia St   \n",
       "4               95                              Sanchez St at 15th St   \n",
       "\n",
       "   start_lat   start_lng end_station_id  \\\n",
       "0  37.776329 -122.394438            465   \n",
       "1  37.327581 -121.884559            443   \n",
       "2  37.787327 -122.413278              4   \n",
       "3  37.763316 -122.421904            460   \n",
       "4  37.766219 -122.431060            127   \n",
       "\n",
       "                                    end_station_name    end_lat     end_lng  \\\n",
       "0  San Francisco Caltrain Station (King St at 4th...  37.776329 -122.394438   \n",
       "1                                 3rd St at Keyes St  37.320866 -121.876279   \n",
       "2                        Cyril Magnin St at Ellis St  37.785881 -122.408915   \n",
       "3                Terry Francois Blvd at Warriors Way  37.769095 -122.386333   \n",
       "4                             Valencia St at 21st St  37.756708 -122.421025   \n",
       "\n",
       "  bike_id member_casual rental_access_method ride_id rideable_type  \\\n",
       "0   12904      Customer                   No     NaN           NaN   \n",
       "1     163      Customer                   No     NaN           NaN   \n",
       "2   10737      Customer                   No     NaN           NaN   \n",
       "3   10346      Customer                   No     NaN           NaN   \n",
       "4    1349    Subscriber                   No     NaN           NaN   \n",
       "\n",
       "            city  \n",
       "0  San Francisco  \n",
       "1  San Francisco  \n",
       "2  San Francisco  \n",
       "3  San Francisco  \n",
       "4  San Francisco  "
      ]
     },
     "execution_count": 35,
     "metadata": {},
     "output_type": "execute_result"
    }
   ],
   "source": [
    "# View the combined df\n",
    "df_sanfrancisco.head()"
   ]
  },
  {
   "cell_type": "markdown",
   "metadata": {},
   "source": [
    "## Load New York City data\n",
    "#### First load the newer data, which uses a different field layout than the older data. This was determined through initial cleaning and then streamlined in this consolidated notebook."
   ]
  },
  {
   "cell_type": "code",
   "execution_count": 36,
   "metadata": {},
   "outputs": [],
   "source": [
    "# Load data that uses the latest field layout\n",
    "full_path = dir_path + 'NYCData'\n",
    "df_nyc = imp.load_csvs_to_df(src_dir=full_path, col_names=None)"
   ]
  },
  {
   "cell_type": "code",
   "execution_count": 37,
   "metadata": {},
   "outputs": [
    {
     "data": {
      "text/html": [
       "<div>\n",
       "<style scoped>\n",
       "    .dataframe tbody tr th:only-of-type {\n",
       "        vertical-align: middle;\n",
       "    }\n",
       "\n",
       "    .dataframe tbody tr th {\n",
       "        vertical-align: top;\n",
       "    }\n",
       "\n",
       "    .dataframe thead th {\n",
       "        text-align: right;\n",
       "    }\n",
       "</style>\n",
       "<table border=\"1\" class=\"dataframe\">\n",
       "  <thead>\n",
       "    <tr style=\"text-align: right;\">\n",
       "      <th></th>\n",
       "      <th>ride_id</th>\n",
       "      <th>rideable_type</th>\n",
       "      <th>started_at</th>\n",
       "      <th>ended_at</th>\n",
       "      <th>start_station_name</th>\n",
       "      <th>start_station_id</th>\n",
       "      <th>end_station_name</th>\n",
       "      <th>end_station_id</th>\n",
       "      <th>start_lat</th>\n",
       "      <th>start_lng</th>\n",
       "      <th>end_lat</th>\n",
       "      <th>end_lng</th>\n",
       "      <th>member_casual</th>\n",
       "    </tr>\n",
       "  </thead>\n",
       "  <tbody>\n",
       "    <tr>\n",
       "      <th>0</th>\n",
       "      <td>E12103A91226099A</td>\n",
       "      <td>docked_bike</td>\n",
       "      <td>2021-05-06 17:25:01</td>\n",
       "      <td>2021-05-06 17:45:25</td>\n",
       "      <td>Broadway &amp; W 60 St</td>\n",
       "      <td>6948.11</td>\n",
       "      <td>1 Ave &amp; E 78 St</td>\n",
       "      <td>7020.09</td>\n",
       "      <td>40.769155</td>\n",
       "      <td>-73.981918</td>\n",
       "      <td>40.771404</td>\n",
       "      <td>-73.953517</td>\n",
       "      <td>member</td>\n",
       "    </tr>\n",
       "    <tr>\n",
       "      <th>1</th>\n",
       "      <td>26A3DC47FE0EA3A3</td>\n",
       "      <td>docked_bike</td>\n",
       "      <td>2021-05-13 12:48:08</td>\n",
       "      <td>2021-05-13 13:07:37</td>\n",
       "      <td>Broadway &amp; W 25 St</td>\n",
       "      <td>6173.08</td>\n",
       "      <td>E 2 St &amp; Avenue B</td>\n",
       "      <td>5515.02</td>\n",
       "      <td>40.742868</td>\n",
       "      <td>-73.989186</td>\n",
       "      <td>40.722174</td>\n",
       "      <td>-73.983688</td>\n",
       "      <td>member</td>\n",
       "    </tr>\n",
       "    <tr>\n",
       "      <th>2</th>\n",
       "      <td>A99F2E1D627B088F</td>\n",
       "      <td>docked_bike</td>\n",
       "      <td>2021-05-16 08:30:13</td>\n",
       "      <td>2021-05-16 08:45:47</td>\n",
       "      <td>46 Ave &amp; 5 St</td>\n",
       "      <td>6286.02</td>\n",
       "      <td>34th Ave &amp; Vernon Blvd</td>\n",
       "      <td>6873.01</td>\n",
       "      <td>40.747310</td>\n",
       "      <td>-73.954510</td>\n",
       "      <td>40.765354</td>\n",
       "      <td>-73.939863</td>\n",
       "      <td>member</td>\n",
       "    </tr>\n",
       "    <tr>\n",
       "      <th>3</th>\n",
       "      <td>43E79A45997B7390</td>\n",
       "      <td>docked_bike</td>\n",
       "      <td>2021-05-01 08:38:14</td>\n",
       "      <td>2021-05-01 08:54:27</td>\n",
       "      <td>46 Ave &amp; 5 St</td>\n",
       "      <td>6286.02</td>\n",
       "      <td>34th Ave &amp; Vernon Blvd</td>\n",
       "      <td>6873.01</td>\n",
       "      <td>40.747310</td>\n",
       "      <td>-73.954510</td>\n",
       "      <td>40.765354</td>\n",
       "      <td>-73.939863</td>\n",
       "      <td>member</td>\n",
       "    </tr>\n",
       "    <tr>\n",
       "      <th>4</th>\n",
       "      <td>8B3CC649F4F58816</td>\n",
       "      <td>docked_bike</td>\n",
       "      <td>2021-05-09 08:12:31</td>\n",
       "      <td>2021-05-09 08:27:05</td>\n",
       "      <td>46 Ave &amp; 5 St</td>\n",
       "      <td>6286.02</td>\n",
       "      <td>34th Ave &amp; Vernon Blvd</td>\n",
       "      <td>6873.01</td>\n",
       "      <td>40.747310</td>\n",
       "      <td>-73.954510</td>\n",
       "      <td>40.765354</td>\n",
       "      <td>-73.939863</td>\n",
       "      <td>member</td>\n",
       "    </tr>\n",
       "  </tbody>\n",
       "</table>\n",
       "</div>"
      ],
      "text/plain": [
       "            ride_id rideable_type           started_at             ended_at  \\\n",
       "0  E12103A91226099A   docked_bike  2021-05-06 17:25:01  2021-05-06 17:45:25   \n",
       "1  26A3DC47FE0EA3A3   docked_bike  2021-05-13 12:48:08  2021-05-13 13:07:37   \n",
       "2  A99F2E1D627B088F   docked_bike  2021-05-16 08:30:13  2021-05-16 08:45:47   \n",
       "3  43E79A45997B7390   docked_bike  2021-05-01 08:38:14  2021-05-01 08:54:27   \n",
       "4  8B3CC649F4F58816   docked_bike  2021-05-09 08:12:31  2021-05-09 08:27:05   \n",
       "\n",
       "   start_station_name start_station_id        end_station_name end_station_id  \\\n",
       "0  Broadway & W 60 St          6948.11         1 Ave & E 78 St        7020.09   \n",
       "1  Broadway & W 25 St          6173.08       E 2 St & Avenue B        5515.02   \n",
       "2       46 Ave & 5 St          6286.02  34th Ave & Vernon Blvd        6873.01   \n",
       "3       46 Ave & 5 St          6286.02  34th Ave & Vernon Blvd        6873.01   \n",
       "4       46 Ave & 5 St          6286.02  34th Ave & Vernon Blvd        6873.01   \n",
       "\n",
       "   start_lat  start_lng    end_lat    end_lng member_casual  \n",
       "0  40.769155 -73.981918  40.771404 -73.953517        member  \n",
       "1  40.742868 -73.989186  40.722174 -73.983688        member  \n",
       "2  40.747310 -73.954510  40.765354 -73.939863        member  \n",
       "3  40.747310 -73.954510  40.765354 -73.939863        member  \n",
       "4  40.747310 -73.954510  40.765354 -73.939863        member  "
      ]
     },
     "execution_count": 37,
     "metadata": {},
     "output_type": "execute_result"
    }
   ],
   "source": [
    "df_nyc.head(5)"
   ]
  },
  {
   "cell_type": "markdown",
   "metadata": {},
   "source": [
    "#### Now Load the older data"
   ]
  },
  {
   "cell_type": "code",
   "execution_count": 38,
   "metadata": {},
   "outputs": [],
   "source": [
    "# Load the older data that uses a different layout\n",
    "full_path = dir_path + 'NYCData/Older'\n",
    "\n",
    "column_names = ['duration','started_at','ended_at','start_station_id',\n",
    "                'start_station_name','start_lat','start_lng','end_station_id','end_station_name',\n",
    "                'end_lat','end_lng','bike_id','member_casual','birthyear','gender']\n",
    "\n",
    "df_temp = imp.load_csvs_to_df(src_dir=full_path, col_names=column_names)"
   ]
  },
  {
   "cell_type": "code",
   "execution_count": 39,
   "metadata": {},
   "outputs": [
    {
     "data": {
      "text/html": [
       "<div>\n",
       "<style scoped>\n",
       "    .dataframe tbody tr th:only-of-type {\n",
       "        vertical-align: middle;\n",
       "    }\n",
       "\n",
       "    .dataframe tbody tr th {\n",
       "        vertical-align: top;\n",
       "    }\n",
       "\n",
       "    .dataframe thead th {\n",
       "        text-align: right;\n",
       "    }\n",
       "</style>\n",
       "<table border=\"1\" class=\"dataframe\">\n",
       "  <thead>\n",
       "    <tr style=\"text-align: right;\">\n",
       "      <th></th>\n",
       "      <th>duration</th>\n",
       "      <th>started_at</th>\n",
       "      <th>ended_at</th>\n",
       "      <th>start_station_id</th>\n",
       "      <th>start_station_name</th>\n",
       "      <th>start_lat</th>\n",
       "      <th>start_lng</th>\n",
       "      <th>end_station_id</th>\n",
       "      <th>end_station_name</th>\n",
       "      <th>end_lat</th>\n",
       "      <th>end_lng</th>\n",
       "      <th>bike_id</th>\n",
       "      <th>member_casual</th>\n",
       "      <th>birthyear</th>\n",
       "      <th>gender</th>\n",
       "    </tr>\n",
       "  </thead>\n",
       "  <tbody>\n",
       "    <tr>\n",
       "      <th>0</th>\n",
       "      <td>1062</td>\n",
       "      <td>2020-06-01 00:00:03.3720</td>\n",
       "      <td>2020-06-01 00:17:46.2080</td>\n",
       "      <td>3419.0</td>\n",
       "      <td>Douglass St &amp; 4 Ave</td>\n",
       "      <td>40.679279</td>\n",
       "      <td>-73.981540</td>\n",
       "      <td>3419.0</td>\n",
       "      <td>Douglass St &amp; 4 Ave</td>\n",
       "      <td>40.679279</td>\n",
       "      <td>-73.981540</td>\n",
       "      <td>39852</td>\n",
       "      <td>Customer</td>\n",
       "      <td>1997</td>\n",
       "      <td>2</td>\n",
       "    </tr>\n",
       "    <tr>\n",
       "      <th>1</th>\n",
       "      <td>3810</td>\n",
       "      <td>2020-06-01 00:00:03.5530</td>\n",
       "      <td>2020-06-01 01:03:33.9360</td>\n",
       "      <td>366.0</td>\n",
       "      <td>Clinton Ave &amp; Myrtle Ave</td>\n",
       "      <td>40.693261</td>\n",
       "      <td>-73.968896</td>\n",
       "      <td>336.0</td>\n",
       "      <td>Sullivan St &amp; Washington Sq</td>\n",
       "      <td>40.730477</td>\n",
       "      <td>-73.999061</td>\n",
       "      <td>37558</td>\n",
       "      <td>Subscriber</td>\n",
       "      <td>1969</td>\n",
       "      <td>0</td>\n",
       "    </tr>\n",
       "    <tr>\n",
       "      <th>2</th>\n",
       "      <td>1017</td>\n",
       "      <td>2020-06-01 00:00:09.6140</td>\n",
       "      <td>2020-06-01 00:17:06.8330</td>\n",
       "      <td>389.0</td>\n",
       "      <td>Broadway &amp; Berry St</td>\n",
       "      <td>40.710446</td>\n",
       "      <td>-73.965251</td>\n",
       "      <td>3562.0</td>\n",
       "      <td>Classon Ave &amp; St Marks Ave</td>\n",
       "      <td>40.676520</td>\n",
       "      <td>-73.959608</td>\n",
       "      <td>37512</td>\n",
       "      <td>Customer</td>\n",
       "      <td>1988</td>\n",
       "      <td>2</td>\n",
       "    </tr>\n",
       "    <tr>\n",
       "      <th>3</th>\n",
       "      <td>226</td>\n",
       "      <td>2020-06-01 00:00:12.1780</td>\n",
       "      <td>2020-06-01 00:03:58.8640</td>\n",
       "      <td>3255.0</td>\n",
       "      <td>8 Ave &amp; W 31 St</td>\n",
       "      <td>40.750585</td>\n",
       "      <td>-73.994685</td>\n",
       "      <td>505.0</td>\n",
       "      <td>6 Ave &amp; W 33 St</td>\n",
       "      <td>40.749013</td>\n",
       "      <td>-73.988484</td>\n",
       "      <td>39674</td>\n",
       "      <td>Customer</td>\n",
       "      <td>1969</td>\n",
       "      <td>0</td>\n",
       "    </tr>\n",
       "    <tr>\n",
       "      <th>4</th>\n",
       "      <td>1437</td>\n",
       "      <td>2020-06-01 00:00:21.2550</td>\n",
       "      <td>2020-06-01 00:24:18.9650</td>\n",
       "      <td>367.0</td>\n",
       "      <td>E 53 St &amp; Lexington Ave</td>\n",
       "      <td>40.758281</td>\n",
       "      <td>-73.970694</td>\n",
       "      <td>497.0</td>\n",
       "      <td>E 17 St &amp; Broadway</td>\n",
       "      <td>40.737050</td>\n",
       "      <td>-73.990093</td>\n",
       "      <td>21093</td>\n",
       "      <td>Customer</td>\n",
       "      <td>1997</td>\n",
       "      <td>2</td>\n",
       "    </tr>\n",
       "  </tbody>\n",
       "</table>\n",
       "</div>"
      ],
      "text/plain": [
       "   duration                started_at                  ended_at  \\\n",
       "0      1062  2020-06-01 00:00:03.3720  2020-06-01 00:17:46.2080   \n",
       "1      3810  2020-06-01 00:00:03.5530  2020-06-01 01:03:33.9360   \n",
       "2      1017  2020-06-01 00:00:09.6140  2020-06-01 00:17:06.8330   \n",
       "3       226  2020-06-01 00:00:12.1780  2020-06-01 00:03:58.8640   \n",
       "4      1437  2020-06-01 00:00:21.2550  2020-06-01 00:24:18.9650   \n",
       "\n",
       "   start_station_id        start_station_name  start_lat  start_lng  \\\n",
       "0            3419.0       Douglass St & 4 Ave  40.679279 -73.981540   \n",
       "1             366.0  Clinton Ave & Myrtle Ave  40.693261 -73.968896   \n",
       "2             389.0       Broadway & Berry St  40.710446 -73.965251   \n",
       "3            3255.0           8 Ave & W 31 St  40.750585 -73.994685   \n",
       "4             367.0   E 53 St & Lexington Ave  40.758281 -73.970694   \n",
       "\n",
       "   end_station_id             end_station_name    end_lat    end_lng  bike_id  \\\n",
       "0          3419.0          Douglass St & 4 Ave  40.679279 -73.981540    39852   \n",
       "1           336.0  Sullivan St & Washington Sq  40.730477 -73.999061    37558   \n",
       "2          3562.0   Classon Ave & St Marks Ave  40.676520 -73.959608    37512   \n",
       "3           505.0              6 Ave & W 33 St  40.749013 -73.988484    39674   \n",
       "4           497.0           E 17 St & Broadway  40.737050 -73.990093    21093   \n",
       "\n",
       "  member_casual  birthyear  gender  \n",
       "0      Customer       1997       2  \n",
       "1    Subscriber       1969       0  \n",
       "2      Customer       1988       2  \n",
       "3      Customer       1969       0  \n",
       "4      Customer       1997       2  "
      ]
     },
     "execution_count": 39,
     "metadata": {},
     "output_type": "execute_result"
    }
   ],
   "source": [
    "df_temp.head(5)"
   ]
  },
  {
   "cell_type": "code",
   "execution_count": 40,
   "metadata": {},
   "outputs": [
    {
     "data": {
      "text/plain": [
       "ride_id                object\n",
       "rideable_type          object\n",
       "started_at             object\n",
       "ended_at               object\n",
       "start_station_name     object\n",
       "start_station_id       object\n",
       "end_station_name       object\n",
       "end_station_id         object\n",
       "start_lat             float64\n",
       "start_lng             float64\n",
       "end_lat               float64\n",
       "end_lng               float64\n",
       "member_casual          object\n",
       "dtype: object"
      ]
     },
     "execution_count": 40,
     "metadata": {},
     "output_type": "execute_result"
    }
   ],
   "source": [
    "# View data\n",
    "df_nyc.dtypes"
   ]
  },
  {
   "cell_type": "code",
   "execution_count": 41,
   "metadata": {},
   "outputs": [
    {
     "data": {
      "text/plain": [
       "duration                int64\n",
       "started_at             object\n",
       "ended_at               object\n",
       "start_station_id      float64\n",
       "start_station_name     object\n",
       "start_lat             float64\n",
       "start_lng             float64\n",
       "end_station_id        float64\n",
       "end_station_name       object\n",
       "end_lat               float64\n",
       "end_lng               float64\n",
       "bike_id                 int64\n",
       "member_casual          object\n",
       "birthyear               int64\n",
       "gender                  int64\n",
       "dtype: object"
      ]
     },
     "execution_count": 41,
     "metadata": {},
     "output_type": "execute_result"
    }
   ],
   "source": [
    "df_temp.dtypes"
   ]
  },
  {
   "cell_type": "markdown",
   "metadata": {},
   "source": [
    "#### Combine the two dataframes then we'll update field types further"
   ]
  },
  {
   "cell_type": "markdown",
   "metadata": {},
   "source": [
    "#### Get row counts of each before we combine them"
   ]
  },
  {
   "cell_type": "code",
   "execution_count": 42,
   "metadata": {},
   "outputs": [
    {
     "data": {
      "text/plain": [
       "(41153900, 15)"
      ]
     },
     "execution_count": 42,
     "metadata": {},
     "output_type": "execute_result"
    }
   ],
   "source": [
    "df_temp.shape"
   ]
  },
  {
   "cell_type": "code",
   "execution_count": 43,
   "metadata": {},
   "outputs": [
    {
     "data": {
      "text/plain": [
       "(27616822, 13)"
      ]
     },
     "execution_count": 43,
     "metadata": {},
     "output_type": "execute_result"
    }
   ],
   "source": [
    "df_nyc.shape"
   ]
  },
  {
   "cell_type": "code",
   "execution_count": 44,
   "metadata": {},
   "outputs": [],
   "source": [
    "df_nyc = pd.concat([df_temp, df_nyc])"
   ]
  },
  {
   "cell_type": "code",
   "execution_count": 45,
   "metadata": {},
   "outputs": [
    {
     "name": "stdout",
     "output_type": "stream",
     "text": [
      "rows: 68770722\n",
      "columns: 17\n"
     ]
    }
   ],
   "source": [
    "# How many rows and columns\n",
    "print('rows:', df_nyc.shape[0])\n",
    "print('columns:', df_nyc.shape[1])"
   ]
  },
  {
   "cell_type": "markdown",
   "metadata": {},
   "source": [
    "#### Add a field to indicate this is from Chicago.  This will be useful when we combine all the cities together."
   ]
  },
  {
   "cell_type": "code",
   "execution_count": 46,
   "metadata": {},
   "outputs": [],
   "source": [
    "df_nyc['city'] = 'NYC'"
   ]
  },
  {
   "cell_type": "code",
   "execution_count": 47,
   "metadata": {},
   "outputs": [
    {
     "data": {
      "text/plain": [
       "duration              float64\n",
       "started_at             object\n",
       "ended_at               object\n",
       "start_station_id       object\n",
       "start_station_name     object\n",
       "start_lat             float64\n",
       "start_lng             float64\n",
       "end_station_id         object\n",
       "end_station_name       object\n",
       "end_lat               float64\n",
       "end_lng               float64\n",
       "bike_id               float64\n",
       "member_casual          object\n",
       "birthyear             float64\n",
       "gender                float64\n",
       "ride_id                object\n",
       "rideable_type          object\n",
       "city                   object\n",
       "dtype: object"
      ]
     },
     "execution_count": 47,
     "metadata": {},
     "output_type": "execute_result"
    }
   ],
   "source": [
    "# View many\n",
    "df_nyc.dtypes"
   ]
  },
  {
   "cell_type": "markdown",
   "metadata": {},
   "source": [
    "### Finally, combine all City Dataframes into One"
   ]
  },
  {
   "cell_type": "code",
   "execution_count": 48,
   "metadata": {},
   "outputs": [],
   "source": [
    "df_all = pd.concat([df_chicago,df_sanfrancisco,df_nyc])"
   ]
  },
  {
   "cell_type": "code",
   "execution_count": 49,
   "metadata": {},
   "outputs": [
    {
     "data": {
      "text/plain": [
       "(88668241, 21)"
      ]
     },
     "execution_count": 49,
     "metadata": {},
     "output_type": "execute_result"
    }
   ],
   "source": [
    "# How many rows and columns do we have\n",
    "df_all.shape"
   ]
  },
  {
   "cell_type": "markdown",
   "metadata": {},
   "source": [
    "<br>\n",
    "\n",
    "## Clean and prepare the data"
   ]
  },
  {
   "cell_type": "markdown",
   "metadata": {},
   "source": [
    "#### Look at the data field types"
   ]
  },
  {
   "cell_type": "code",
   "execution_count": 50,
   "metadata": {},
   "outputs": [
    {
     "data": {
      "text/plain": [
       "ride_id                  object\n",
       "started_at               object\n",
       "ended_at                 object\n",
       "bikeid                  float64\n",
       "tripduration             object\n",
       "start_station_id         object\n",
       "start_station_name       object\n",
       "end_station_id           object\n",
       "end_station_name         object\n",
       "member_casual            object\n",
       "gender                   object\n",
       "birthyear               float64\n",
       "rideable_type            object\n",
       "start_lat               float64\n",
       "start_lng               float64\n",
       "end_lat                 float64\n",
       "end_lng                 float64\n",
       "city                     object\n",
       "duration                 object\n",
       "bike_id                  object\n",
       "rental_access_method     object\n",
       "dtype: object"
      ]
     },
     "execution_count": 50,
     "metadata": {},
     "output_type": "execute_result"
    }
   ],
   "source": [
    "df_all.dtypes"
   ]
  },
  {
   "cell_type": "markdown",
   "metadata": {},
   "source": [
    "#### Remove columns we don't current need"
   ]
  },
  {
   "cell_type": "code",
   "execution_count": null,
   "metadata": {},
   "outputs": [],
   "source": [
    "df_all.drop(['rental_access_method','duration','bike_id','bikeid','tripduration'], axis=1, inplace=True)"
   ]
  },
  {
   "cell_type": "code",
   "execution_count": null,
   "metadata": {},
   "outputs": [],
   "source": [
    "df_all.head()"
   ]
  },
  {
   "cell_type": "code",
   "execution_count": null,
   "metadata": {},
   "outputs": [],
   "source": [
    "# Convert date/times\n",
    "df_all['started_at'] = pd.to_datetime(df_all['started_at'])\n",
    "df_all['ended_at']   = pd.to_datetime(df_all['ended_at'])"
   ]
  },
  {
   "cell_type": "markdown",
   "metadata": {},
   "source": [
    "#### Check for null values"
   ]
  },
  {
   "cell_type": "code",
   "execution_count": null,
   "metadata": {},
   "outputs": [],
   "source": [
    "df_all.isnull().sum()"
   ]
  },
  {
   "cell_type": "markdown",
   "metadata": {},
   "source": [
    "#### Based on the above, we have nulls in all fields except started_at, ended_at, and member_casual"
   ]
  },
  {
   "cell_type": "code",
   "execution_count": null,
   "metadata": {},
   "outputs": [],
   "source": [
    "# fill null numeric columns with the value 0\n",
    "df_all[['end_lat','end_lng','start_lat','start_lng','birthyear']] = \\\n",
    "    df_all[['end_lat','end_lng','start_lat','start_lng','birthyear']].fillna(value=0)"
   ]
  },
  {
   "cell_type": "code",
   "execution_count": null,
   "metadata": {},
   "outputs": [],
   "source": [
    "# fill null string columns with the ''\n",
    "df_all[['start_station_name','start_station_id','end_station_name','end_station_id',\n",
    "        'ride_id','gender','rideable_type']] = \\\n",
    "     df_all[['start_station_name','start_station_id','end_station_name','end_station_id',\n",
    "             'ride_id','gender','rideable_type']].fillna(value='')"
   ]
  },
  {
   "cell_type": "code",
   "execution_count": null,
   "metadata": {},
   "outputs": [],
   "source": [
    "# Recheck to be sure we have addressed the nulls\n",
    "df_all.isnull().sum()"
   ]
  },
  {
   "cell_type": "markdown",
   "metadata": {},
   "source": [
    "#### Let's add separate columns for Month#, Year, Hour for further analysis"
   ]
  },
  {
   "cell_type": "code",
   "execution_count": null,
   "metadata": {},
   "outputs": [],
   "source": [
    "df_all['year']       = pd.DatetimeIndex(df_all['started_at']).year\n",
    "df_all['month']      = pd.DatetimeIndex(df_all['started_at']).month\n",
    "df_all['year-month'] = df_all['started_at'].dt.strftime('%Y-%m')\n",
    "df_all['hour_of_day'] = pd.DatetimeIndex(df_all['started_at']).hour"
   ]
  },
  {
   "cell_type": "markdown",
   "metadata": {},
   "source": [
    "<br />\n",
    "\n",
    "### Save the final combined to a csv so we don't have to repeat the time-consuming above steps when developing and testing"
   ]
  },
  {
   "cell_type": "raw",
   "metadata": {
    "tags": []
   },
   "source": [
    "dir_path = '/Users/DF/Library/CloudStorage/OneDrive-Personal/Documents/' + \\\n",
    "           'Grad School-David’s MacBook Pro/Spring 2022 - Capstone/JupyterNB/'\n",
    "\n",
    "os.chdir(dir_path)"
   ]
  },
  {
   "cell_type": "raw",
   "metadata": {},
   "source": [
    "df_all.to_csv('nyc_chicago_sf_combined_jan19tojan22.csv', index=False)"
   ]
  },
  {
   "cell_type": "markdown",
   "metadata": {},
   "source": [
    "<br /> \n",
    "\n",
    "### Start Here to use the saved copy of the above"
   ]
  },
  {
   "cell_type": "raw",
   "metadata": {
    "tags": []
   },
   "source": [
    "dir_path = '/Users/DF/Library/CloudStorage/OneDrive-Personal/Documents/' + \\\n",
    "           'Grad School-David’s MacBook Pro/Spring 2022 - Capstone/JupyterNB/'\n",
    "\n",
    "os.chdir(dir_path)"
   ]
  },
  {
   "cell_type": "raw",
   "metadata": {},
   "source": [
    "df_all = pd.read_csv('nyc_chicago_sf_combined_jan19tojan22.csv', low_memory=False, dtype='unicode')"
   ]
  },
  {
   "cell_type": "markdown",
   "metadata": {},
   "source": [
    "<br /><br />\n",
    "\n",
    "# Summarize Data"
   ]
  },
  {
   "cell_type": "markdown",
   "metadata": {},
   "source": [
    "### Summarize by city"
   ]
  },
  {
   "cell_type": "code",
   "execution_count": null,
   "metadata": {},
   "outputs": [],
   "source": [
    "# Group the results by year\n",
    "df_grouped = df_all.groupby(['city']).agg({'ride_id': 'count'}).copy().reset_index()\n",
    "\n",
    "# Rename to be \"count\"\n",
    "df_grouped.rename(columns={'ride_id':'#trips'}, inplace=True)\n",
    "\n",
    "df_grouped.sort_values('#trips',inplace=True)"
   ]
  },
  {
   "cell_type": "code",
   "execution_count": null,
   "metadata": {},
   "outputs": [],
   "source": [
    "df_grouped.head()"
   ]
  },
  {
   "cell_type": "code",
   "execution_count": null,
   "metadata": {},
   "outputs": [],
   "source": [
    "heading = 'Total Trips by City (January 2019 - January 2022)'\n",
    "\n",
    "plt.figure()\n",
    "ax = df_grouped.plot.barh(stacked=False, figsize=(10,6), x='city', title=heading)\n",
    "ax.set_xlabel('Number of Trips')\n",
    "    \n",
    "# Display to screen\n",
    "plt.show()"
   ]
  },
  {
   "cell_type": "code",
   "execution_count": null,
   "metadata": {},
   "outputs": [],
   "source": []
  },
  {
   "cell_type": "code",
   "execution_count": null,
   "metadata": {},
   "outputs": [],
   "source": []
  },
  {
   "cell_type": "markdown",
   "metadata": {},
   "source": [
    "### Summarize by year and city"
   ]
  },
  {
   "cell_type": "code",
   "execution_count": null,
   "metadata": {},
   "outputs": [],
   "source": [
    "# Group the results by year\n",
    "df_grouped = df_all.groupby(['year','city']).agg({'ride_id': 'count'}).copy().reset_index()\n",
    "\n",
    "# Rename to be \"count\"\n",
    "df_grouped.rename(columns={'ride_id':'#trips'}, inplace=True)"
   ]
  },
  {
   "cell_type": "code",
   "execution_count": null,
   "metadata": {},
   "outputs": [],
   "source": [
    "df_grouped.head(12)"
   ]
  },
  {
   "cell_type": "code",
   "execution_count": null,
   "metadata": {},
   "outputs": [],
   "source": [
    "# Pivot to prepare to plot the years and cities\n",
    "df_pivot = df_grouped.pivot(index='year', columns='city', values='#trips')"
   ]
  },
  {
   "cell_type": "code",
   "execution_count": null,
   "metadata": {},
   "outputs": [],
   "source": [
    "heading = 'Total Trips by Year (thru January 2022)'\n",
    "\n",
    "plt.figure()\n",
    "ax = df_pivot.plot.bar(stacked=True, figsize=(10,6), title=heading)\n",
    "ax.set_ylabel('Number of Trips')\n",
    "    \n",
    "# Display to screen\n",
    "plt.show()"
   ]
  },
  {
   "cell_type": "markdown",
   "metadata": {},
   "source": [
    "### Summarize by month to see the trips per month over time"
   ]
  },
  {
   "cell_type": "code",
   "execution_count": null,
   "metadata": {},
   "outputs": [],
   "source": [
    "# Group the results by month\n",
    "df_grouped = df_all.groupby(['year-month', 'city']).agg({'ride_id': 'count'}).copy().reset_index()\n",
    "\n",
    "# Rename to be \"count\"\n",
    "df_grouped.rename(columns={'ride_id':'#trips'}, inplace=True)"
   ]
  },
  {
   "cell_type": "code",
   "execution_count": null,
   "metadata": {},
   "outputs": [],
   "source": [
    "df_grouped[df_grouped['city'] == 'NYC'].head(100)"
   ]
  },
  {
   "cell_type": "code",
   "execution_count": null,
   "metadata": {},
   "outputs": [],
   "source": [
    "# Pivot to prepare to plot the years and cities\n",
    "df_pivot = df_grouped.pivot(index='year-month', columns='city', values='#trips')"
   ]
  },
  {
   "cell_type": "code",
   "execution_count": null,
   "metadata": {},
   "outputs": [],
   "source": [
    "heading = 'Total Trips by Month'\n",
    "\n",
    "plt.figure()\n",
    "ax = df_pivot.plot.line(stacked=False, figsize=(10,6), title=heading)\n",
    "ax.set_ylabel('Number of Trips')\n",
    "    \n",
    "# Display to screen\n",
    "plt.show()"
   ]
  },
  {
   "cell_type": "markdown",
   "metadata": {},
   "source": [
    "### Let's now group by start station\n",
    "#### We'll get the count and one lat/long per start station to be able to plot on a map"
   ]
  },
  {
   "cell_type": "code",
   "execution_count": null,
   "metadata": {},
   "outputs": [],
   "source": [
    "grp = df_all.groupby(['start_station_name'])\n",
    "\n",
    "df_bystation = grp.agg({'ride_id': 'count'}).copy().reset_index()\n",
    "\n",
    "# Rename to be \"count\"\n",
    "df_bystation.rename(columns={'ride_id':'#trips'}, inplace=True)"
   ]
  },
  {
   "cell_type": "code",
   "execution_count": null,
   "metadata": {},
   "outputs": [],
   "source": [
    "df_bystation.head(10)"
   ]
  },
  {
   "cell_type": "markdown",
   "metadata": {},
   "source": [
    "#### How many stations are there?"
   ]
  },
  {
   "cell_type": "code",
   "execution_count": null,
   "metadata": {},
   "outputs": [],
   "source": [
    "df_bystation.shape"
   ]
  },
  {
   "cell_type": "markdown",
   "metadata": {},
   "source": [
    "#### What are the top stations?"
   ]
  },
  {
   "cell_type": "code",
   "execution_count": null,
   "metadata": {},
   "outputs": [],
   "source": [
    "df_bystation.nlargest(20,'#trips')"
   ]
  },
  {
   "cell_type": "markdown",
   "metadata": {},
   "source": [
    "### Summarize by Rideable Type"
   ]
  },
  {
   "cell_type": "code",
   "execution_count": null,
   "metadata": {},
   "outputs": [],
   "source": [
    "df_grouped = df_all.groupby(['rideable_type','city']).agg({'ride_id': 'count'}).copy().reset_index()\n",
    "\n",
    "df_grouped.rename(columns={'ride_id':'#trips'}, inplace=True)"
   ]
  },
  {
   "cell_type": "code",
   "execution_count": null,
   "metadata": {},
   "outputs": [],
   "source": [
    "df_grouped.head(100)"
   ]
  },
  {
   "cell_type": "code",
   "execution_count": null,
   "metadata": {},
   "outputs": [],
   "source": [
    "# Pivot to prepare to plot the years and cities\n",
    "df_pivot = df_grouped.pivot(index='rideable_type', columns='city', values='#trips')"
   ]
  },
  {
   "cell_type": "code",
   "execution_count": null,
   "metadata": {},
   "outputs": [],
   "source": [
    "heading = 'Total Trips by Bike Type'\n",
    "\n",
    "plt.figure()\n",
    "ax = df_pivot.plot.bar(stacked=False, figsize=(10,6), title=heading)\n",
    "ax.set_ylabel('Number of Trips')\n",
    "    \n",
    "# Display to screen\n",
    "plt.show()"
   ]
  },
  {
   "cell_type": "markdown",
   "metadata": {},
   "source": [
    "### Summarize by Member Type"
   ]
  },
  {
   "cell_type": "markdown",
   "metadata": {},
   "source": [
    "#### First map older designations to the latest for consistency"
   ]
  },
  {
   "cell_type": "code",
   "execution_count": null,
   "metadata": {},
   "outputs": [],
   "source": [
    "df_all.loc[df_all['member_casual'] == 'Customer', 'member_casual'] = 'casual'\n",
    "df_all.loc[df_all['member_casual'] == 'Subscriber', 'member_casual'] = 'member'\n",
    "df_all.loc[df_all['member_casual'] == 'Yes', 'member_casual'] = 'member'\n",
    "df_all.loc[df_all['member_casual'] == 'No', 'member_casual'] = 'casual'"
   ]
  },
  {
   "cell_type": "code",
   "execution_count": null,
   "metadata": {},
   "outputs": [],
   "source": [
    "df_grouped = df_all.groupby(['city','member_casual']).agg({'ride_id': 'count'}).copy().reset_index()\n",
    "\n",
    "df_grouped.rename(columns={'ride_id':'#trips'}, inplace=True)"
   ]
  },
  {
   "cell_type": "code",
   "execution_count": null,
   "metadata": {},
   "outputs": [],
   "source": [
    "df_grouped.head()"
   ]
  },
  {
   "cell_type": "code",
   "execution_count": null,
   "metadata": {},
   "outputs": [],
   "source": [
    "# Pivot to prepare to plot the years and cities\n",
    "df_pivot = df_grouped.pivot(index='city', columns='member_casual', values='#trips')"
   ]
  },
  {
   "cell_type": "code",
   "execution_count": null,
   "metadata": {},
   "outputs": [],
   "source": [
    "df_pivot.head()"
   ]
  },
  {
   "cell_type": "code",
   "execution_count": null,
   "metadata": {},
   "outputs": [],
   "source": [
    "heading = 'Total Trips by Member Type'\n",
    "\n",
    "plt.figure()\n",
    "ax = df_pivot.plot.bar(stacked=False, figsize=(10,6), title=heading)\n",
    "ax.set_ylabel('Number of Trips')\n",
    "\n",
    "plt.show()"
   ]
  },
  {
   "cell_type": "markdown",
   "metadata": {},
   "source": [
    "### Summarize by Duration"
   ]
  },
  {
   "cell_type": "markdown",
   "metadata": {},
   "source": [
    "#### Create calculated field with durations in minutes"
   ]
  },
  {
   "cell_type": "code",
   "execution_count": null,
   "metadata": {},
   "outputs": [],
   "source": [
    "df_all['duration_minutes'] = df_all['ended_at'] - df_all['started_at']\n",
    "df_all['duration_minutes'] = df_all['duration_minutes'].dt.total_seconds() / 60"
   ]
  },
  {
   "cell_type": "code",
   "execution_count": null,
   "metadata": {},
   "outputs": [],
   "source": [
    "df_all.dtypes"
   ]
  },
  {
   "cell_type": "markdown",
   "metadata": {},
   "source": [
    "### To remove erroneous durations, restrict to only those between 1 and 360 minutes"
   ]
  },
  {
   "cell_type": "code",
   "execution_count": null,
   "metadata": {},
   "outputs": [],
   "source": [
    "df_durations = df_all[(df_all['duration_minutes'] >= 1) & \\\n",
    "                      (df_all['duration_minutes'] < 120)]"
   ]
  },
  {
   "cell_type": "code",
   "execution_count": null,
   "metadata": {},
   "outputs": [],
   "source": [
    "df_durations.hist(bins=10, column='duration_minutes', by='city')"
   ]
  },
  {
   "cell_type": "code",
   "execution_count": 79,
   "metadata": {},
   "outputs": [],
   "source": [
    "df_grouped = df_durations.groupby(['city']).agg({'ride_id': 'count', 'duration_minutes': 'mean'}).copy().reset_index()\n",
    "\n",
    "df_grouped.rename(columns={'ride_id':'#trips'}, inplace=True)"
   ]
  },
  {
   "cell_type": "code",
   "execution_count": 80,
   "metadata": {},
   "outputs": [
    {
     "data": {
      "text/html": [
       "<div>\n",
       "<style scoped>\n",
       "    .dataframe tbody tr th:only-of-type {\n",
       "        vertical-align: middle;\n",
       "    }\n",
       "\n",
       "    .dataframe tbody tr th {\n",
       "        vertical-align: top;\n",
       "    }\n",
       "\n",
       "    .dataframe thead th {\n",
       "        text-align: right;\n",
       "    }\n",
       "</style>\n",
       "<table border=\"1\" class=\"dataframe\">\n",
       "  <thead>\n",
       "    <tr style=\"text-align: right;\">\n",
       "      <th></th>\n",
       "      <th>city</th>\n",
       "      <th>member_casual</th>\n",
       "      <th>#trips</th>\n",
       "    </tr>\n",
       "  </thead>\n",
       "  <tbody>\n",
       "    <tr>\n",
       "      <th>0</th>\n",
       "      <td>Chicago</td>\n",
       "      <td>casual</td>\n",
       "      <td>4794737</td>\n",
       "    </tr>\n",
       "    <tr>\n",
       "      <th>1</th>\n",
       "      <td>Chicago</td>\n",
       "      <td>member</td>\n",
       "      <td>8263783</td>\n",
       "    </tr>\n",
       "    <tr>\n",
       "      <th>2</th>\n",
       "      <td>NYC</td>\n",
       "      <td>casual</td>\n",
       "      <td>15787161</td>\n",
       "    </tr>\n",
       "    <tr>\n",
       "      <th>3</th>\n",
       "      <td>NYC</td>\n",
       "      <td>member</td>\n",
       "      <td>52983561</td>\n",
       "    </tr>\n",
       "    <tr>\n",
       "      <th>4</th>\n",
       "      <td>San Francisco</td>\n",
       "      <td>casual</td>\n",
       "      <td>3143813</td>\n",
       "    </tr>\n",
       "  </tbody>\n",
       "</table>\n",
       "</div>"
      ],
      "text/plain": [
       "            city member_casual    #trips\n",
       "0        Chicago        casual   4794737\n",
       "1        Chicago        member   8263783\n",
       "2            NYC        casual  15787161\n",
       "3            NYC        member  52983561\n",
       "4  San Francisco        casual   3143813"
      ]
     },
     "execution_count": 80,
     "metadata": {},
     "output_type": "execute_result"
    }
   ],
   "source": [
    "df_grouped.head()"
   ]
  },
  {
   "cell_type": "code",
   "execution_count": 81,
   "metadata": {},
   "outputs": [],
   "source": [
    "# Pivot to prepare to plot the years and cities\n",
    "df_pivot = df_grouped.pivot(index='city', columns='member_casual', values='#trips')"
   ]
  },
  {
   "cell_type": "code",
   "execution_count": 82,
   "metadata": {},
   "outputs": [
    {
     "data": {
      "text/html": [
       "<div>\n",
       "<style scoped>\n",
       "    .dataframe tbody tr th:only-of-type {\n",
       "        vertical-align: middle;\n",
       "    }\n",
       "\n",
       "    .dataframe tbody tr th {\n",
       "        vertical-align: top;\n",
       "    }\n",
       "\n",
       "    .dataframe thead th {\n",
       "        text-align: right;\n",
       "    }\n",
       "</style>\n",
       "<table border=\"1\" class=\"dataframe\">\n",
       "  <thead>\n",
       "    <tr style=\"text-align: right;\">\n",
       "      <th>member_casual</th>\n",
       "      <th>casual</th>\n",
       "      <th>member</th>\n",
       "    </tr>\n",
       "    <tr>\n",
       "      <th>city</th>\n",
       "      <th></th>\n",
       "      <th></th>\n",
       "    </tr>\n",
       "  </thead>\n",
       "  <tbody>\n",
       "    <tr>\n",
       "      <th>Chicago</th>\n",
       "      <td>4794737</td>\n",
       "      <td>8263783</td>\n",
       "    </tr>\n",
       "    <tr>\n",
       "      <th>NYC</th>\n",
       "      <td>15787161</td>\n",
       "      <td>52983561</td>\n",
       "    </tr>\n",
       "    <tr>\n",
       "      <th>San Francisco</th>\n",
       "      <td>3143813</td>\n",
       "      <td>3602029</td>\n",
       "    </tr>\n",
       "  </tbody>\n",
       "</table>\n",
       "</div>"
      ],
      "text/plain": [
       "member_casual    casual    member\n",
       "city                             \n",
       "Chicago         4794737   8263783\n",
       "NYC            15787161  52983561\n",
       "San Francisco   3143813   3602029"
      ]
     },
     "execution_count": 82,
     "metadata": {},
     "output_type": "execute_result"
    }
   ],
   "source": [
    "df_pivot.head()"
   ]
  },
  {
   "cell_type": "code",
   "execution_count": 83,
   "metadata": {},
   "outputs": [
    {
     "data": {
      "text/plain": [
       "<Figure size 432x288 with 0 Axes>"
      ]
     },
     "metadata": {},
     "output_type": "display_data"
    },
    {
     "data": {
      "image/png": "[encoded data removed]",
      "text/plain": [
       "<Figure size 720x432 with 1 Axes>"
      ]
     },
     "metadata": {
      "needs_background": "light"
     },
     "output_type": "display_data"
    }
   ],
   "source": [
    "heading = 'Total Trips by Member Type'\n",
    "\n",
    "plt.figure()\n",
    "ax = df_pivot.plot.bar(stacked=False, figsize=(10,6), title=heading)\n",
    "ax.set_ylabel('Number of Trips')\n",
    "\n",
    "plt.show()"
   ]
  },
  {
   "cell_type": "code",
   "execution_count": null,
   "metadata": {},
   "outputs": [],
   "source": []
  },
  {
   "cell_type": "code",
   "execution_count": null,
   "metadata": {},
   "outputs": [],
   "source": []
  },
  {
   "cell_type": "code",
   "execution_count": null,
   "metadata": {},
   "outputs": [],
   "source": []
  }
 ],
 "metadata": {
  "colab": {
   "name": "CMSC 436 Final Project - GitHub Analysis.ipynb",
   "provenance": [],
   "toc_visible": true
  },
  "kernelspec": {
   "display_name": "Python 3 (ipykernel)",
   "language": "python",
   "name": "python3"
  },
  "language_info": {
   "codemirror_mode": {
    "name": "ipython",
    "version": 3
   },
   "file_extension": ".py",
   "mimetype": "text/x-python",
   "name": "python",
   "nbconvert_exporter": "python",
   "pygments_lexer": "ipython3",
   "version": "3.9.7"
  }
 },
 "nbformat": 4,
 "nbformat_minor": 4
}
