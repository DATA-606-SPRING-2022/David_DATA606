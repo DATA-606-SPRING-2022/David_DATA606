{
 "cells": [
  {
   "cell_type": "markdown",
   "metadata": {
    "id": "lRmgmXQ0OBXv"
   },
   "source": [
    "# Capstone Project\n",
    "### DATA 606, Spring 2022, Dr. Chaojie Wang\n",
    "\n",
    "#### Description: This notebook represents initial Exploratory Data Analysis.  This explores 12 months of the New York City BikeShare trip data (from February 2021 through January 2022) to get an understanding of the data through summarizing and charting. "
   ]
  },
  {
   "cell_type": "markdown",
   "metadata": {
    "id": "OHVP43oha7op"
   },
   "source": [
    "## Function Definitions & Setup\n",
    "This section deals with imports and function definitions"
   ]
  },
  {
   "cell_type": "raw",
   "metadata": {},
   "source": [
    "Run these from the command line:\n",
    "pip install shapely\n",
    "conda install --channel conda-forge geopandas\n",
    "conda install pygeos --channel conda-forge"
   ]
  },
  {
   "cell_type": "code",
   "execution_count": 24,
   "metadata": {},
   "outputs": [
    {
     "data": {
      "text/plain": [
       "'1.3.5'"
      ]
     },
     "execution_count": 24,
     "metadata": {},
     "output_type": "execute_result"
    }
   ],
   "source": [
    "import pandas as pd\n",
    "pd.__version__"
   ]
  },
  {
   "cell_type": "code",
   "execution_count": 25,
   "metadata": {},
   "outputs": [],
   "source": [
    "import shapely"
   ]
  },
  {
   "cell_type": "raw",
   "metadata": {},
   "source": [
    "# For plotting on a map\n",
    "import geopandas as gp"
   ]
  },
  {
   "cell_type": "code",
   "execution_count": 26,
   "metadata": {},
   "outputs": [],
   "source": [
    "from matplotlib import pyplot as plt"
   ]
  },
  {
   "cell_type": "code",
   "execution_count": 27,
   "metadata": {},
   "outputs": [],
   "source": [
    "import numpy as np"
   ]
  },
  {
   "cell_type": "code",
   "execution_count": 28,
   "metadata": {},
   "outputs": [],
   "source": [
    "import glob"
   ]
  },
  {
   "cell_type": "code",
   "execution_count": 29,
   "metadata": {
    "id": "eXY2L8vUOwgm"
   },
   "outputs": [],
   "source": [
    "import os\n",
    "from os.path import join, isdir\n",
    "from os import mkdir, path"
   ]
  },
  {
   "cell_type": "code",
   "execution_count": 30,
   "metadata": {},
   "outputs": [],
   "source": [
    "import datetime"
   ]
  },
  {
   "cell_type": "code",
   "execution_count": 31,
   "metadata": {},
   "outputs": [
    {
     "data": {
      "text/plain": [
       "'1.8.1.post1'"
      ]
     },
     "execution_count": 31,
     "metadata": {},
     "output_type": "execute_result"
    }
   ],
   "source": [
    "import shapely as s\n",
    "s.__version__"
   ]
  },
  {
   "cell_type": "markdown",
   "metadata": {},
   "source": [
    "<br><br>\n",
    "\n",
    "### Combine NYC Bike Share data that is in separate csv files by month into dataframe"
   ]
  },
  {
   "cell_type": "code",
   "execution_count": 32,
   "metadata": {},
   "outputs": [
    {
     "data": {
      "text/plain": [
       "'/Users/DF/Library/CloudStorage/OneDrive-Personal/Documents/Grad School-David’s MacBook Pro/Spring 2022 - Capstone/JupyterNB'"
      ]
     },
     "execution_count": 32,
     "metadata": {},
     "output_type": "execute_result"
    }
   ],
   "source": [
    "os.getcwd()"
   ]
  },
  {
   "cell_type": "code",
   "execution_count": 33,
   "metadata": {},
   "outputs": [],
   "source": [
    "os.chdir('/Users/DF/Library/CloudStorage/OneDrive-Personal/Documents/Grad School-David’s MacBook Pro/Spring 2022 - Capstone/JupyterNB')"
   ]
  },
  {
   "cell_type": "code",
   "execution_count": 34,
   "metadata": {},
   "outputs": [],
   "source": [
    "os.chdir('NYCData')"
   ]
  },
  {
   "cell_type": "markdown",
   "metadata": {},
   "source": [
    "#### Load all csv files into the df dataframe"
   ]
  },
  {
   "cell_type": "code",
   "execution_count": 35,
   "metadata": {},
   "outputs": [],
   "source": [
    "filenames = [i for i in glob.glob('*.{}'.format('csv'))]"
   ]
  },
  {
   "cell_type": "code",
   "execution_count": 36,
   "metadata": {},
   "outputs": [
    {
     "name": "stdout",
     "output_type": "stream",
     "text": [
      "['202105-citibike-tripdata.csv', '202201-citibike-tripdata.csv', '202107-citibike-tripdata.csv', '202111-citibike-tripdata.csv', '202109-citibike-tripdata.csv', '202103-citibike-tripdata.csv', '202112-citibike-tripdata.csv', '202104-citibike-tripdata.csv', '202110-citibike-tripdata.csv', '202106-citibike-tripdata.csv', '202108-citibike-tripdata.csv', '202102-citibike-tripdata.csv']\n"
     ]
    }
   ],
   "source": [
    "print(filenames)"
   ]
  },
  {
   "cell_type": "code",
   "execution_count": 37,
   "metadata": {},
   "outputs": [],
   "source": [
    "df = pd.concat([pd.read_csv(f, low_memory=False) for f in filenames ])"
   ]
  },
  {
   "cell_type": "code",
   "execution_count": 38,
   "metadata": {},
   "outputs": [
    {
     "data": {
      "text/html": [
       "<div>\n",
       "<style scoped>\n",
       "    .dataframe tbody tr th:only-of-type {\n",
       "        vertical-align: middle;\n",
       "    }\n",
       "\n",
       "    .dataframe tbody tr th {\n",
       "        vertical-align: top;\n",
       "    }\n",
       "\n",
       "    .dataframe thead th {\n",
       "        text-align: right;\n",
       "    }\n",
       "</style>\n",
       "<table border=\"1\" class=\"dataframe\">\n",
       "  <thead>\n",
       "    <tr style=\"text-align: right;\">\n",
       "      <th></th>\n",
       "      <th>ride_id</th>\n",
       "      <th>rideable_type</th>\n",
       "      <th>started_at</th>\n",
       "      <th>ended_at</th>\n",
       "      <th>start_station_name</th>\n",
       "      <th>start_station_id</th>\n",
       "      <th>end_station_name</th>\n",
       "      <th>end_station_id</th>\n",
       "      <th>start_lat</th>\n",
       "      <th>start_lng</th>\n",
       "      <th>end_lat</th>\n",
       "      <th>end_lng</th>\n",
       "      <th>member_casual</th>\n",
       "    </tr>\n",
       "  </thead>\n",
       "  <tbody>\n",
       "    <tr>\n",
       "      <th>0</th>\n",
       "      <td>E12103A91226099A</td>\n",
       "      <td>docked_bike</td>\n",
       "      <td>2021-05-06 17:25:01</td>\n",
       "      <td>2021-05-06 17:45:25</td>\n",
       "      <td>Broadway &amp; W 60 St</td>\n",
       "      <td>6948.11</td>\n",
       "      <td>1 Ave &amp; E 78 St</td>\n",
       "      <td>7020.09</td>\n",
       "      <td>40.769155</td>\n",
       "      <td>-73.981918</td>\n",
       "      <td>40.771404</td>\n",
       "      <td>-73.953517</td>\n",
       "      <td>member</td>\n",
       "    </tr>\n",
       "    <tr>\n",
       "      <th>1</th>\n",
       "      <td>26A3DC47FE0EA3A3</td>\n",
       "      <td>docked_bike</td>\n",
       "      <td>2021-05-13 12:48:08</td>\n",
       "      <td>2021-05-13 13:07:37</td>\n",
       "      <td>Broadway &amp; W 25 St</td>\n",
       "      <td>6173.08</td>\n",
       "      <td>E 2 St &amp; Avenue B</td>\n",
       "      <td>5515.02</td>\n",
       "      <td>40.742868</td>\n",
       "      <td>-73.989186</td>\n",
       "      <td>40.722174</td>\n",
       "      <td>-73.983688</td>\n",
       "      <td>member</td>\n",
       "    </tr>\n",
       "    <tr>\n",
       "      <th>2</th>\n",
       "      <td>A99F2E1D627B088F</td>\n",
       "      <td>docked_bike</td>\n",
       "      <td>2021-05-16 08:30:13</td>\n",
       "      <td>2021-05-16 08:45:47</td>\n",
       "      <td>46 Ave &amp; 5 St</td>\n",
       "      <td>6286.02</td>\n",
       "      <td>34th Ave &amp; Vernon Blvd</td>\n",
       "      <td>6873.01</td>\n",
       "      <td>40.747310</td>\n",
       "      <td>-73.954510</td>\n",
       "      <td>40.765354</td>\n",
       "      <td>-73.939863</td>\n",
       "      <td>member</td>\n",
       "    </tr>\n",
       "    <tr>\n",
       "      <th>3</th>\n",
       "      <td>43E79A45997B7390</td>\n",
       "      <td>docked_bike</td>\n",
       "      <td>2021-05-01 08:38:14</td>\n",
       "      <td>2021-05-01 08:54:27</td>\n",
       "      <td>46 Ave &amp; 5 St</td>\n",
       "      <td>6286.02</td>\n",
       "      <td>34th Ave &amp; Vernon Blvd</td>\n",
       "      <td>6873.01</td>\n",
       "      <td>40.747310</td>\n",
       "      <td>-73.954510</td>\n",
       "      <td>40.765354</td>\n",
       "      <td>-73.939863</td>\n",
       "      <td>member</td>\n",
       "    </tr>\n",
       "    <tr>\n",
       "      <th>4</th>\n",
       "      <td>8B3CC649F4F58816</td>\n",
       "      <td>docked_bike</td>\n",
       "      <td>2021-05-09 08:12:31</td>\n",
       "      <td>2021-05-09 08:27:05</td>\n",
       "      <td>46 Ave &amp; 5 St</td>\n",
       "      <td>6286.02</td>\n",
       "      <td>34th Ave &amp; Vernon Blvd</td>\n",
       "      <td>6873.01</td>\n",
       "      <td>40.747310</td>\n",
       "      <td>-73.954510</td>\n",
       "      <td>40.765354</td>\n",
       "      <td>-73.939863</td>\n",
       "      <td>member</td>\n",
       "    </tr>\n",
       "  </tbody>\n",
       "</table>\n",
       "</div>"
      ],
      "text/plain": [
       "            ride_id rideable_type           started_at             ended_at  \\\n",
       "0  E12103A91226099A   docked_bike  2021-05-06 17:25:01  2021-05-06 17:45:25   \n",
       "1  26A3DC47FE0EA3A3   docked_bike  2021-05-13 12:48:08  2021-05-13 13:07:37   \n",
       "2  A99F2E1D627B088F   docked_bike  2021-05-16 08:30:13  2021-05-16 08:45:47   \n",
       "3  43E79A45997B7390   docked_bike  2021-05-01 08:38:14  2021-05-01 08:54:27   \n",
       "4  8B3CC649F4F58816   docked_bike  2021-05-09 08:12:31  2021-05-09 08:27:05   \n",
       "\n",
       "   start_station_name start_station_id        end_station_name end_station_id  \\\n",
       "0  Broadway & W 60 St          6948.11         1 Ave & E 78 St        7020.09   \n",
       "1  Broadway & W 25 St          6173.08       E 2 St & Avenue B        5515.02   \n",
       "2       46 Ave & 5 St          6286.02  34th Ave & Vernon Blvd        6873.01   \n",
       "3       46 Ave & 5 St          6286.02  34th Ave & Vernon Blvd        6873.01   \n",
       "4       46 Ave & 5 St          6286.02  34th Ave & Vernon Blvd        6873.01   \n",
       "\n",
       "   start_lat  start_lng    end_lat    end_lng member_casual  \n",
       "0  40.769155 -73.981918  40.771404 -73.953517        member  \n",
       "1  40.742868 -73.989186  40.722174 -73.983688        member  \n",
       "2  40.747310 -73.954510  40.765354 -73.939863        member  \n",
       "3  40.747310 -73.954510  40.765354 -73.939863        member  \n",
       "4  40.747310 -73.954510  40.765354 -73.939863        member  "
      ]
     },
     "execution_count": 38,
     "metadata": {},
     "output_type": "execute_result"
    }
   ],
   "source": [
    "# View data\n",
    "df.head(5)"
   ]
  },
  {
   "cell_type": "code",
   "execution_count": 39,
   "metadata": {},
   "outputs": [
    {
     "name": "stdout",
     "output_type": "stream",
     "text": [
      "rows: 27616822\n",
      "columns: 13\n"
     ]
    }
   ],
   "source": [
    "# How many rows and columns\n",
    "print('rows:', df.shape[0])\n",
    "print('columns:', df.shape[1])"
   ]
  },
  {
   "cell_type": "markdown",
   "metadata": {},
   "source": [
    "<br><br>\n",
    "\n",
    "## Clean and prepare the data"
   ]
  },
  {
   "cell_type": "markdown",
   "metadata": {},
   "source": [
    "#### Look at the data field types"
   ]
  },
  {
   "cell_type": "code",
   "execution_count": 40,
   "metadata": {},
   "outputs": [
    {
     "data": {
      "text/plain": [
       "ride_id                object\n",
       "rideable_type          object\n",
       "started_at             object\n",
       "ended_at               object\n",
       "start_station_name     object\n",
       "start_station_id       object\n",
       "end_station_name       object\n",
       "end_station_id         object\n",
       "start_lat             float64\n",
       "start_lng             float64\n",
       "end_lat               float64\n",
       "end_lng               float64\n",
       "member_casual          object\n",
       "dtype: object"
      ]
     },
     "execution_count": 40,
     "metadata": {},
     "output_type": "execute_result"
    }
   ],
   "source": [
    "df.dtypes"
   ]
  },
  {
   "cell_type": "code",
   "execution_count": 41,
   "metadata": {},
   "outputs": [],
   "source": [
    "# Convert date/times\n",
    "df['started_at'] = pd.to_datetime(df['started_at'])\n",
    "df['ended_at']   = pd.to_datetime(df['ended_at'])"
   ]
  },
  {
   "cell_type": "markdown",
   "metadata": {},
   "source": [
    "#### Check for null values"
   ]
  },
  {
   "cell_type": "code",
   "execution_count": 42,
   "metadata": {},
   "outputs": [
    {
     "data": {
      "text/plain": [
       "ride_id                    0\n",
       "rideable_type              0\n",
       "started_at                 0\n",
       "ended_at                   0\n",
       "start_station_name       492\n",
       "start_station_id         492\n",
       "end_station_name      103800\n",
       "end_station_id        103800\n",
       "start_lat                  0\n",
       "start_lng                  0\n",
       "end_lat                65401\n",
       "end_lng                65401\n",
       "member_casual              0\n",
       "dtype: int64"
      ]
     },
     "execution_count": 42,
     "metadata": {},
     "output_type": "execute_result"
    }
   ],
   "source": [
    "df.isnull().sum()"
   ]
  },
  {
   "cell_type": "markdown",
   "metadata": {},
   "source": [
    "#### Based on the above, we have a small portion of nulls in the station names (100 thousand rows out of 27.6 million)"
   ]
  },
  {
   "cell_type": "code",
   "execution_count": 43,
   "metadata": {},
   "outputs": [],
   "source": [
    "# fill null numeric columns with the value 0\n",
    "df[['end_lat','end_lng']] = df[['end_lat','end_lng']].fillna(value=0)"
   ]
  },
  {
   "cell_type": "code",
   "execution_count": 44,
   "metadata": {},
   "outputs": [],
   "source": [
    "# fill null string columns with the ''\n",
    "df[['start_station_name','start_station_id','end_station_name','end_station_id']] = \\\n",
    "     df[['start_station_name','start_station_id','end_station_name','end_station_id']].fillna(value='')"
   ]
  },
  {
   "cell_type": "code",
   "execution_count": 45,
   "metadata": {},
   "outputs": [
    {
     "data": {
      "text/plain": [
       "ride_id               0\n",
       "rideable_type         0\n",
       "started_at            0\n",
       "ended_at              0\n",
       "start_station_name    0\n",
       "start_station_id      0\n",
       "end_station_name      0\n",
       "end_station_id        0\n",
       "start_lat             0\n",
       "start_lng             0\n",
       "end_lat               0\n",
       "end_lng               0\n",
       "member_casual         0\n",
       "dtype: int64"
      ]
     },
     "execution_count": 45,
     "metadata": {},
     "output_type": "execute_result"
    }
   ],
   "source": [
    "# Recheck to be sure we have addressed the nulls\n",
    "df.isnull().sum()"
   ]
  },
  {
   "cell_type": "markdown",
   "metadata": {},
   "source": [
    "#### Let's add separate columns for Month#, Year, Hour for further analysis"
   ]
  },
  {
   "cell_type": "code",
   "execution_count": 46,
   "metadata": {},
   "outputs": [],
   "source": [
    "df['year']  = pd.DatetimeIndex(df['started_at']).year\n",
    "df['month'] = pd.DatetimeIndex(df['started_at']).month\n",
    "df['year-month'] = df['started_at'].dt.strftime('%Y-%m')\n",
    "df['hour_of_day'] = pd.DatetimeIndex(df['started_at']).hour"
   ]
  },
  {
   "cell_type": "markdown",
   "metadata": {},
   "source": [
    "#### Group by month to see the trips per month over time"
   ]
  },
  {
   "cell_type": "code",
   "execution_count": 47,
   "metadata": {},
   "outputs": [],
   "source": [
    "# Group the results by month\n",
    "df_bymonth = df.groupby(['year-month']).agg({'ride_id': 'count'}).copy().reset_index()\n",
    "\n",
    "# Rename to be \"count\"\n",
    "df_bymonth.rename(columns={'ride_id':'#trips'}, inplace=True)"
   ]
  },
  {
   "cell_type": "code",
   "execution_count": 48,
   "metadata": {},
   "outputs": [
    {
     "data": {
      "text/html": [
       "<div>\n",
       "<style scoped>\n",
       "    .dataframe tbody tr th:only-of-type {\n",
       "        vertical-align: middle;\n",
       "    }\n",
       "\n",
       "    .dataframe tbody tr th {\n",
       "        vertical-align: top;\n",
       "    }\n",
       "\n",
       "    .dataframe thead th {\n",
       "        text-align: right;\n",
       "    }\n",
       "</style>\n",
       "<table border=\"1\" class=\"dataframe\">\n",
       "  <thead>\n",
       "    <tr style=\"text-align: right;\">\n",
       "      <th></th>\n",
       "      <th>year-month</th>\n",
       "      <th>#trips</th>\n",
       "    </tr>\n",
       "  </thead>\n",
       "  <tbody>\n",
       "    <tr>\n",
       "      <th>0</th>\n",
       "      <td>2021-02</td>\n",
       "      <td>649983</td>\n",
       "    </tr>\n",
       "    <tr>\n",
       "      <th>1</th>\n",
       "      <td>2021-03</td>\n",
       "      <td>1531094</td>\n",
       "    </tr>\n",
       "    <tr>\n",
       "      <th>2</th>\n",
       "      <td>2021-04</td>\n",
       "      <td>2067669</td>\n",
       "    </tr>\n",
       "    <tr>\n",
       "      <th>3</th>\n",
       "      <td>2021-05</td>\n",
       "      <td>2724165</td>\n",
       "    </tr>\n",
       "    <tr>\n",
       "      <th>4</th>\n",
       "      <td>2021-06</td>\n",
       "      <td>3177517</td>\n",
       "    </tr>\n",
       "    <tr>\n",
       "      <th>5</th>\n",
       "      <td>2021-07</td>\n",
       "      <td>3084537</td>\n",
       "    </tr>\n",
       "    <tr>\n",
       "      <th>6</th>\n",
       "      <td>2021-08</td>\n",
       "      <td>3072478</td>\n",
       "    </tr>\n",
       "    <tr>\n",
       "      <th>7</th>\n",
       "      <td>2021-09</td>\n",
       "      <td>3280221</td>\n",
       "    </tr>\n",
       "    <tr>\n",
       "      <th>8</th>\n",
       "      <td>2021-10</td>\n",
       "      <td>3069239</td>\n",
       "    </tr>\n",
       "    <tr>\n",
       "      <th>9</th>\n",
       "      <td>2021-11</td>\n",
       "      <td>2159283</td>\n",
       "    </tr>\n",
       "    <tr>\n",
       "      <th>10</th>\n",
       "      <td>2021-12</td>\n",
       "      <td>1748287</td>\n",
       "    </tr>\n",
       "    <tr>\n",
       "      <th>11</th>\n",
       "      <td>2022-01</td>\n",
       "      <td>1052349</td>\n",
       "    </tr>\n",
       "  </tbody>\n",
       "</table>\n",
       "</div>"
      ],
      "text/plain": [
       "   year-month   #trips\n",
       "0     2021-02   649983\n",
       "1     2021-03  1531094\n",
       "2     2021-04  2067669\n",
       "3     2021-05  2724165\n",
       "4     2021-06  3177517\n",
       "5     2021-07  3084537\n",
       "6     2021-08  3072478\n",
       "7     2021-09  3280221\n",
       "8     2021-10  3069239\n",
       "9     2021-11  2159283\n",
       "10    2021-12  1748287\n",
       "11    2022-01  1052349"
      ]
     },
     "execution_count": 48,
     "metadata": {},
     "output_type": "execute_result"
    }
   ],
   "source": [
    "df_bymonth.head(12)"
   ]
  },
  {
   "cell_type": "code",
   "execution_count": 61,
   "metadata": {},
   "outputs": [
    {
     "data": {
      "text/plain": [
       "<Figure size 432x288 with 0 Axes>"
      ]
     },
     "metadata": {},
     "output_type": "display_data"
    },
    {
     "data": {
      "image/png": "[encoded data removed]",
      "text/plain": [
       "<Figure size 720x432 with 1 Axes>"
      ]
     },
     "metadata": {
      "needs_background": "light"
     },
     "output_type": "display_data"
    }
   ],
   "source": [
    "heading = 'Total Trips by Month (NYC)'\n",
    "\n",
    "plt.figure()\n",
    "ax = df_bymonth.plot.line(stacked=False, x='year-month', figsize=(10,6), title=heading)\n",
    "ax.set_ylabel('Number of Trips')\n",
    "    \n",
    "# Display to screen\n",
    "plt.show()"
   ]
  },
  {
   "cell_type": "markdown",
   "metadata": {},
   "source": [
    "### Let's now group by start station\n",
    "#### We'll get the count and one lat/long per start station to be able to plot on a map"
   ]
  },
  {
   "cell_type": "code",
   "execution_count": 50,
   "metadata": {},
   "outputs": [],
   "source": [
    "grp = df.groupby(['start_station_name'])\n",
    "\n",
    "df_bystation = grp.agg({'ride_id': 'count', 'start_lat': 'max', 'start_lng': 'min'}).copy().reset_index()\n",
    "\n",
    "# Rename to be \"count\"\n",
    "df_bystation.rename(columns={'ride_id':'#trips'}, inplace=True)"
   ]
  },
  {
   "cell_type": "code",
   "execution_count": 51,
   "metadata": {},
   "outputs": [
    {
     "data": {
      "text/html": [
       "<div>\n",
       "<style scoped>\n",
       "    .dataframe tbody tr th:only-of-type {\n",
       "        vertical-align: middle;\n",
       "    }\n",
       "\n",
       "    .dataframe tbody tr th {\n",
       "        vertical-align: top;\n",
       "    }\n",
       "\n",
       "    .dataframe thead th {\n",
       "        text-align: right;\n",
       "    }\n",
       "</style>\n",
       "<table border=\"1\" class=\"dataframe\">\n",
       "  <thead>\n",
       "    <tr style=\"text-align: right;\">\n",
       "      <th></th>\n",
       "      <th>start_station_name</th>\n",
       "      <th>#trips</th>\n",
       "      <th>start_lat</th>\n",
       "      <th>start_lng</th>\n",
       "    </tr>\n",
       "  </thead>\n",
       "  <tbody>\n",
       "    <tr>\n",
       "      <th>0</th>\n",
       "      <td></td>\n",
       "      <td>492</td>\n",
       "      <td>40.760000</td>\n",
       "      <td>-74.010000</td>\n",
       "    </tr>\n",
       "    <tr>\n",
       "      <th>1</th>\n",
       "      <td>1 Ave &amp; E 110 St</td>\n",
       "      <td>20827</td>\n",
       "      <td>40.792327</td>\n",
       "      <td>-73.938300</td>\n",
       "    </tr>\n",
       "    <tr>\n",
       "      <th>2</th>\n",
       "      <td>1 Ave &amp; E 16 St</td>\n",
       "      <td>82693</td>\n",
       "      <td>40.732219</td>\n",
       "      <td>-73.985302</td>\n",
       "    </tr>\n",
       "    <tr>\n",
       "      <th>3</th>\n",
       "      <td>1 Ave &amp; E 18 St</td>\n",
       "      <td>69735</td>\n",
       "      <td>40.733812</td>\n",
       "      <td>-73.980544</td>\n",
       "    </tr>\n",
       "    <tr>\n",
       "      <th>4</th>\n",
       "      <td>1 Ave &amp; E 30 St</td>\n",
       "      <td>46177</td>\n",
       "      <td>40.741444</td>\n",
       "      <td>-73.976806</td>\n",
       "    </tr>\n",
       "    <tr>\n",
       "      <th>5</th>\n",
       "      <td>1 Ave &amp; E 39 St</td>\n",
       "      <td>62874</td>\n",
       "      <td>40.747140</td>\n",
       "      <td>-73.971130</td>\n",
       "    </tr>\n",
       "    <tr>\n",
       "      <th>6</th>\n",
       "      <td>1 Ave &amp; E 44 St</td>\n",
       "      <td>29151</td>\n",
       "      <td>40.750020</td>\n",
       "      <td>-73.969053</td>\n",
       "    </tr>\n",
       "    <tr>\n",
       "      <th>7</th>\n",
       "      <td>1 Ave &amp; E 5 St</td>\n",
       "      <td>6658</td>\n",
       "      <td>40.725864</td>\n",
       "      <td>-73.986389</td>\n",
       "    </tr>\n",
       "    <tr>\n",
       "      <th>8</th>\n",
       "      <td>1 Ave &amp; E 6 St</td>\n",
       "      <td>55022</td>\n",
       "      <td>40.726331</td>\n",
       "      <td>-73.986169</td>\n",
       "    </tr>\n",
       "    <tr>\n",
       "      <th>9</th>\n",
       "      <td>1 Ave &amp; E 62 St</td>\n",
       "      <td>63140</td>\n",
       "      <td>40.761227</td>\n",
       "      <td>-73.960940</td>\n",
       "    </tr>\n",
       "  </tbody>\n",
       "</table>\n",
       "</div>"
      ],
      "text/plain": [
       "  start_station_name  #trips  start_lat  start_lng\n",
       "0                        492  40.760000 -74.010000\n",
       "1   1 Ave & E 110 St   20827  40.792327 -73.938300\n",
       "2    1 Ave & E 16 St   82693  40.732219 -73.985302\n",
       "3    1 Ave & E 18 St   69735  40.733812 -73.980544\n",
       "4    1 Ave & E 30 St   46177  40.741444 -73.976806\n",
       "5    1 Ave & E 39 St   62874  40.747140 -73.971130\n",
       "6    1 Ave & E 44 St   29151  40.750020 -73.969053\n",
       "7     1 Ave & E 5 St    6658  40.725864 -73.986389\n",
       "8     1 Ave & E 6 St   55022  40.726331 -73.986169\n",
       "9    1 Ave & E 62 St   63140  40.761227 -73.960940"
      ]
     },
     "execution_count": 51,
     "metadata": {},
     "output_type": "execute_result"
    }
   ],
   "source": [
    "df_bystation.head(10)"
   ]
  },
  {
   "cell_type": "markdown",
   "metadata": {},
   "source": [
    "#### How many stations are there?"
   ]
  },
  {
   "cell_type": "code",
   "execution_count": 52,
   "metadata": {},
   "outputs": [
    {
     "data": {
      "text/plain": [
       "(1586, 4)"
      ]
     },
     "execution_count": 52,
     "metadata": {},
     "output_type": "execute_result"
    }
   ],
   "source": [
    "df_bystation.shape"
   ]
  },
  {
   "cell_type": "markdown",
   "metadata": {},
   "source": [
    "#### What are the top stations?"
   ]
  },
  {
   "cell_type": "code",
   "execution_count": 53,
   "metadata": {},
   "outputs": [
    {
     "data": {
      "text/html": [
       "<div>\n",
       "<style scoped>\n",
       "    .dataframe tbody tr th:only-of-type {\n",
       "        vertical-align: middle;\n",
       "    }\n",
       "\n",
       "    .dataframe tbody tr th {\n",
       "        vertical-align: top;\n",
       "    }\n",
       "\n",
       "    .dataframe thead th {\n",
       "        text-align: right;\n",
       "    }\n",
       "</style>\n",
       "<table border=\"1\" class=\"dataframe\">\n",
       "  <thead>\n",
       "    <tr style=\"text-align: right;\">\n",
       "      <th></th>\n",
       "      <th>start_station_name</th>\n",
       "      <th>#trips</th>\n",
       "      <th>start_lat</th>\n",
       "      <th>start_lng</th>\n",
       "    </tr>\n",
       "  </thead>\n",
       "  <tbody>\n",
       "    <tr>\n",
       "      <th>1429</th>\n",
       "      <td>W 21 St &amp; 6 Ave</td>\n",
       "      <td>128542</td>\n",
       "      <td>40.741740</td>\n",
       "      <td>-73.994156</td>\n",
       "    </tr>\n",
       "    <tr>\n",
       "      <th>679</th>\n",
       "      <td>E 17 St &amp; Broadway</td>\n",
       "      <td>122854</td>\n",
       "      <td>40.740259</td>\n",
       "      <td>-73.997249</td>\n",
       "    </tr>\n",
       "    <tr>\n",
       "      <th>10</th>\n",
       "      <td>1 Ave &amp; E 68 St</td>\n",
       "      <td>110955</td>\n",
       "      <td>40.765005</td>\n",
       "      <td>-73.958185</td>\n",
       "    </tr>\n",
       "    <tr>\n",
       "      <th>1549</th>\n",
       "      <td>West St &amp; Chambers St</td>\n",
       "      <td>109129</td>\n",
       "      <td>40.717548</td>\n",
       "      <td>-74.013221</td>\n",
       "    </tr>\n",
       "    <tr>\n",
       "      <th>418</th>\n",
       "      <td>Broadway &amp; W 25 St</td>\n",
       "      <td>101411</td>\n",
       "      <td>40.742869</td>\n",
       "      <td>-73.989186</td>\n",
       "    </tr>\n",
       "    <tr>\n",
       "      <th>514</th>\n",
       "      <td>Cleveland Pl &amp; Spring St</td>\n",
       "      <td>101008</td>\n",
       "      <td>40.722104</td>\n",
       "      <td>-74.005524</td>\n",
       "    </tr>\n",
       "    <tr>\n",
       "      <th>395</th>\n",
       "      <td>Broadway &amp; E 14 St</td>\n",
       "      <td>98920</td>\n",
       "      <td>40.734592</td>\n",
       "      <td>-73.990787</td>\n",
       "    </tr>\n",
       "    <tr>\n",
       "      <th>249</th>\n",
       "      <td>6 Ave &amp; W 33 St</td>\n",
       "      <td>96432</td>\n",
       "      <td>40.750200</td>\n",
       "      <td>-73.990931</td>\n",
       "    </tr>\n",
       "    <tr>\n",
       "      <th>636</th>\n",
       "      <td>E 13 St &amp; Avenue A</td>\n",
       "      <td>94655</td>\n",
       "      <td>40.729667</td>\n",
       "      <td>-73.980680</td>\n",
       "    </tr>\n",
       "    <tr>\n",
       "      <th>1550</th>\n",
       "      <td>West St &amp; Liberty St</td>\n",
       "      <td>94489</td>\n",
       "      <td>40.711444</td>\n",
       "      <td>-74.014847</td>\n",
       "    </tr>\n",
       "    <tr>\n",
       "      <th>462</th>\n",
       "      <td>Carmine St &amp; 6 Ave</td>\n",
       "      <td>93589</td>\n",
       "      <td>40.730386</td>\n",
       "      <td>-74.002150</td>\n",
       "    </tr>\n",
       "    <tr>\n",
       "      <th>1358</th>\n",
       "      <td>University Pl &amp; E 14 St</td>\n",
       "      <td>92063</td>\n",
       "      <td>40.734814</td>\n",
       "      <td>-73.992085</td>\n",
       "    </tr>\n",
       "    <tr>\n",
       "      <th>707</th>\n",
       "      <td>E 33 St &amp; 1 Ave</td>\n",
       "      <td>91671</td>\n",
       "      <td>40.743227</td>\n",
       "      <td>-73.974498</td>\n",
       "    </tr>\n",
       "    <tr>\n",
       "      <th>264</th>\n",
       "      <td>7 Ave &amp; Central Park South</td>\n",
       "      <td>90881</td>\n",
       "      <td>40.766741</td>\n",
       "      <td>-73.979069</td>\n",
       "    </tr>\n",
       "    <tr>\n",
       "      <th>491</th>\n",
       "      <td>Central Park S &amp; 6 Ave</td>\n",
       "      <td>90772</td>\n",
       "      <td>40.765909</td>\n",
       "      <td>-73.976557</td>\n",
       "    </tr>\n",
       "    <tr>\n",
       "      <th>280</th>\n",
       "      <td>9 Ave &amp; W 22 St</td>\n",
       "      <td>89776</td>\n",
       "      <td>40.745497</td>\n",
       "      <td>-74.001971</td>\n",
       "    </tr>\n",
       "    <tr>\n",
       "      <th>900</th>\n",
       "      <td>Grand St &amp; Elizabeth St</td>\n",
       "      <td>89342</td>\n",
       "      <td>40.718822</td>\n",
       "      <td>-73.995960</td>\n",
       "    </tr>\n",
       "    <tr>\n",
       "      <th>31</th>\n",
       "      <td>12 Ave &amp; W 40 St</td>\n",
       "      <td>88544</td>\n",
       "      <td>40.760875</td>\n",
       "      <td>-74.002777</td>\n",
       "    </tr>\n",
       "    <tr>\n",
       "      <th>26</th>\n",
       "      <td>11 Ave &amp; W 41 St</td>\n",
       "      <td>87523</td>\n",
       "      <td>40.760301</td>\n",
       "      <td>-73.998842</td>\n",
       "    </tr>\n",
       "    <tr>\n",
       "      <th>2</th>\n",
       "      <td>1 Ave &amp; E 16 St</td>\n",
       "      <td>82693</td>\n",
       "      <td>40.732219</td>\n",
       "      <td>-73.985302</td>\n",
       "    </tr>\n",
       "  </tbody>\n",
       "</table>\n",
       "</div>"
      ],
      "text/plain": [
       "              start_station_name  #trips  start_lat  start_lng\n",
       "1429             W 21 St & 6 Ave  128542  40.741740 -73.994156\n",
       "679           E 17 St & Broadway  122854  40.740259 -73.997249\n",
       "10               1 Ave & E 68 St  110955  40.765005 -73.958185\n",
       "1549       West St & Chambers St  109129  40.717548 -74.013221\n",
       "418           Broadway & W 25 St  101411  40.742869 -73.989186\n",
       "514     Cleveland Pl & Spring St  101008  40.722104 -74.005524\n",
       "395           Broadway & E 14 St   98920  40.734592 -73.990787\n",
       "249              6 Ave & W 33 St   96432  40.750200 -73.990931\n",
       "636           E 13 St & Avenue A   94655  40.729667 -73.980680\n",
       "1550        West St & Liberty St   94489  40.711444 -74.014847\n",
       "462           Carmine St & 6 Ave   93589  40.730386 -74.002150\n",
       "1358     University Pl & E 14 St   92063  40.734814 -73.992085\n",
       "707              E 33 St & 1 Ave   91671  40.743227 -73.974498\n",
       "264   7 Ave & Central Park South   90881  40.766741 -73.979069\n",
       "491       Central Park S & 6 Ave   90772  40.765909 -73.976557\n",
       "280              9 Ave & W 22 St   89776  40.745497 -74.001971\n",
       "900      Grand St & Elizabeth St   89342  40.718822 -73.995960\n",
       "31              12 Ave & W 40 St   88544  40.760875 -74.002777\n",
       "26              11 Ave & W 41 St   87523  40.760301 -73.998842\n",
       "2                1 Ave & E 16 St   82693  40.732219 -73.985302"
      ]
     },
     "execution_count": 53,
     "metadata": {},
     "output_type": "execute_result"
    }
   ],
   "source": [
    "df_bystation.nlargest(20,'#trips')"
   ]
  },
  {
   "cell_type": "markdown",
   "metadata": {},
   "source": [
    "### Summarize by Rideable Type"
   ]
  },
  {
   "cell_type": "code",
   "execution_count": 63,
   "metadata": {},
   "outputs": [],
   "source": [
    "df_bytype = df.groupby(['rideable_type']).agg({'ride_id': 'count'}).copy().reset_index()\n",
    "\n",
    "df_bytype.rename(columns={'ride_id':'#trips'}, inplace=True)"
   ]
  },
  {
   "cell_type": "code",
   "execution_count": 64,
   "metadata": {},
   "outputs": [
    {
     "data": {
      "text/html": [
       "<div>\n",
       "<style scoped>\n",
       "    .dataframe tbody tr th:only-of-type {\n",
       "        vertical-align: middle;\n",
       "    }\n",
       "\n",
       "    .dataframe tbody tr th {\n",
       "        vertical-align: top;\n",
       "    }\n",
       "\n",
       "    .dataframe thead th {\n",
       "        text-align: right;\n",
       "    }\n",
       "</style>\n",
       "<table border=\"1\" class=\"dataframe\">\n",
       "  <thead>\n",
       "    <tr style=\"text-align: right;\">\n",
       "      <th></th>\n",
       "      <th>rideable_type</th>\n",
       "      <th>#trips</th>\n",
       "    </tr>\n",
       "  </thead>\n",
       "  <tbody>\n",
       "    <tr>\n",
       "      <th>0</th>\n",
       "      <td>classic_bike</td>\n",
       "      <td>18432181</td>\n",
       "    </tr>\n",
       "    <tr>\n",
       "      <th>1</th>\n",
       "      <td>docked_bike</td>\n",
       "      <td>9184134</td>\n",
       "    </tr>\n",
       "    <tr>\n",
       "      <th>2</th>\n",
       "      <td>electric_bike</td>\n",
       "      <td>507</td>\n",
       "    </tr>\n",
       "  </tbody>\n",
       "</table>\n",
       "</div>"
      ],
      "text/plain": [
       "   rideable_type    #trips\n",
       "0   classic_bike  18432181\n",
       "1    docked_bike   9184134\n",
       "2  electric_bike       507"
      ]
     },
     "execution_count": 64,
     "metadata": {},
     "output_type": "execute_result"
    }
   ],
   "source": [
    "df_bytype.head(100)"
   ]
  },
  {
   "cell_type": "code",
   "execution_count": 70,
   "metadata": {},
   "outputs": [
    {
     "data": {
      "text/plain": [
       "<Figure size 432x288 with 0 Axes>"
      ]
     },
     "metadata": {},
     "output_type": "display_data"
    },
    {
     "data": {
      "image/png": "[encoded data removed]",
      "text/plain": [
       "<Figure size 720x432 with 1 Axes>"
      ]
     },
     "metadata": {
      "needs_background": "light"
     },
     "output_type": "display_data"
    }
   ],
   "source": [
    "heading = 'Total Trips by Bike Type (NYC)'\n",
    "\n",
    "plt.figure()\n",
    "ax = df_bytype.plot.bar(stacked=False, x='rideable_type', figsize=(10,6), title=heading)\n",
    "ax.set_ylabel('Number of Trips')\n",
    "    \n",
    "plt.show()"
   ]
  },
  {
   "cell_type": "markdown",
   "metadata": {},
   "source": [
    "### Summarize by Member Type"
   ]
  },
  {
   "cell_type": "code",
   "execution_count": 66,
   "metadata": {},
   "outputs": [],
   "source": [
    "df_bymembertype = df.groupby(['member_casual']).agg({'ride_id': 'count'}).copy().reset_index()\n",
    "\n",
    "df_bymembertype.rename(columns={'ride_id':'#trips'}, inplace=True)"
   ]
  },
  {
   "cell_type": "code",
   "execution_count": 73,
   "metadata": {},
   "outputs": [
    {
     "data": {
      "text/plain": [
       "<Figure size 432x288 with 0 Axes>"
      ]
     },
     "metadata": {},
     "output_type": "display_data"
    },
    {
     "data": {
      "image/png": "[encoded data removed]",
      "text/plain": [
       "<Figure size 720x432 with 1 Axes>"
      ]
     },
     "metadata": {
      "needs_background": "light"
     },
     "output_type": "display_data"
    }
   ],
   "source": [
    "heading = 'Total Trips by Member Type (NYC)'\n",
    "\n",
    "plt.figure()\n",
    "ax = df_bymembertype.plot.bar(stacked=False, x='member_casual', y='#trips', figsize=(10,6), title=heading)\n",
    "ax.set_ylabel('Number of Trips')\n",
    "\n",
    "plt.show()"
   ]
  },
  {
   "cell_type": "code",
   "execution_count": null,
   "metadata": {},
   "outputs": [],
   "source": []
  }
 ],
 "metadata": {
  "colab": {
   "name": "CMSC 436 Final Project - GitHub Analysis.ipynb",
   "provenance": [],
   "toc_visible": true
  },
  "kernelspec": {
   "display_name": "Python 3",
   "language": "python",
   "name": "python3"
  },
  "language_info": {
   "codemirror_mode": {
    "name": "ipython",
    "version": 3
   },
   "file_extension": ".py",
   "mimetype": "text/x-python",
   "name": "python",
   "nbconvert_exporter": "python",
   "pygments_lexer": "ipython3",
   "version": "3.7.3"
  }
 },
 "nbformat": 4,
 "nbformat_minor": 4
}
